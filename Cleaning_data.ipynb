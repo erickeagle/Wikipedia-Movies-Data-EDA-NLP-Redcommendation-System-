{
 "cells": [
  {
   "cell_type": "code",
   "execution_count": 1,
   "id": "efe88ca0",
   "metadata": {},
   "outputs": [],
   "source": [
    "#importing libraries"
   ]
  },
  {
   "cell_type": "code",
   "execution_count": 2,
   "id": "0dc960dd",
   "metadata": {},
   "outputs": [],
   "source": [
    "import pandas as pd\n",
    "import pandas as pd\n",
    "import numpy as np\n",
    "import matplotlib.pyplot as plt\n",
    "import seaborn as sns\n",
    "\n",
    "import warnings\n",
    "warnings.filterwarnings(\"ignore\")\n",
    "\n",
    "import nltk"
   ]
  },
  {
   "cell_type": "code",
   "execution_count": 3,
   "id": "39eb700a",
   "metadata": {},
   "outputs": [
    {
     "name": "stdout",
     "output_type": "stream",
     "text": [
      "Wall time: 653 ms\n"
     ]
    }
   ],
   "source": [
    "%%time\n",
    "df=pd.read_csv('wiki_movie_plots_deduped.csv')"
   ]
  },
  {
   "cell_type": "code",
   "execution_count": 4,
   "id": "20563960",
   "metadata": {},
   "outputs": [
    {
     "data": {
      "text/plain": [
       "0        A bartender is working at a saloon, serving dr...\n",
       "1        The moon, painted with a smiling face hangs ov...\n",
       "2        The film, just over a minute long, is composed...\n",
       "3        Lasting just 61 seconds and consisting of two ...\n",
       "4        The earliest known adaptation of the classic f...\n",
       "                               ...                        \n",
       "34881    The film begins in 1919, just after World War ...\n",
       "34882    Two musicians, Salih and Gürkan, described the...\n",
       "34883    Zafer, a sailor living with his mother Döndü i...\n",
       "34884    The film centres around a young woman named Am...\n",
       "34885    The writer Orhan Şahin returns to İstanbul aft...\n",
       "Name: Plot, Length: 34886, dtype: object"
      ]
     },
     "execution_count": 4,
     "metadata": {},
     "output_type": "execute_result"
    }
   ],
   "source": [
    "df['Plot']"
   ]
  },
  {
   "cell_type": "code",
   "execution_count": null,
   "id": "939c98e9",
   "metadata": {},
   "outputs": [],
   "source": [
    "\n"
   ]
  },
  {
   "cell_type": "markdown",
   "id": "336158da",
   "metadata": {},
   "source": [
    "### List of punctuations"
   ]
  },
  {
   "cell_type": "code",
   "execution_count": 5,
   "id": "de7de573",
   "metadata": {},
   "outputs": [
    {
     "data": {
      "text/plain": [
       "'!\"#$%&\\'()*+,-./:;<=>?@[\\\\]^_`{|}~'"
      ]
     },
     "execution_count": 5,
     "metadata": {},
     "output_type": "execute_result"
    }
   ],
   "source": [
    "import string\n",
    "string.punctuation"
   ]
  },
  {
   "cell_type": "markdown",
   "id": "281964aa",
   "metadata": {},
   "source": [
    "### Functions for cleaning the data"
   ]
  },
  {
   "cell_type": "code",
   "execution_count": 11,
   "id": "20e62a1b",
   "metadata": {},
   "outputs": [],
   "source": [
    "def remove_punctuation(text):\n",
    "    return ''.join([words.lower() for words in text if words not in string.punctuation])\n",
    "\n",
    "\n",
    "def tokenization(text):\n",
    "    return nltk.tokenize.word_tokenize(text)\n",
    "\n",
    "\n",
    "stopwords = nltk.corpus.stopwords.words('english')\n",
    "def stopwards(words):\n",
    "    return [i for i in words if i not in stopwords]\n",
    "\n",
    "lemma= nltk.WordNetLemmatizer()\n",
    "\n",
    "def lemmatization(words):\n",
    "    return [lemma.lemmatize(word) for word in words]\n",
    "    "
   ]
  },
  {
   "cell_type": "markdown",
   "id": "c426c539",
   "metadata": {},
   "source": [
    "### Removing the Pucntations"
   ]
  },
  {
   "cell_type": "code",
   "execution_count": 7,
   "id": "7bf05ec6",
   "metadata": {},
   "outputs": [
    {
     "name": "stdout",
     "output_type": "stream",
     "text": [
      "Wall time: 11.5 s\n"
     ]
    }
   ],
   "source": [
    "%%time\n",
    "df['plot_without_punct']=df['Plot'].apply(lambda x: remove_punctuation(x))"
   ]
  },
  {
   "cell_type": "markdown",
   "id": "2639d97a",
   "metadata": {},
   "source": [
    "### Tokenizing the words"
   ]
  },
  {
   "cell_type": "code",
   "execution_count": 8,
   "id": "2d218aa0",
   "metadata": {},
   "outputs": [
    {
     "name": "stdout",
     "output_type": "stream",
     "text": [
      "Wall time: 37.2 s\n"
     ]
    }
   ],
   "source": [
    "%%time\n",
    "df['plot_tokenized']=df['plot_without_punct'].apply(lambda x: tokenization(x))"
   ]
  },
  {
   "cell_type": "markdown",
   "id": "2cf0fe4a",
   "metadata": {},
   "source": [
    "### Removing the Stopwords"
   ]
  },
  {
   "cell_type": "code",
   "execution_count": 9,
   "id": "f7ef1aa6",
   "metadata": {},
   "outputs": [
    {
     "name": "stdout",
     "output_type": "stream",
     "text": [
      "Wall time: 18.7 s\n"
     ]
    }
   ],
   "source": [
    "%%time \n",
    "df['plot_tokenized_removed_sw']=df['plot_tokenized'].apply(lambda x: stopwards(x))"
   ]
  },
  {
   "cell_type": "markdown",
   "id": "a6823c39",
   "metadata": {},
   "source": [
    "### Lemmatization"
   ]
  },
  {
   "cell_type": "code",
   "execution_count": 12,
   "id": "90d54163",
   "metadata": {},
   "outputs": [
    {
     "name": "stdout",
     "output_type": "stream",
     "text": [
      "Wall time: 47.8 s\n"
     ]
    }
   ],
   "source": [
    "%%time \n",
    "df['plot_lemma']=df['plot_tokenized_removed_sw'].apply(lambda x: lemmatization(x))\n"
   ]
  },
  {
   "cell_type": "code",
   "execution_count": 13,
   "id": "b2c8dc06",
   "metadata": {},
   "outputs": [
    {
     "data": {
      "text/html": [
       "<div>\n",
       "<style scoped>\n",
       "    .dataframe tbody tr th:only-of-type {\n",
       "        vertical-align: middle;\n",
       "    }\n",
       "\n",
       "    .dataframe tbody tr th {\n",
       "        vertical-align: top;\n",
       "    }\n",
       "\n",
       "    .dataframe thead th {\n",
       "        text-align: right;\n",
       "    }\n",
       "</style>\n",
       "<table border=\"1\" class=\"dataframe\">\n",
       "  <thead>\n",
       "    <tr style=\"text-align: right;\">\n",
       "      <th></th>\n",
       "      <th>Release Year</th>\n",
       "      <th>Title</th>\n",
       "      <th>Origin/Ethnicity</th>\n",
       "      <th>Director</th>\n",
       "      <th>Cast</th>\n",
       "      <th>Genre</th>\n",
       "      <th>Wiki Page</th>\n",
       "      <th>Plot</th>\n",
       "      <th>plot_without_punct</th>\n",
       "      <th>plot_tokenized</th>\n",
       "      <th>plot_tokenized_removed_sw</th>\n",
       "      <th>plot_lemma</th>\n",
       "    </tr>\n",
       "  </thead>\n",
       "  <tbody>\n",
       "    <tr>\n",
       "      <th>0</th>\n",
       "      <td>1901</td>\n",
       "      <td>Kansas Saloon Smashers</td>\n",
       "      <td>American</td>\n",
       "      <td>Unknown</td>\n",
       "      <td>NaN</td>\n",
       "      <td>unknown</td>\n",
       "      <td>https://en.wikipedia.org/wiki/Kansas_Saloon_Sm...</td>\n",
       "      <td>A bartender is working at a saloon, serving dr...</td>\n",
       "      <td>a bartender is working at a saloon serving dri...</td>\n",
       "      <td>[a, bartender, is, working, at, a, saloon, ser...</td>\n",
       "      <td>[bartender, working, saloon, serving, drinks, ...</td>\n",
       "      <td>[bartender, working, saloon, serving, drink, c...</td>\n",
       "    </tr>\n",
       "    <tr>\n",
       "      <th>1</th>\n",
       "      <td>1901</td>\n",
       "      <td>Love by the Light of the Moon</td>\n",
       "      <td>American</td>\n",
       "      <td>Unknown</td>\n",
       "      <td>NaN</td>\n",
       "      <td>unknown</td>\n",
       "      <td>https://en.wikipedia.org/wiki/Love_by_the_Ligh...</td>\n",
       "      <td>The moon, painted with a smiling face hangs ov...</td>\n",
       "      <td>the moon painted with a smiling face hangs ove...</td>\n",
       "      <td>[the, moon, painted, with, a, smiling, face, h...</td>\n",
       "      <td>[moon, painted, smiling, face, hangs, park, ni...</td>\n",
       "      <td>[moon, painted, smiling, face, hang, park, nig...</td>\n",
       "    </tr>\n",
       "    <tr>\n",
       "      <th>2</th>\n",
       "      <td>1901</td>\n",
       "      <td>The Martyred Presidents</td>\n",
       "      <td>American</td>\n",
       "      <td>Unknown</td>\n",
       "      <td>NaN</td>\n",
       "      <td>unknown</td>\n",
       "      <td>https://en.wikipedia.org/wiki/The_Martyred_Pre...</td>\n",
       "      <td>The film, just over a minute long, is composed...</td>\n",
       "      <td>the film just over a minute long is composed o...</td>\n",
       "      <td>[the, film, just, over, a, minute, long, is, c...</td>\n",
       "      <td>[film, minute, long, composed, two, shots, fir...</td>\n",
       "      <td>[film, minute, long, composed, two, shot, firs...</td>\n",
       "    </tr>\n",
       "    <tr>\n",
       "      <th>3</th>\n",
       "      <td>1901</td>\n",
       "      <td>Terrible Teddy, the Grizzly King</td>\n",
       "      <td>American</td>\n",
       "      <td>Unknown</td>\n",
       "      <td>NaN</td>\n",
       "      <td>unknown</td>\n",
       "      <td>https://en.wikipedia.org/wiki/Terrible_Teddy,_...</td>\n",
       "      <td>Lasting just 61 seconds and consisting of two ...</td>\n",
       "      <td>lasting just 61 seconds and consisting of two ...</td>\n",
       "      <td>[lasting, just, 61, seconds, and, consisting, ...</td>\n",
       "      <td>[lasting, 61, seconds, consisting, two, shots,...</td>\n",
       "      <td>[lasting, 61, second, consisting, two, shot, f...</td>\n",
       "    </tr>\n",
       "    <tr>\n",
       "      <th>4</th>\n",
       "      <td>1902</td>\n",
       "      <td>Jack and the Beanstalk</td>\n",
       "      <td>American</td>\n",
       "      <td>George S. Fleming, Edwin S. Porter</td>\n",
       "      <td>NaN</td>\n",
       "      <td>unknown</td>\n",
       "      <td>https://en.wikipedia.org/wiki/Jack_and_the_Bea...</td>\n",
       "      <td>The earliest known adaptation of the classic f...</td>\n",
       "      <td>the earliest known adaptation of the classic f...</td>\n",
       "      <td>[the, earliest, known, adaptation, of, the, cl...</td>\n",
       "      <td>[earliest, known, adaptation, classic, fairyta...</td>\n",
       "      <td>[earliest, known, adaptation, classic, fairyta...</td>\n",
       "    </tr>\n",
       "    <tr>\n",
       "      <th>...</th>\n",
       "      <td>...</td>\n",
       "      <td>...</td>\n",
       "      <td>...</td>\n",
       "      <td>...</td>\n",
       "      <td>...</td>\n",
       "      <td>...</td>\n",
       "      <td>...</td>\n",
       "      <td>...</td>\n",
       "      <td>...</td>\n",
       "      <td>...</td>\n",
       "      <td>...</td>\n",
       "      <td>...</td>\n",
       "    </tr>\n",
       "    <tr>\n",
       "      <th>34881</th>\n",
       "      <td>2014</td>\n",
       "      <td>The Water Diviner</td>\n",
       "      <td>Turkish</td>\n",
       "      <td>Director: Russell Crowe</td>\n",
       "      <td>Director: Russell Crowe\\r\\nCast: Russell Crowe...</td>\n",
       "      <td>unknown</td>\n",
       "      <td>https://en.wikipedia.org/wiki/The_Water_Diviner</td>\n",
       "      <td>The film begins in 1919, just after World War ...</td>\n",
       "      <td>the film begins in 1919 just after world war i...</td>\n",
       "      <td>[the, film, begins, in, 1919, just, after, wor...</td>\n",
       "      <td>[film, begins, 1919, world, war, ended, centre...</td>\n",
       "      <td>[film, begin, 1919, world, war, ended, centre,...</td>\n",
       "    </tr>\n",
       "    <tr>\n",
       "      <th>34882</th>\n",
       "      <td>2017</td>\n",
       "      <td>Çalgı Çengi İkimiz</td>\n",
       "      <td>Turkish</td>\n",
       "      <td>Selçuk Aydemir</td>\n",
       "      <td>Ahmet Kural, Murat Cemcir</td>\n",
       "      <td>comedy</td>\n",
       "      <td>https://en.wikipedia.org/wiki/%C3%87alg%C4%B1_...</td>\n",
       "      <td>Two musicians, Salih and Gürkan, described the...</td>\n",
       "      <td>two musicians salih and gürkan described the a...</td>\n",
       "      <td>[two, musicians, salih, and, gürkan, described...</td>\n",
       "      <td>[two, musicians, salih, gürkan, described, adv...</td>\n",
       "      <td>[two, musician, salih, gürkan, described, adve...</td>\n",
       "    </tr>\n",
       "    <tr>\n",
       "      <th>34883</th>\n",
       "      <td>2017</td>\n",
       "      <td>Olanlar Oldu</td>\n",
       "      <td>Turkish</td>\n",
       "      <td>Hakan Algül</td>\n",
       "      <td>Ata Demirer, Tuvana Türkay, Ülkü Duru</td>\n",
       "      <td>comedy</td>\n",
       "      <td>https://en.wikipedia.org/wiki/Olanlar_Oldu</td>\n",
       "      <td>Zafer, a sailor living with his mother Döndü i...</td>\n",
       "      <td>zafer a sailor living with his mother döndü in...</td>\n",
       "      <td>[zafer, a, sailor, living, with, his, mother, ...</td>\n",
       "      <td>[zafer, sailor, living, mother, döndü, coastal...</td>\n",
       "      <td>[zafer, sailor, living, mother, döndü, coastal...</td>\n",
       "    </tr>\n",
       "    <tr>\n",
       "      <th>34884</th>\n",
       "      <td>2017</td>\n",
       "      <td>Non-Transferable</td>\n",
       "      <td>Turkish</td>\n",
       "      <td>Brendan Bradley</td>\n",
       "      <td>YouTubers Shanna Malcolm, Shira Lazar, Sara Fl...</td>\n",
       "      <td>romantic comedy</td>\n",
       "      <td>https://en.wikipedia.org/wiki/Non-Transferable...</td>\n",
       "      <td>The film centres around a young woman named Am...</td>\n",
       "      <td>the film centres around a young woman named am...</td>\n",
       "      <td>[the, film, centres, around, a, young, woman, ...</td>\n",
       "      <td>[film, centres, around, young, woman, named, a...</td>\n",
       "      <td>[film, centre, around, young, woman, named, am...</td>\n",
       "    </tr>\n",
       "    <tr>\n",
       "      <th>34885</th>\n",
       "      <td>2017</td>\n",
       "      <td>İstanbul Kırmızısı</td>\n",
       "      <td>Turkish</td>\n",
       "      <td>Ferzan Özpetek</td>\n",
       "      <td>Halit Ergenç, Tuba Büyüküstün, Mehmet Günsür, ...</td>\n",
       "      <td>romantic</td>\n",
       "      <td>https://en.wikipedia.org/wiki/%C4%B0stanbul_K%...</td>\n",
       "      <td>The writer Orhan Şahin returns to İstanbul aft...</td>\n",
       "      <td>the writer orhan şahin returns to i̇stanbul af...</td>\n",
       "      <td>[the, writer, orhan, şahin, returns, to, i̇sta...</td>\n",
       "      <td>[writer, orhan, şahin, returns, i̇stanbul, man...</td>\n",
       "      <td>[writer, orhan, şahin, return, i̇stanbul, many...</td>\n",
       "    </tr>\n",
       "  </tbody>\n",
       "</table>\n",
       "<p>34886 rows × 12 columns</p>\n",
       "</div>"
      ],
      "text/plain": [
       "       Release Year                             Title Origin/Ethnicity  \\\n",
       "0              1901            Kansas Saloon Smashers         American   \n",
       "1              1901     Love by the Light of the Moon         American   \n",
       "2              1901           The Martyred Presidents         American   \n",
       "3              1901  Terrible Teddy, the Grizzly King         American   \n",
       "4              1902            Jack and the Beanstalk         American   \n",
       "...             ...                               ...              ...   \n",
       "34881          2014                 The Water Diviner          Turkish   \n",
       "34882          2017                Çalgı Çengi İkimiz          Turkish   \n",
       "34883          2017                      Olanlar Oldu          Turkish   \n",
       "34884          2017                  Non-Transferable          Turkish   \n",
       "34885          2017                İstanbul Kırmızısı          Turkish   \n",
       "\n",
       "                                 Director  \\\n",
       "0                                 Unknown   \n",
       "1                                 Unknown   \n",
       "2                                 Unknown   \n",
       "3                                 Unknown   \n",
       "4      George S. Fleming, Edwin S. Porter   \n",
       "...                                   ...   \n",
       "34881             Director: Russell Crowe   \n",
       "34882                      Selçuk Aydemir   \n",
       "34883                         Hakan Algül   \n",
       "34884                     Brendan Bradley   \n",
       "34885                      Ferzan Özpetek   \n",
       "\n",
       "                                                    Cast            Genre  \\\n",
       "0                                                    NaN          unknown   \n",
       "1                                                    NaN          unknown   \n",
       "2                                                    NaN          unknown   \n",
       "3                                                    NaN          unknown   \n",
       "4                                                    NaN          unknown   \n",
       "...                                                  ...              ...   \n",
       "34881  Director: Russell Crowe\\r\\nCast: Russell Crowe...          unknown   \n",
       "34882                          Ahmet Kural, Murat Cemcir           comedy   \n",
       "34883              Ata Demirer, Tuvana Türkay, Ülkü Duru           comedy   \n",
       "34884  YouTubers Shanna Malcolm, Shira Lazar, Sara Fl...  romantic comedy   \n",
       "34885  Halit Ergenç, Tuba Büyüküstün, Mehmet Günsür, ...         romantic   \n",
       "\n",
       "                                               Wiki Page  \\\n",
       "0      https://en.wikipedia.org/wiki/Kansas_Saloon_Sm...   \n",
       "1      https://en.wikipedia.org/wiki/Love_by_the_Ligh...   \n",
       "2      https://en.wikipedia.org/wiki/The_Martyred_Pre...   \n",
       "3      https://en.wikipedia.org/wiki/Terrible_Teddy,_...   \n",
       "4      https://en.wikipedia.org/wiki/Jack_and_the_Bea...   \n",
       "...                                                  ...   \n",
       "34881    https://en.wikipedia.org/wiki/The_Water_Diviner   \n",
       "34882  https://en.wikipedia.org/wiki/%C3%87alg%C4%B1_...   \n",
       "34883         https://en.wikipedia.org/wiki/Olanlar_Oldu   \n",
       "34884  https://en.wikipedia.org/wiki/Non-Transferable...   \n",
       "34885  https://en.wikipedia.org/wiki/%C4%B0stanbul_K%...   \n",
       "\n",
       "                                                    Plot  \\\n",
       "0      A bartender is working at a saloon, serving dr...   \n",
       "1      The moon, painted with a smiling face hangs ov...   \n",
       "2      The film, just over a minute long, is composed...   \n",
       "3      Lasting just 61 seconds and consisting of two ...   \n",
       "4      The earliest known adaptation of the classic f...   \n",
       "...                                                  ...   \n",
       "34881  The film begins in 1919, just after World War ...   \n",
       "34882  Two musicians, Salih and Gürkan, described the...   \n",
       "34883  Zafer, a sailor living with his mother Döndü i...   \n",
       "34884  The film centres around a young woman named Am...   \n",
       "34885  The writer Orhan Şahin returns to İstanbul aft...   \n",
       "\n",
       "                                      plot_without_punct  \\\n",
       "0      a bartender is working at a saloon serving dri...   \n",
       "1      the moon painted with a smiling face hangs ove...   \n",
       "2      the film just over a minute long is composed o...   \n",
       "3      lasting just 61 seconds and consisting of two ...   \n",
       "4      the earliest known adaptation of the classic f...   \n",
       "...                                                  ...   \n",
       "34881  the film begins in 1919 just after world war i...   \n",
       "34882  two musicians salih and gürkan described the a...   \n",
       "34883  zafer a sailor living with his mother döndü in...   \n",
       "34884  the film centres around a young woman named am...   \n",
       "34885  the writer orhan şahin returns to i̇stanbul af...   \n",
       "\n",
       "                                          plot_tokenized  \\\n",
       "0      [a, bartender, is, working, at, a, saloon, ser...   \n",
       "1      [the, moon, painted, with, a, smiling, face, h...   \n",
       "2      [the, film, just, over, a, minute, long, is, c...   \n",
       "3      [lasting, just, 61, seconds, and, consisting, ...   \n",
       "4      [the, earliest, known, adaptation, of, the, cl...   \n",
       "...                                                  ...   \n",
       "34881  [the, film, begins, in, 1919, just, after, wor...   \n",
       "34882  [two, musicians, salih, and, gürkan, described...   \n",
       "34883  [zafer, a, sailor, living, with, his, mother, ...   \n",
       "34884  [the, film, centres, around, a, young, woman, ...   \n",
       "34885  [the, writer, orhan, şahin, returns, to, i̇sta...   \n",
       "\n",
       "                               plot_tokenized_removed_sw  \\\n",
       "0      [bartender, working, saloon, serving, drinks, ...   \n",
       "1      [moon, painted, smiling, face, hangs, park, ni...   \n",
       "2      [film, minute, long, composed, two, shots, fir...   \n",
       "3      [lasting, 61, seconds, consisting, two, shots,...   \n",
       "4      [earliest, known, adaptation, classic, fairyta...   \n",
       "...                                                  ...   \n",
       "34881  [film, begins, 1919, world, war, ended, centre...   \n",
       "34882  [two, musicians, salih, gürkan, described, adv...   \n",
       "34883  [zafer, sailor, living, mother, döndü, coastal...   \n",
       "34884  [film, centres, around, young, woman, named, a...   \n",
       "34885  [writer, orhan, şahin, returns, i̇stanbul, man...   \n",
       "\n",
       "                                              plot_lemma  \n",
       "0      [bartender, working, saloon, serving, drink, c...  \n",
       "1      [moon, painted, smiling, face, hang, park, nig...  \n",
       "2      [film, minute, long, composed, two, shot, firs...  \n",
       "3      [lasting, 61, second, consisting, two, shot, f...  \n",
       "4      [earliest, known, adaptation, classic, fairyta...  \n",
       "...                                                  ...  \n",
       "34881  [film, begin, 1919, world, war, ended, centre,...  \n",
       "34882  [two, musician, salih, gürkan, described, adve...  \n",
       "34883  [zafer, sailor, living, mother, döndü, coastal...  \n",
       "34884  [film, centre, around, young, woman, named, am...  \n",
       "34885  [writer, orhan, şahin, return, i̇stanbul, many...  \n",
       "\n",
       "[34886 rows x 12 columns]"
      ]
     },
     "execution_count": 13,
     "metadata": {},
     "output_type": "execute_result"
    }
   ],
   "source": [
    "df"
   ]
  },
  {
   "cell_type": "code",
   "execution_count": null,
   "id": "86c6b24f",
   "metadata": {},
   "outputs": [],
   "source": []
  }
 ],
 "metadata": {
  "kernelspec": {
   "display_name": "Python 3",
   "language": "python",
   "name": "python3"
  },
  "language_info": {
   "codemirror_mode": {
    "name": "ipython",
    "version": 3
   },
   "file_extension": ".py",
   "mimetype": "text/x-python",
   "name": "python",
   "nbconvert_exporter": "python",
   "pygments_lexer": "ipython3",
   "version": "3.8.10"
  }
 },
 "nbformat": 4,
 "nbformat_minor": 5
}
