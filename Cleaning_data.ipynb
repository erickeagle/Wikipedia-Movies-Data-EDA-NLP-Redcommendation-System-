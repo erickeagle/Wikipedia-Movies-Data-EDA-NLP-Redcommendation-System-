{
 "cells": [
  {
   "cell_type": "code",
   "execution_count": null,
   "id": "5954581b",
   "metadata": {},
   "outputs": [],
   "source": [
    "#importing libraries"
   ]
  },
  {
   "cell_type": "code",
   "execution_count": 5,
   "id": "4732a13e",
   "metadata": {},
   "outputs": [],
   "source": [
    "import pandas as pd\n",
    "import pandas as pd\n",
    "import numpy as np\n",
    "import matplotlib.pyplot as plt\n",
    "import seaborn as sns\n",
    "import re\n",
    "import warnings\n",
    "warnings.filterwarnings(\"ignore\")\n",
    "\n",
    "import nltk"
   ]
  },
  {
   "cell_type": "code",
   "execution_count": 6,
   "id": "c4763415",
   "metadata": {},
   "outputs": [
    {
     "name": "stdout",
     "output_type": "stream",
     "text": [
      "Wall time: 1.13 s\n"
     ]
    }
   ],
   "source": [
    "%%time\n",
    "df=pd.read_csv('wiki_movie_plots_deduped.csv')"
   ]
  },
  {
   "cell_type": "code",
   "execution_count": 7,
   "id": "908d3ef4",
   "metadata": {},
   "outputs": [
    {
     "data": {
      "text/plain": [
       "0        A bartender is working at a saloon, serving dr...\n",
       "1        The moon, painted with a smiling face hangs ov...\n",
       "2        The film, just over a minute long, is composed...\n",
       "3        Lasting just 61 seconds and consisting of two ...\n",
       "4        The earliest known adaptation of the classic f...\n",
       "                               ...                        \n",
       "34881    The film begins in 1919, just after World War ...\n",
       "34882    Two musicians, Salih and Gürkan, described the...\n",
       "34883    Zafer, a sailor living with his mother Döndü i...\n",
       "34884    The film centres around a young woman named Am...\n",
       "34885    The writer Orhan Şahin returns to İstanbul aft...\n",
       "Name: Plot, Length: 34886, dtype: object"
      ]
     },
     "execution_count": 7,
     "metadata": {},
     "output_type": "execute_result"
    }
   ],
   "source": [
    "df['Plot']"
   ]
  },
  {
   "cell_type": "code",
   "execution_count": 8,
   "id": "97d106bd",
   "metadata": {},
   "outputs": [
    {
     "data": {
      "text/plain": [
       "'Doctor Helen Hunt meets millionaire playboy, Peter Kirk in an unusual way—he crashes practically at her feet at a ski resort. He insists only she can treat his minor injuries and he soon proposes marriage, which she accepts. On their wedding night, Helen is called away by a medical emergency. When she returns, Peter has fallen asleep. Peter becomes jealous and gets into confrontations with two of her patients, Robert Andrews, and Frederick Vandemer. He is chagrined to learn that Vandemer had also staged a skiing accident to get to know Helen and Vandemer asked her to marry him.\\r\\nHelen recruits Billings, Peter\\'s groundskeeper, to try unsuccessfully to interest the idle Peter in gardening. After another very embarrassing altercation with Frederick, Peter gets a job as a tie salesman under the alias \"John Jenkins\" to try to please his wife. Peter finds he likes working and becomes ambitious. Helen is delighted and decides to retire and become a housewife. However, some of Kirk\\'s co-workers at the department store recognize him and resenting him taking a job away from somebody who actually needs it. The incident results in his firing. Billings gives Peter an idea to create jobs with his money. Peter decides to buy a nearly-bankrupt hospital, which will require most of his income to keep running, and makes Helen the chief of staff.'"
      ]
     },
     "execution_count": 8,
     "metadata": {},
     "output_type": "execute_result"
    }
   ],
   "source": [
    "df['Plot'][3233]"
   ]
  },
  {
   "cell_type": "code",
   "execution_count": 9,
   "id": "9dfcd8c4",
   "metadata": {},
   "outputs": [
    {
     "ename": "KeyError",
     "evalue": "'plot_lemma'",
     "output_type": "error",
     "traceback": [
      "\u001b[1;31m---------------------------------------------------------------------------\u001b[0m",
      "\u001b[1;31mKeyError\u001b[0m                                  Traceback (most recent call last)",
      "\u001b[1;32mD:\\Applications\\Anaconda3\\envs\\py\\lib\\site-packages\\pandas\\core\\indexes\\base.py\u001b[0m in \u001b[0;36mget_loc\u001b[1;34m(self, key, method, tolerance)\u001b[0m\n\u001b[0;32m   2645\u001b[0m             \u001b[1;32mtry\u001b[0m\u001b[1;33m:\u001b[0m\u001b[1;33m\u001b[0m\u001b[1;33m\u001b[0m\u001b[0m\n\u001b[1;32m-> 2646\u001b[1;33m                 \u001b[1;32mreturn\u001b[0m \u001b[0mself\u001b[0m\u001b[1;33m.\u001b[0m\u001b[0m_engine\u001b[0m\u001b[1;33m.\u001b[0m\u001b[0mget_loc\u001b[0m\u001b[1;33m(\u001b[0m\u001b[0mkey\u001b[0m\u001b[1;33m)\u001b[0m\u001b[1;33m\u001b[0m\u001b[1;33m\u001b[0m\u001b[0m\n\u001b[0m\u001b[0;32m   2647\u001b[0m             \u001b[1;32mexcept\u001b[0m \u001b[0mKeyError\u001b[0m\u001b[1;33m:\u001b[0m\u001b[1;33m\u001b[0m\u001b[1;33m\u001b[0m\u001b[0m\n",
      "\u001b[1;32mpandas\\_libs\\index.pyx\u001b[0m in \u001b[0;36mpandas._libs.index.IndexEngine.get_loc\u001b[1;34m()\u001b[0m\n",
      "\u001b[1;32mpandas\\_libs\\index.pyx\u001b[0m in \u001b[0;36mpandas._libs.index.IndexEngine.get_loc\u001b[1;34m()\u001b[0m\n",
      "\u001b[1;32mpandas\\_libs\\hashtable_class_helper.pxi\u001b[0m in \u001b[0;36mpandas._libs.hashtable.PyObjectHashTable.get_item\u001b[1;34m()\u001b[0m\n",
      "\u001b[1;32mpandas\\_libs\\hashtable_class_helper.pxi\u001b[0m in \u001b[0;36mpandas._libs.hashtable.PyObjectHashTable.get_item\u001b[1;34m()\u001b[0m\n",
      "\u001b[1;31mKeyError\u001b[0m: 'plot_lemma'",
      "\nDuring handling of the above exception, another exception occurred:\n",
      "\u001b[1;31mKeyError\u001b[0m                                  Traceback (most recent call last)",
      "\u001b[1;32m<ipython-input-9-47cb0f8db8e5>\u001b[0m in \u001b[0;36m<module>\u001b[1;34m\u001b[0m\n\u001b[1;32m----> 1\u001b[1;33m \u001b[0mdf\u001b[0m\u001b[1;33m[\u001b[0m\u001b[1;34m'plot_lemma'\u001b[0m\u001b[1;33m]\u001b[0m\u001b[1;33m[\u001b[0m\u001b[1;36m3233\u001b[0m\u001b[1;33m]\u001b[0m\u001b[1;33m\u001b[0m\u001b[1;33m\u001b[0m\u001b[0m\n\u001b[0m",
      "\u001b[1;32mD:\\Applications\\Anaconda3\\envs\\py\\lib\\site-packages\\pandas\\core\\frame.py\u001b[0m in \u001b[0;36m__getitem__\u001b[1;34m(self, key)\u001b[0m\n\u001b[0;32m   2798\u001b[0m             \u001b[1;32mif\u001b[0m \u001b[0mself\u001b[0m\u001b[1;33m.\u001b[0m\u001b[0mcolumns\u001b[0m\u001b[1;33m.\u001b[0m\u001b[0mnlevels\u001b[0m \u001b[1;33m>\u001b[0m \u001b[1;36m1\u001b[0m\u001b[1;33m:\u001b[0m\u001b[1;33m\u001b[0m\u001b[1;33m\u001b[0m\u001b[0m\n\u001b[0;32m   2799\u001b[0m                 \u001b[1;32mreturn\u001b[0m \u001b[0mself\u001b[0m\u001b[1;33m.\u001b[0m\u001b[0m_getitem_multilevel\u001b[0m\u001b[1;33m(\u001b[0m\u001b[0mkey\u001b[0m\u001b[1;33m)\u001b[0m\u001b[1;33m\u001b[0m\u001b[1;33m\u001b[0m\u001b[0m\n\u001b[1;32m-> 2800\u001b[1;33m             \u001b[0mindexer\u001b[0m \u001b[1;33m=\u001b[0m \u001b[0mself\u001b[0m\u001b[1;33m.\u001b[0m\u001b[0mcolumns\u001b[0m\u001b[1;33m.\u001b[0m\u001b[0mget_loc\u001b[0m\u001b[1;33m(\u001b[0m\u001b[0mkey\u001b[0m\u001b[1;33m)\u001b[0m\u001b[1;33m\u001b[0m\u001b[1;33m\u001b[0m\u001b[0m\n\u001b[0m\u001b[0;32m   2801\u001b[0m             \u001b[1;32mif\u001b[0m \u001b[0mis_integer\u001b[0m\u001b[1;33m(\u001b[0m\u001b[0mindexer\u001b[0m\u001b[1;33m)\u001b[0m\u001b[1;33m:\u001b[0m\u001b[1;33m\u001b[0m\u001b[1;33m\u001b[0m\u001b[0m\n\u001b[0;32m   2802\u001b[0m                 \u001b[0mindexer\u001b[0m \u001b[1;33m=\u001b[0m \u001b[1;33m[\u001b[0m\u001b[0mindexer\u001b[0m\u001b[1;33m]\u001b[0m\u001b[1;33m\u001b[0m\u001b[1;33m\u001b[0m\u001b[0m\n",
      "\u001b[1;32mD:\\Applications\\Anaconda3\\envs\\py\\lib\\site-packages\\pandas\\core\\indexes\\base.py\u001b[0m in \u001b[0;36mget_loc\u001b[1;34m(self, key, method, tolerance)\u001b[0m\n\u001b[0;32m   2646\u001b[0m                 \u001b[1;32mreturn\u001b[0m \u001b[0mself\u001b[0m\u001b[1;33m.\u001b[0m\u001b[0m_engine\u001b[0m\u001b[1;33m.\u001b[0m\u001b[0mget_loc\u001b[0m\u001b[1;33m(\u001b[0m\u001b[0mkey\u001b[0m\u001b[1;33m)\u001b[0m\u001b[1;33m\u001b[0m\u001b[1;33m\u001b[0m\u001b[0m\n\u001b[0;32m   2647\u001b[0m             \u001b[1;32mexcept\u001b[0m \u001b[0mKeyError\u001b[0m\u001b[1;33m:\u001b[0m\u001b[1;33m\u001b[0m\u001b[1;33m\u001b[0m\u001b[0m\n\u001b[1;32m-> 2648\u001b[1;33m                 \u001b[1;32mreturn\u001b[0m \u001b[0mself\u001b[0m\u001b[1;33m.\u001b[0m\u001b[0m_engine\u001b[0m\u001b[1;33m.\u001b[0m\u001b[0mget_loc\u001b[0m\u001b[1;33m(\u001b[0m\u001b[0mself\u001b[0m\u001b[1;33m.\u001b[0m\u001b[0m_maybe_cast_indexer\u001b[0m\u001b[1;33m(\u001b[0m\u001b[0mkey\u001b[0m\u001b[1;33m)\u001b[0m\u001b[1;33m)\u001b[0m\u001b[1;33m\u001b[0m\u001b[1;33m\u001b[0m\u001b[0m\n\u001b[0m\u001b[0;32m   2649\u001b[0m         \u001b[0mindexer\u001b[0m \u001b[1;33m=\u001b[0m \u001b[0mself\u001b[0m\u001b[1;33m.\u001b[0m\u001b[0mget_indexer\u001b[0m\u001b[1;33m(\u001b[0m\u001b[1;33m[\u001b[0m\u001b[0mkey\u001b[0m\u001b[1;33m]\u001b[0m\u001b[1;33m,\u001b[0m \u001b[0mmethod\u001b[0m\u001b[1;33m=\u001b[0m\u001b[0mmethod\u001b[0m\u001b[1;33m,\u001b[0m \u001b[0mtolerance\u001b[0m\u001b[1;33m=\u001b[0m\u001b[0mtolerance\u001b[0m\u001b[1;33m)\u001b[0m\u001b[1;33m\u001b[0m\u001b[1;33m\u001b[0m\u001b[0m\n\u001b[0;32m   2650\u001b[0m         \u001b[1;32mif\u001b[0m \u001b[0mindexer\u001b[0m\u001b[1;33m.\u001b[0m\u001b[0mndim\u001b[0m \u001b[1;33m>\u001b[0m \u001b[1;36m1\u001b[0m \u001b[1;32mor\u001b[0m \u001b[0mindexer\u001b[0m\u001b[1;33m.\u001b[0m\u001b[0msize\u001b[0m \u001b[1;33m>\u001b[0m \u001b[1;36m1\u001b[0m\u001b[1;33m:\u001b[0m\u001b[1;33m\u001b[0m\u001b[1;33m\u001b[0m\u001b[0m\n",
      "\u001b[1;32mpandas\\_libs\\index.pyx\u001b[0m in \u001b[0;36mpandas._libs.index.IndexEngine.get_loc\u001b[1;34m()\u001b[0m\n",
      "\u001b[1;32mpandas\\_libs\\index.pyx\u001b[0m in \u001b[0;36mpandas._libs.index.IndexEngine.get_loc\u001b[1;34m()\u001b[0m\n",
      "\u001b[1;32mpandas\\_libs\\hashtable_class_helper.pxi\u001b[0m in \u001b[0;36mpandas._libs.hashtable.PyObjectHashTable.get_item\u001b[1;34m()\u001b[0m\n",
      "\u001b[1;32mpandas\\_libs\\hashtable_class_helper.pxi\u001b[0m in \u001b[0;36mpandas._libs.hashtable.PyObjectHashTable.get_item\u001b[1;34m()\u001b[0m\n",
      "\u001b[1;31mKeyError\u001b[0m: 'plot_lemma'"
     ]
    }
   ],
   "source": [
    "df['plot_lemma'][3233]"
   ]
  },
  {
   "cell_type": "markdown",
   "id": "80d9e96e",
   "metadata": {},
   "source": [
    "### List of punctuations"
   ]
  },
  {
   "cell_type": "code",
   "execution_count": 10,
   "id": "fa8c1727",
   "metadata": {},
   "outputs": [
    {
     "data": {
      "text/plain": [
       "'!\"#$%&\\'()*+,-./:;<=>?@[\\\\]^_`{|}~'"
      ]
     },
     "execution_count": 10,
     "metadata": {},
     "output_type": "execute_result"
    }
   ],
   "source": [
    "import string\n",
    "string.punctuation"
   ]
  },
  {
   "cell_type": "markdown",
   "id": "4ed186ec",
   "metadata": {},
   "source": [
    "### Functions for cleaning the data"
   ]
  },
  {
   "cell_type": "code",
   "execution_count": 11,
   "id": "315974b7",
   "metadata": {},
   "outputs": [],
   "source": [
    "def remove_punctuation(text):\n",
    "    return ''.join([words.lower() for words in text if words not in string.punctuation])\n",
    "\n",
    "\n",
    "def tokenization(text):\n",
    "    return nltk.tokenize.word_tokenize(text)\n",
    "\n",
    "\n",
    "stopwords = nltk.corpus.stopwords.words('english')\n",
    "def stopwards(words):\n",
    "    return [i for i in words if i not in stopwords]\n",
    "\n",
    "lemma= nltk.WordNetLemmatizer()\n",
    "\n",
    "def lemmatization(words):\n",
    "    return [lemma.lemmatize(word) for word in words]\n",
    "    "
   ]
  },
  {
   "cell_type": "code",
   "execution_count": 12,
   "id": "badd21a4",
   "metadata": {},
   "outputs": [],
   "source": [
    "\n",
    "# \\r and \\n\n",
    "df['Plot_1'] = df['Plot'].str.replace(\"\\r\", \" \")\n",
    "df['Plot_1'] = df['Plot_1'].str.replace(\"\\n\", \" \")\n",
    "df['Plot_1'] = df['Plot_1'].str.replace(\"    \", \" \")"
   ]
  },
  {
   "cell_type": "markdown",
   "id": "4a1b6da9",
   "metadata": {},
   "source": [
    "### Removing the Pucntations"
   ]
  },
  {
   "cell_type": "code",
   "execution_count": 13,
   "id": "379bc398",
   "metadata": {},
   "outputs": [
    {
     "name": "stdout",
     "output_type": "stream",
     "text": [
      "Wall time: 20.6 s\n"
     ]
    }
   ],
   "source": [
    "%%time\n",
    "df['plot_without_punct']=df['Plot_1'].apply(lambda x: remove_punctuation(x))"
   ]
  },
  {
   "cell_type": "markdown",
   "id": "406a67be",
   "metadata": {},
   "source": [
    "### Tokenizing the words"
   ]
  },
  {
   "cell_type": "code",
   "execution_count": 14,
   "id": "b4ea509b",
   "metadata": {},
   "outputs": [
    {
     "name": "stdout",
     "output_type": "stream",
     "text": [
      "Wall time: 1min 5s\n"
     ]
    }
   ],
   "source": [
    "%%time\n",
    "df['plot_tokenized']=df['plot_without_punct'].apply(lambda x: tokenization(x))"
   ]
  },
  {
   "cell_type": "markdown",
   "id": "65e6efce",
   "metadata": {},
   "source": [
    "### Removing the Stopwords"
   ]
  },
  {
   "cell_type": "code",
   "execution_count": 15,
   "id": "cb47410d",
   "metadata": {},
   "outputs": [
    {
     "name": "stdout",
     "output_type": "stream",
     "text": [
      "Wall time: 25 s\n"
     ]
    }
   ],
   "source": [
    "%%time \n",
    "df['plot_tokenized_removed_sw']=df['plot_tokenized'].apply(lambda x: stopwards(x))"
   ]
  },
  {
   "cell_type": "markdown",
   "id": "f6d18a44",
   "metadata": {},
   "source": [
    "### Lemmatization"
   ]
  },
  {
   "cell_type": "code",
   "execution_count": 16,
   "id": "25f5f6f6",
   "metadata": {},
   "outputs": [
    {
     "name": "stdout",
     "output_type": "stream",
     "text": [
      "Wall time: 26.5 s\n"
     ]
    }
   ],
   "source": [
    "%%time \n",
    "df['plot_lemma']=df['plot_tokenized_removed_sw'].apply(lambda x: lemmatization(x))"
   ]
  },
  {
   "cell_type": "code",
   "execution_count": 17,
   "id": "56b313ca",
   "metadata": {},
   "outputs": [
    {
     "data": {
      "text/html": [
       "<div>\n",
       "<style scoped>\n",
       "    .dataframe tbody tr th:only-of-type {\n",
       "        vertical-align: middle;\n",
       "    }\n",
       "\n",
       "    .dataframe tbody tr th {\n",
       "        vertical-align: top;\n",
       "    }\n",
       "\n",
       "    .dataframe thead th {\n",
       "        text-align: right;\n",
       "    }\n",
       "</style>\n",
       "<table border=\"1\" class=\"dataframe\">\n",
       "  <thead>\n",
       "    <tr style=\"text-align: right;\">\n",
       "      <th></th>\n",
       "      <th>Release Year</th>\n",
       "      <th>Title</th>\n",
       "      <th>Origin/Ethnicity</th>\n",
       "      <th>Director</th>\n",
       "      <th>Cast</th>\n",
       "      <th>Genre</th>\n",
       "      <th>Wiki Page</th>\n",
       "      <th>Plot</th>\n",
       "      <th>Plot_1</th>\n",
       "      <th>plot_without_punct</th>\n",
       "      <th>plot_tokenized</th>\n",
       "      <th>plot_tokenized_removed_sw</th>\n",
       "      <th>plot_lemma</th>\n",
       "    </tr>\n",
       "  </thead>\n",
       "  <tbody>\n",
       "    <tr>\n",
       "      <th>0</th>\n",
       "      <td>1901</td>\n",
       "      <td>Kansas Saloon Smashers</td>\n",
       "      <td>American</td>\n",
       "      <td>Unknown</td>\n",
       "      <td>NaN</td>\n",
       "      <td>unknown</td>\n",
       "      <td>https://en.wikipedia.org/wiki/Kansas_Saloon_Sm...</td>\n",
       "      <td>A bartender is working at a saloon, serving dr...</td>\n",
       "      <td>A bartender is working at a saloon, serving dr...</td>\n",
       "      <td>a bartender is working at a saloon serving dri...</td>\n",
       "      <td>[a, bartender, is, working, at, a, saloon, ser...</td>\n",
       "      <td>[bartender, working, saloon, serving, drinks, ...</td>\n",
       "      <td>[bartender, working, saloon, serving, drink, c...</td>\n",
       "    </tr>\n",
       "    <tr>\n",
       "      <th>1</th>\n",
       "      <td>1901</td>\n",
       "      <td>Love by the Light of the Moon</td>\n",
       "      <td>American</td>\n",
       "      <td>Unknown</td>\n",
       "      <td>NaN</td>\n",
       "      <td>unknown</td>\n",
       "      <td>https://en.wikipedia.org/wiki/Love_by_the_Ligh...</td>\n",
       "      <td>The moon, painted with a smiling face hangs ov...</td>\n",
       "      <td>The moon, painted with a smiling face hangs ov...</td>\n",
       "      <td>the moon painted with a smiling face hangs ove...</td>\n",
       "      <td>[the, moon, painted, with, a, smiling, face, h...</td>\n",
       "      <td>[moon, painted, smiling, face, hangs, park, ni...</td>\n",
       "      <td>[moon, painted, smiling, face, hang, park, nig...</td>\n",
       "    </tr>\n",
       "    <tr>\n",
       "      <th>2</th>\n",
       "      <td>1901</td>\n",
       "      <td>The Martyred Presidents</td>\n",
       "      <td>American</td>\n",
       "      <td>Unknown</td>\n",
       "      <td>NaN</td>\n",
       "      <td>unknown</td>\n",
       "      <td>https://en.wikipedia.org/wiki/The_Martyred_Pre...</td>\n",
       "      <td>The film, just over a minute long, is composed...</td>\n",
       "      <td>The film, just over a minute long, is composed...</td>\n",
       "      <td>the film just over a minute long is composed o...</td>\n",
       "      <td>[the, film, just, over, a, minute, long, is, c...</td>\n",
       "      <td>[film, minute, long, composed, two, shots, fir...</td>\n",
       "      <td>[film, minute, long, composed, two, shot, firs...</td>\n",
       "    </tr>\n",
       "    <tr>\n",
       "      <th>3</th>\n",
       "      <td>1901</td>\n",
       "      <td>Terrible Teddy, the Grizzly King</td>\n",
       "      <td>American</td>\n",
       "      <td>Unknown</td>\n",
       "      <td>NaN</td>\n",
       "      <td>unknown</td>\n",
       "      <td>https://en.wikipedia.org/wiki/Terrible_Teddy,_...</td>\n",
       "      <td>Lasting just 61 seconds and consisting of two ...</td>\n",
       "      <td>Lasting just 61 seconds and consisting of two ...</td>\n",
       "      <td>lasting just 61 seconds and consisting of two ...</td>\n",
       "      <td>[lasting, just, 61, seconds, and, consisting, ...</td>\n",
       "      <td>[lasting, 61, seconds, consisting, two, shots,...</td>\n",
       "      <td>[lasting, 61, second, consisting, two, shot, f...</td>\n",
       "    </tr>\n",
       "    <tr>\n",
       "      <th>4</th>\n",
       "      <td>1902</td>\n",
       "      <td>Jack and the Beanstalk</td>\n",
       "      <td>American</td>\n",
       "      <td>George S. Fleming, Edwin S. Porter</td>\n",
       "      <td>NaN</td>\n",
       "      <td>unknown</td>\n",
       "      <td>https://en.wikipedia.org/wiki/Jack_and_the_Bea...</td>\n",
       "      <td>The earliest known adaptation of the classic f...</td>\n",
       "      <td>The earliest known adaptation of the classic f...</td>\n",
       "      <td>the earliest known adaptation of the classic f...</td>\n",
       "      <td>[the, earliest, known, adaptation, of, the, cl...</td>\n",
       "      <td>[earliest, known, adaptation, classic, fairyta...</td>\n",
       "      <td>[earliest, known, adaptation, classic, fairyta...</td>\n",
       "    </tr>\n",
       "    <tr>\n",
       "      <th>...</th>\n",
       "      <td>...</td>\n",
       "      <td>...</td>\n",
       "      <td>...</td>\n",
       "      <td>...</td>\n",
       "      <td>...</td>\n",
       "      <td>...</td>\n",
       "      <td>...</td>\n",
       "      <td>...</td>\n",
       "      <td>...</td>\n",
       "      <td>...</td>\n",
       "      <td>...</td>\n",
       "      <td>...</td>\n",
       "      <td>...</td>\n",
       "    </tr>\n",
       "    <tr>\n",
       "      <th>34881</th>\n",
       "      <td>2014</td>\n",
       "      <td>The Water Diviner</td>\n",
       "      <td>Turkish</td>\n",
       "      <td>Director: Russell Crowe</td>\n",
       "      <td>Director: Russell Crowe\\r\\nCast: Russell Crowe...</td>\n",
       "      <td>unknown</td>\n",
       "      <td>https://en.wikipedia.org/wiki/The_Water_Diviner</td>\n",
       "      <td>The film begins in 1919, just after World War ...</td>\n",
       "      <td>The film begins in 1919, just after World War ...</td>\n",
       "      <td>the film begins in 1919 just after world war i...</td>\n",
       "      <td>[the, film, begins, in, 1919, just, after, wor...</td>\n",
       "      <td>[film, begins, 1919, world, war, ended, centre...</td>\n",
       "      <td>[film, begin, 1919, world, war, ended, centre,...</td>\n",
       "    </tr>\n",
       "    <tr>\n",
       "      <th>34882</th>\n",
       "      <td>2017</td>\n",
       "      <td>Çalgı Çengi İkimiz</td>\n",
       "      <td>Turkish</td>\n",
       "      <td>Selçuk Aydemir</td>\n",
       "      <td>Ahmet Kural, Murat Cemcir</td>\n",
       "      <td>comedy</td>\n",
       "      <td>https://en.wikipedia.org/wiki/%C3%87alg%C4%B1_...</td>\n",
       "      <td>Two musicians, Salih and Gürkan, described the...</td>\n",
       "      <td>Two musicians, Salih and Gürkan, described the...</td>\n",
       "      <td>two musicians salih and gürkan described the a...</td>\n",
       "      <td>[two, musicians, salih, and, gürkan, described...</td>\n",
       "      <td>[two, musicians, salih, gürkan, described, adv...</td>\n",
       "      <td>[two, musician, salih, gürkan, described, adve...</td>\n",
       "    </tr>\n",
       "    <tr>\n",
       "      <th>34883</th>\n",
       "      <td>2017</td>\n",
       "      <td>Olanlar Oldu</td>\n",
       "      <td>Turkish</td>\n",
       "      <td>Hakan Algül</td>\n",
       "      <td>Ata Demirer, Tuvana Türkay, Ülkü Duru</td>\n",
       "      <td>comedy</td>\n",
       "      <td>https://en.wikipedia.org/wiki/Olanlar_Oldu</td>\n",
       "      <td>Zafer, a sailor living with his mother Döndü i...</td>\n",
       "      <td>Zafer, a sailor living with his mother Döndü i...</td>\n",
       "      <td>zafer a sailor living with his mother döndü in...</td>\n",
       "      <td>[zafer, a, sailor, living, with, his, mother, ...</td>\n",
       "      <td>[zafer, sailor, living, mother, döndü, coastal...</td>\n",
       "      <td>[zafer, sailor, living, mother, döndü, coastal...</td>\n",
       "    </tr>\n",
       "    <tr>\n",
       "      <th>34884</th>\n",
       "      <td>2017</td>\n",
       "      <td>Non-Transferable</td>\n",
       "      <td>Turkish</td>\n",
       "      <td>Brendan Bradley</td>\n",
       "      <td>YouTubers Shanna Malcolm, Shira Lazar, Sara Fl...</td>\n",
       "      <td>romantic comedy</td>\n",
       "      <td>https://en.wikipedia.org/wiki/Non-Transferable...</td>\n",
       "      <td>The film centres around a young woman named Am...</td>\n",
       "      <td>The film centres around a young woman named Am...</td>\n",
       "      <td>the film centres around a young woman named am...</td>\n",
       "      <td>[the, film, centres, around, a, young, woman, ...</td>\n",
       "      <td>[film, centres, around, young, woman, named, a...</td>\n",
       "      <td>[film, centre, around, young, woman, named, am...</td>\n",
       "    </tr>\n",
       "    <tr>\n",
       "      <th>34885</th>\n",
       "      <td>2017</td>\n",
       "      <td>İstanbul Kırmızısı</td>\n",
       "      <td>Turkish</td>\n",
       "      <td>Ferzan Özpetek</td>\n",
       "      <td>Halit Ergenç, Tuba Büyüküstün, Mehmet Günsür, ...</td>\n",
       "      <td>romantic</td>\n",
       "      <td>https://en.wikipedia.org/wiki/%C4%B0stanbul_K%...</td>\n",
       "      <td>The writer Orhan Şahin returns to İstanbul aft...</td>\n",
       "      <td>The writer Orhan Şahin returns to İstanbul aft...</td>\n",
       "      <td>the writer orhan şahin returns to i̇stanbul af...</td>\n",
       "      <td>[the, writer, orhan, şahin, returns, to, i̇sta...</td>\n",
       "      <td>[writer, orhan, şahin, returns, i̇stanbul, man...</td>\n",
       "      <td>[writer, orhan, şahin, return, i̇stanbul, many...</td>\n",
       "    </tr>\n",
       "  </tbody>\n",
       "</table>\n",
       "<p>34886 rows × 13 columns</p>\n",
       "</div>"
      ],
      "text/plain": [
       "       Release Year                             Title Origin/Ethnicity  \\\n",
       "0              1901            Kansas Saloon Smashers         American   \n",
       "1              1901     Love by the Light of the Moon         American   \n",
       "2              1901           The Martyred Presidents         American   \n",
       "3              1901  Terrible Teddy, the Grizzly King         American   \n",
       "4              1902            Jack and the Beanstalk         American   \n",
       "...             ...                               ...              ...   \n",
       "34881          2014                 The Water Diviner          Turkish   \n",
       "34882          2017                Çalgı Çengi İkimiz          Turkish   \n",
       "34883          2017                      Olanlar Oldu          Turkish   \n",
       "34884          2017                  Non-Transferable          Turkish   \n",
       "34885          2017                İstanbul Kırmızısı          Turkish   \n",
       "\n",
       "                                 Director  \\\n",
       "0                                 Unknown   \n",
       "1                                 Unknown   \n",
       "2                                 Unknown   \n",
       "3                                 Unknown   \n",
       "4      George S. Fleming, Edwin S. Porter   \n",
       "...                                   ...   \n",
       "34881             Director: Russell Crowe   \n",
       "34882                      Selçuk Aydemir   \n",
       "34883                         Hakan Algül   \n",
       "34884                     Brendan Bradley   \n",
       "34885                      Ferzan Özpetek   \n",
       "\n",
       "                                                    Cast            Genre  \\\n",
       "0                                                    NaN          unknown   \n",
       "1                                                    NaN          unknown   \n",
       "2                                                    NaN          unknown   \n",
       "3                                                    NaN          unknown   \n",
       "4                                                    NaN          unknown   \n",
       "...                                                  ...              ...   \n",
       "34881  Director: Russell Crowe\\r\\nCast: Russell Crowe...          unknown   \n",
       "34882                          Ahmet Kural, Murat Cemcir           comedy   \n",
       "34883              Ata Demirer, Tuvana Türkay, Ülkü Duru           comedy   \n",
       "34884  YouTubers Shanna Malcolm, Shira Lazar, Sara Fl...  romantic comedy   \n",
       "34885  Halit Ergenç, Tuba Büyüküstün, Mehmet Günsür, ...         romantic   \n",
       "\n",
       "                                               Wiki Page  \\\n",
       "0      https://en.wikipedia.org/wiki/Kansas_Saloon_Sm...   \n",
       "1      https://en.wikipedia.org/wiki/Love_by_the_Ligh...   \n",
       "2      https://en.wikipedia.org/wiki/The_Martyred_Pre...   \n",
       "3      https://en.wikipedia.org/wiki/Terrible_Teddy,_...   \n",
       "4      https://en.wikipedia.org/wiki/Jack_and_the_Bea...   \n",
       "...                                                  ...   \n",
       "34881    https://en.wikipedia.org/wiki/The_Water_Diviner   \n",
       "34882  https://en.wikipedia.org/wiki/%C3%87alg%C4%B1_...   \n",
       "34883         https://en.wikipedia.org/wiki/Olanlar_Oldu   \n",
       "34884  https://en.wikipedia.org/wiki/Non-Transferable...   \n",
       "34885  https://en.wikipedia.org/wiki/%C4%B0stanbul_K%...   \n",
       "\n",
       "                                                    Plot  \\\n",
       "0      A bartender is working at a saloon, serving dr...   \n",
       "1      The moon, painted with a smiling face hangs ov...   \n",
       "2      The film, just over a minute long, is composed...   \n",
       "3      Lasting just 61 seconds and consisting of two ...   \n",
       "4      The earliest known adaptation of the classic f...   \n",
       "...                                                  ...   \n",
       "34881  The film begins in 1919, just after World War ...   \n",
       "34882  Two musicians, Salih and Gürkan, described the...   \n",
       "34883  Zafer, a sailor living with his mother Döndü i...   \n",
       "34884  The film centres around a young woman named Am...   \n",
       "34885  The writer Orhan Şahin returns to İstanbul aft...   \n",
       "\n",
       "                                                  Plot_1  \\\n",
       "0      A bartender is working at a saloon, serving dr...   \n",
       "1      The moon, painted with a smiling face hangs ov...   \n",
       "2      The film, just over a minute long, is composed...   \n",
       "3      Lasting just 61 seconds and consisting of two ...   \n",
       "4      The earliest known adaptation of the classic f...   \n",
       "...                                                  ...   \n",
       "34881  The film begins in 1919, just after World War ...   \n",
       "34882  Two musicians, Salih and Gürkan, described the...   \n",
       "34883  Zafer, a sailor living with his mother Döndü i...   \n",
       "34884  The film centres around a young woman named Am...   \n",
       "34885  The writer Orhan Şahin returns to İstanbul aft...   \n",
       "\n",
       "                                      plot_without_punct  \\\n",
       "0      a bartender is working at a saloon serving dri...   \n",
       "1      the moon painted with a smiling face hangs ove...   \n",
       "2      the film just over a minute long is composed o...   \n",
       "3      lasting just 61 seconds and consisting of two ...   \n",
       "4      the earliest known adaptation of the classic f...   \n",
       "...                                                  ...   \n",
       "34881  the film begins in 1919 just after world war i...   \n",
       "34882  two musicians salih and gürkan described the a...   \n",
       "34883  zafer a sailor living with his mother döndü in...   \n",
       "34884  the film centres around a young woman named am...   \n",
       "34885  the writer orhan şahin returns to i̇stanbul af...   \n",
       "\n",
       "                                          plot_tokenized  \\\n",
       "0      [a, bartender, is, working, at, a, saloon, ser...   \n",
       "1      [the, moon, painted, with, a, smiling, face, h...   \n",
       "2      [the, film, just, over, a, minute, long, is, c...   \n",
       "3      [lasting, just, 61, seconds, and, consisting, ...   \n",
       "4      [the, earliest, known, adaptation, of, the, cl...   \n",
       "...                                                  ...   \n",
       "34881  [the, film, begins, in, 1919, just, after, wor...   \n",
       "34882  [two, musicians, salih, and, gürkan, described...   \n",
       "34883  [zafer, a, sailor, living, with, his, mother, ...   \n",
       "34884  [the, film, centres, around, a, young, woman, ...   \n",
       "34885  [the, writer, orhan, şahin, returns, to, i̇sta...   \n",
       "\n",
       "                               plot_tokenized_removed_sw  \\\n",
       "0      [bartender, working, saloon, serving, drinks, ...   \n",
       "1      [moon, painted, smiling, face, hangs, park, ni...   \n",
       "2      [film, minute, long, composed, two, shots, fir...   \n",
       "3      [lasting, 61, seconds, consisting, two, shots,...   \n",
       "4      [earliest, known, adaptation, classic, fairyta...   \n",
       "...                                                  ...   \n",
       "34881  [film, begins, 1919, world, war, ended, centre...   \n",
       "34882  [two, musicians, salih, gürkan, described, adv...   \n",
       "34883  [zafer, sailor, living, mother, döndü, coastal...   \n",
       "34884  [film, centres, around, young, woman, named, a...   \n",
       "34885  [writer, orhan, şahin, returns, i̇stanbul, man...   \n",
       "\n",
       "                                              plot_lemma  \n",
       "0      [bartender, working, saloon, serving, drink, c...  \n",
       "1      [moon, painted, smiling, face, hang, park, nig...  \n",
       "2      [film, minute, long, composed, two, shot, firs...  \n",
       "3      [lasting, 61, second, consisting, two, shot, f...  \n",
       "4      [earliest, known, adaptation, classic, fairyta...  \n",
       "...                                                  ...  \n",
       "34881  [film, begin, 1919, world, war, ended, centre,...  \n",
       "34882  [two, musician, salih, gürkan, described, adve...  \n",
       "34883  [zafer, sailor, living, mother, döndü, coastal...  \n",
       "34884  [film, centre, around, young, woman, named, am...  \n",
       "34885  [writer, orhan, şahin, return, i̇stanbul, many...  \n",
       "\n",
       "[34886 rows x 13 columns]"
      ]
     },
     "execution_count": 17,
     "metadata": {},
     "output_type": "execute_result"
    }
   ],
   "source": [
    "df"
   ]
  },
  {
   "cell_type": "code",
   "execution_count": null,
   "id": "60264124",
   "metadata": {},
   "outputs": [],
   "source": []
  },
  {
   "cell_type": "code",
   "execution_count": 18,
   "id": "7689242f",
   "metadata": {},
   "outputs": [
    {
     "data": {
      "text/plain": [
       "Index(['Release Year', 'Title', 'Origin/Ethnicity', 'Director', 'Cast',\n",
       "       'Genre', 'Wiki Page', 'Plot', 'Plot_1', 'plot_without_punct',\n",
       "       'plot_tokenized', 'plot_tokenized_removed_sw', 'plot_lemma'],\n",
       "      dtype='object')"
      ]
     },
     "execution_count": 18,
     "metadata": {},
     "output_type": "execute_result"
    }
   ],
   "source": [
    "df.columns"
   ]
  },
  {
   "cell_type": "code",
   "execution_count": 19,
   "id": "14d9fc3e",
   "metadata": {},
   "outputs": [],
   "source": [
    "df=df[['Release Year', 'Title', 'Origin/Ethnicity', 'Director', 'Cast',\n",
    "       'Genre', 'Wiki Page', 'Plot', 'plot_lemma']]"
   ]
  },
  {
   "cell_type": "code",
   "execution_count": 21,
   "id": "8b2104eb",
   "metadata": {},
   "outputs": [],
   "source": [
    "df.rename(columns={'plot_lemma': 'Plot_cleanned'},inplace=True)"
   ]
  },
  {
   "cell_type": "code",
   "execution_count": 27,
   "id": "750f0af5",
   "metadata": {},
   "outputs": [
    {
     "data": {
      "text/plain": [
       "social, drama, history             1\n",
       "drama, comedy, romance, musical    1\n",
       "war propaganda                     1\n",
       "family, science fiction            1\n",
       "horror / found footage             1\n",
       "                                  ..\n",
       "mystery, suspense thriller         1\n",
       "epic, science fiction              1\n",
       "horror, action comedy              1\n",
       "history / war                      1\n",
       "mocatsu                            1\n",
       "Name: Genre, Length: 275, dtype: int64"
      ]
     },
     "execution_count": 27,
     "metadata": {},
     "output_type": "execute_result"
    }
   ],
   "source": [
    "df['Genre'].value_counts()[1990:]"
   ]
  },
  {
   "cell_type": "code",
   "execution_count": null,
   "id": "fc6a8821",
   "metadata": {},
   "outputs": [],
   "source": []
  }
 ],
 "metadata": {
  "kernelspec": {
   "display_name": "Python 3",
   "language": "python",
   "name": "python3"
  },
  "language_info": {
   "codemirror_mode": {
    "name": "ipython",
    "version": 3
   },
   "file_extension": ".py",
   "mimetype": "text/x-python",
   "name": "python",
   "nbconvert_exporter": "python",
   "pygments_lexer": "ipython3",
   "version": "3.8.10"
  }
 },
 "nbformat": 4,
 "nbformat_minor": 5
}
