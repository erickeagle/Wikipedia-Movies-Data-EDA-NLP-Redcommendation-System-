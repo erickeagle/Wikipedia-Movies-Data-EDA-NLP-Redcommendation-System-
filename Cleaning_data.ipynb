{
 "cells": [
  {
   "cell_type": "code",
   "execution_count": 1,
   "id": "b4d459ea",
   "metadata": {},
   "outputs": [],
   "source": [
    "#importing libraries"
   ]
  },
  {
   "cell_type": "code",
   "execution_count": 1,
   "id": "53fc8a7c",
   "metadata": {},
   "outputs": [],
   "source": [
    "import pandas as pd\n",
    "import pandas as pd\n",
    "import numpy as np\n",
    "import matplotlib.pyplot as plt\n",
    "import seaborn as sns\n",
    "import re\n",
    "import warnings\n",
    "warnings.filterwarnings(\"ignore\")\n",
    "\n",
    "import nltk"
   ]
  },
  {
   "cell_type": "code",
   "execution_count": 2,
   "id": "dc7fab58",
   "metadata": {},
   "outputs": [
    {
     "name": "stdout",
     "output_type": "stream",
     "text": [
      "Wall time: 1.31 s\n"
     ]
    }
   ],
   "source": [
    "%%time\n",
    "df=pd.read_csv('wiki_movie_plots_deduped_cleaned_genre.csv')"
   ]
  },
  {
   "cell_type": "code",
   "execution_count": 3,
   "id": "b49886b8",
   "metadata": {},
   "outputs": [
    {
     "data": {
      "text/plain": [
       "0        A bartender is working at a saloon, serving dr...\n",
       "1        The moon, painted with a smiling face hangs ov...\n",
       "2        The film, just over a minute long, is composed...\n",
       "3        Lasting just 61 seconds and consisting of two ...\n",
       "4        The earliest known adaptation of the classic f...\n",
       "                               ...                        \n",
       "41505    The film begins in 1919, just after World War ...\n",
       "41506    Two musicians, Salih and Gürkan, described the...\n",
       "41507    Zafer, a sailor living with his mother Döndü i...\n",
       "41508    The film centres around a young woman named Am...\n",
       "41509    The writer Orhan Şahin returns to İstanbul aft...\n",
       "Name: Plot, Length: 41510, dtype: object"
      ]
     },
     "execution_count": 3,
     "metadata": {},
     "output_type": "execute_result"
    }
   ],
   "source": [
    "df['Plot']"
   ]
  },
  {
   "cell_type": "code",
   "execution_count": 4,
   "id": "1cc6e269",
   "metadata": {},
   "outputs": [
    {
     "data": {
      "text/plain": [
       "\"Tim Kerry (Harry Carey), a veteran cop in the district of Hell's Kitchen, welcomes his son Ritzy (Bruce Cabot) after spending two years in prison. Ritzy has good friends and his former wife Julia (Julie Bishop) is hopeful that it will go on the right track. But the head of the gang, Morelli (Wynne Gibson) knows that Ritzy has good talent for crime, and makes a great offer, very hard to refuse.\""
      ]
     },
     "execution_count": 4,
     "metadata": {},
     "output_type": "execute_result"
    }
   ],
   "source": [
    "df['Plot'][3233]"
   ]
  },
  {
   "cell_type": "markdown",
   "id": "252d60c8",
   "metadata": {},
   "source": [
    "### List of punctuations"
   ]
  },
  {
   "cell_type": "code",
   "execution_count": 5,
   "id": "1315f859",
   "metadata": {},
   "outputs": [
    {
     "data": {
      "text/plain": [
       "'!\"#$%&\\'()*+,-./:;<=>?@[\\\\]^_`{|}~'"
      ]
     },
     "execution_count": 5,
     "metadata": {},
     "output_type": "execute_result"
    }
   ],
   "source": [
    "import string\n",
    "string.punctuation"
   ]
  },
  {
   "cell_type": "markdown",
   "id": "c2d75851",
   "metadata": {},
   "source": [
    "### Functions for cleaning the data"
   ]
  },
  {
   "cell_type": "code",
   "execution_count": 6,
   "id": "5692663b",
   "metadata": {},
   "outputs": [],
   "source": [
    "def remove_punctuation(text):\n",
    "    return ''.join([words.lower() for words in text if words not in string.punctuation])\n",
    "\n",
    "\n",
    "def tokenization(text):\n",
    "    return nltk.tokenize.word_tokenize(text)\n",
    "\n",
    "\n",
    "stopwords = nltk.corpus.stopwords.words('english')\n",
    "def stopwards(words):\n",
    "    return [i for i in words if i not in stopwords]\n",
    "\n",
    "lemma= nltk.WordNetLemmatizer()\n",
    "\n",
    "def lemmatization(words):\n",
    "    return ' '.join([lemma.lemmatize(word) for word in words])\n",
    "\n",
    "\n"
   ]
  },
  {
   "cell_type": "markdown",
   "id": "c9ec729f",
   "metadata": {},
   "source": [
    "### Cleaning the PLOT's"
   ]
  },
  {
   "cell_type": "code",
   "execution_count": 7,
   "id": "796125d4",
   "metadata": {},
   "outputs": [],
   "source": [
    "\n",
    "# \\r and \\n\n",
    "df['Plot_1'] = df['Plot'].str.replace(\"\\r\", \" \")\n",
    "df['Plot_1'] = df['Plot_1'].str.replace(\"\\n\", \" \")\n",
    "df['Plot_1'] = df['Plot_1'].str.replace(\"    \", \" \")"
   ]
  },
  {
   "cell_type": "code",
   "execution_count": 8,
   "id": "834ee6b7",
   "metadata": {},
   "outputs": [],
   "source": [
    "#%%time\n",
    "#df['Plot_1']=df['Plot_1'].apply(lambda x: re.sub(r'[0-9]', ' ',x))"
   ]
  },
  {
   "cell_type": "markdown",
   "id": "d05a61f8",
   "metadata": {},
   "source": [
    "### Removing the Punctations and Numbers"
   ]
  },
  {
   "cell_type": "code",
   "execution_count": 9,
   "id": "433a5e62",
   "metadata": {},
   "outputs": [
    {
     "name": "stdout",
     "output_type": "stream",
     "text": [
      "Wall time: 13.8 s\n"
     ]
    }
   ],
   "source": [
    "%%time\n",
    "df['plot_without_punct']=df['Plot_1'].apply(lambda x: re.sub(r'[0-9]', '',x)).apply(lambda x: remove_punctuation(x))"
   ]
  },
  {
   "cell_type": "code",
   "execution_count": null,
   "id": "938d7581",
   "metadata": {},
   "outputs": [],
   "source": []
  },
  {
   "cell_type": "markdown",
   "id": "b41557a0",
   "metadata": {},
   "source": [
    "### Tokenizing the words"
   ]
  },
  {
   "cell_type": "code",
   "execution_count": 10,
   "id": "cd67a222",
   "metadata": {},
   "outputs": [
    {
     "name": "stdout",
     "output_type": "stream",
     "text": [
      "Wall time: 45.1 s\n"
     ]
    }
   ],
   "source": [
    "%%time\n",
    "df['plot_tokenized']=df['plot_without_punct'].apply(lambda x: tokenization(x))"
   ]
  },
  {
   "cell_type": "markdown",
   "id": "5ec3965e",
   "metadata": {},
   "source": [
    "### Removing the Stopwords"
   ]
  },
  {
   "cell_type": "code",
   "execution_count": 11,
   "id": "48b858a4",
   "metadata": {},
   "outputs": [
    {
     "name": "stdout",
     "output_type": "stream",
     "text": [
      "Wall time: 22.6 s\n"
     ]
    }
   ],
   "source": [
    "%%time \n",
    "df['plot_tokenized_removed_sw']=df['plot_tokenized'].apply(lambda x: stopwards(x))"
   ]
  },
  {
   "cell_type": "markdown",
   "id": "e8f788cd",
   "metadata": {},
   "source": [
    "### Lemmatization"
   ]
  },
  {
   "cell_type": "code",
   "execution_count": 12,
   "id": "83ef304e",
   "metadata": {},
   "outputs": [
    {
     "name": "stdout",
     "output_type": "stream",
     "text": [
      "Wall time: 31.3 s\n"
     ]
    }
   ],
   "source": [
    "%%time \n",
    "df['plot_lemma']=df['plot_tokenized_removed_sw'].apply(lambda x: lemmatization(x))"
   ]
  },
  {
   "cell_type": "code",
   "execution_count": 13,
   "id": "b70e1aa8",
   "metadata": {},
   "outputs": [
    {
     "data": {
      "text/html": [
       "<div>\n",
       "<style scoped>\n",
       "    .dataframe tbody tr th:only-of-type {\n",
       "        vertical-align: middle;\n",
       "    }\n",
       "\n",
       "    .dataframe tbody tr th {\n",
       "        vertical-align: top;\n",
       "    }\n",
       "\n",
       "    .dataframe thead th {\n",
       "        text-align: right;\n",
       "    }\n",
       "</style>\n",
       "<table border=\"1\" class=\"dataframe\">\n",
       "  <thead>\n",
       "    <tr style=\"text-align: right;\">\n",
       "      <th></th>\n",
       "      <th>Release Year</th>\n",
       "      <th>Title</th>\n",
       "      <th>Origin/Ethnicity</th>\n",
       "      <th>Director</th>\n",
       "      <th>Cast</th>\n",
       "      <th>Genre</th>\n",
       "      <th>Wiki Page</th>\n",
       "      <th>Plot</th>\n",
       "      <th>Genre_updated</th>\n",
       "      <th>Plot_1</th>\n",
       "      <th>plot_without_punct</th>\n",
       "      <th>plot_tokenized</th>\n",
       "      <th>plot_tokenized_removed_sw</th>\n",
       "      <th>plot_lemma</th>\n",
       "    </tr>\n",
       "  </thead>\n",
       "  <tbody>\n",
       "    <tr>\n",
       "      <th>0</th>\n",
       "      <td>1901</td>\n",
       "      <td>Kansas Saloon Smashers</td>\n",
       "      <td>American</td>\n",
       "      <td>Unknown</td>\n",
       "      <td>NaN</td>\n",
       "      <td>NaN</td>\n",
       "      <td>https://en.wikipedia.org/wiki/Kansas_Saloon_Sm...</td>\n",
       "      <td>A bartender is working at a saloon, serving dr...</td>\n",
       "      <td>NaN</td>\n",
       "      <td>A bartender is working at a saloon, serving dr...</td>\n",
       "      <td>a bartender is working at a saloon serving dri...</td>\n",
       "      <td>[a, bartender, is, working, at, a, saloon, ser...</td>\n",
       "      <td>[bartender, working, saloon, serving, drinks, ...</td>\n",
       "      <td>bartender working saloon serving drink custome...</td>\n",
       "    </tr>\n",
       "    <tr>\n",
       "      <th>1</th>\n",
       "      <td>1901</td>\n",
       "      <td>Love by the Light of the Moon</td>\n",
       "      <td>American</td>\n",
       "      <td>Unknown</td>\n",
       "      <td>NaN</td>\n",
       "      <td>NaN</td>\n",
       "      <td>https://en.wikipedia.org/wiki/Love_by_the_Ligh...</td>\n",
       "      <td>The moon, painted with a smiling face hangs ov...</td>\n",
       "      <td>NaN</td>\n",
       "      <td>The moon, painted with a smiling face hangs ov...</td>\n",
       "      <td>the moon painted with a smiling face hangs ove...</td>\n",
       "      <td>[the, moon, painted, with, a, smiling, face, h...</td>\n",
       "      <td>[moon, painted, smiling, face, hangs, park, ni...</td>\n",
       "      <td>moon painted smiling face hang park night youn...</td>\n",
       "    </tr>\n",
       "    <tr>\n",
       "      <th>2</th>\n",
       "      <td>1901</td>\n",
       "      <td>The Martyred Presidents</td>\n",
       "      <td>American</td>\n",
       "      <td>Unknown</td>\n",
       "      <td>NaN</td>\n",
       "      <td>NaN</td>\n",
       "      <td>https://en.wikipedia.org/wiki/The_Martyred_Pre...</td>\n",
       "      <td>The film, just over a minute long, is composed...</td>\n",
       "      <td>NaN</td>\n",
       "      <td>The film, just over a minute long, is composed...</td>\n",
       "      <td>the film just over a minute long is composed o...</td>\n",
       "      <td>[the, film, just, over, a, minute, long, is, c...</td>\n",
       "      <td>[film, minute, long, composed, two, shots, fir...</td>\n",
       "      <td>film minute long composed two shot first girl ...</td>\n",
       "    </tr>\n",
       "    <tr>\n",
       "      <th>3</th>\n",
       "      <td>1901</td>\n",
       "      <td>Terrible Teddy, the Grizzly King</td>\n",
       "      <td>American</td>\n",
       "      <td>Unknown</td>\n",
       "      <td>NaN</td>\n",
       "      <td>NaN</td>\n",
       "      <td>https://en.wikipedia.org/wiki/Terrible_Teddy,_...</td>\n",
       "      <td>Lasting just 61 seconds and consisting of two ...</td>\n",
       "      <td>NaN</td>\n",
       "      <td>Lasting just 61 seconds and consisting of two ...</td>\n",
       "      <td>lasting just  seconds and consisting of two sh...</td>\n",
       "      <td>[lasting, just, seconds, and, consisting, of, ...</td>\n",
       "      <td>[lasting, seconds, consisting, two, shots, fir...</td>\n",
       "      <td>lasting second consisting two shot first shot ...</td>\n",
       "    </tr>\n",
       "    <tr>\n",
       "      <th>4</th>\n",
       "      <td>1902</td>\n",
       "      <td>Jack and the Beanstalk</td>\n",
       "      <td>American</td>\n",
       "      <td>George S. Fleming, Edwin S. Porter</td>\n",
       "      <td>NaN</td>\n",
       "      <td>NaN</td>\n",
       "      <td>https://en.wikipedia.org/wiki/Jack_and_the_Bea...</td>\n",
       "      <td>The earliest known adaptation of the classic f...</td>\n",
       "      <td>NaN</td>\n",
       "      <td>The earliest known adaptation of the classic f...</td>\n",
       "      <td>the earliest known adaptation of the classic f...</td>\n",
       "      <td>[the, earliest, known, adaptation, of, the, cl...</td>\n",
       "      <td>[earliest, known, adaptation, classic, fairyta...</td>\n",
       "      <td>earliest known adaptation classic fairytale fi...</td>\n",
       "    </tr>\n",
       "    <tr>\n",
       "      <th>...</th>\n",
       "      <td>...</td>\n",
       "      <td>...</td>\n",
       "      <td>...</td>\n",
       "      <td>...</td>\n",
       "      <td>...</td>\n",
       "      <td>...</td>\n",
       "      <td>...</td>\n",
       "      <td>...</td>\n",
       "      <td>...</td>\n",
       "      <td>...</td>\n",
       "      <td>...</td>\n",
       "      <td>...</td>\n",
       "      <td>...</td>\n",
       "      <td>...</td>\n",
       "    </tr>\n",
       "    <tr>\n",
       "      <th>41505</th>\n",
       "      <td>2014</td>\n",
       "      <td>The Water Diviner</td>\n",
       "      <td>Turkish</td>\n",
       "      <td>Director: Russell Crowe</td>\n",
       "      <td>Director: Russell Crowe\\r\\nCast: Russell Crowe...</td>\n",
       "      <td>NaN</td>\n",
       "      <td>https://en.wikipedia.org/wiki/The_Water_Diviner</td>\n",
       "      <td>The film begins in 1919, just after World War ...</td>\n",
       "      <td>NaN</td>\n",
       "      <td>The film begins in 1919, just after World War ...</td>\n",
       "      <td>the film begins in  just after world war i has...</td>\n",
       "      <td>[the, film, begins, in, just, after, world, wa...</td>\n",
       "      <td>[film, begins, world, war, ended, centres, aro...</td>\n",
       "      <td>film begin world war ended centre around joshu...</td>\n",
       "    </tr>\n",
       "    <tr>\n",
       "      <th>41506</th>\n",
       "      <td>2017</td>\n",
       "      <td>Çalgı Çengi İkimiz</td>\n",
       "      <td>Turkish</td>\n",
       "      <td>Selçuk Aydemir</td>\n",
       "      <td>Ahmet Kural, Murat Cemcir</td>\n",
       "      <td>comedy</td>\n",
       "      <td>https://en.wikipedia.org/wiki/%C3%87alg%C4%B1_...</td>\n",
       "      <td>Two musicians, Salih and Gürkan, described the...</td>\n",
       "      <td>comedy</td>\n",
       "      <td>Two musicians, Salih and Gürkan, described the...</td>\n",
       "      <td>two musicians salih and gürkan described the a...</td>\n",
       "      <td>[two, musicians, salih, and, gürkan, described...</td>\n",
       "      <td>[two, musicians, salih, gürkan, described, adv...</td>\n",
       "      <td>two musician salih gürkan described adventure ...</td>\n",
       "    </tr>\n",
       "    <tr>\n",
       "      <th>41507</th>\n",
       "      <td>2017</td>\n",
       "      <td>Olanlar Oldu</td>\n",
       "      <td>Turkish</td>\n",
       "      <td>Hakan Algül</td>\n",
       "      <td>Ata Demirer, Tuvana Türkay, Ülkü Duru</td>\n",
       "      <td>comedy</td>\n",
       "      <td>https://en.wikipedia.org/wiki/Olanlar_Oldu</td>\n",
       "      <td>Zafer, a sailor living with his mother Döndü i...</td>\n",
       "      <td>comedy</td>\n",
       "      <td>Zafer, a sailor living with his mother Döndü i...</td>\n",
       "      <td>zafer a sailor living with his mother döndü in...</td>\n",
       "      <td>[zafer, a, sailor, living, with, his, mother, ...</td>\n",
       "      <td>[zafer, sailor, living, mother, döndü, coastal...</td>\n",
       "      <td>zafer sailor living mother döndü coastal villa...</td>\n",
       "    </tr>\n",
       "    <tr>\n",
       "      <th>41508</th>\n",
       "      <td>2017</td>\n",
       "      <td>Non-Transferable</td>\n",
       "      <td>Turkish</td>\n",
       "      <td>Brendan Bradley</td>\n",
       "      <td>YouTubers Shanna Malcolm, Shira Lazar, Sara Fl...</td>\n",
       "      <td>romantic comedy</td>\n",
       "      <td>https://en.wikipedia.org/wiki/Non-Transferable...</td>\n",
       "      <td>The film centres around a young woman named Am...</td>\n",
       "      <td>comedy</td>\n",
       "      <td>The film centres around a young woman named Am...</td>\n",
       "      <td>the film centres around a young woman named am...</td>\n",
       "      <td>[the, film, centres, around, a, young, woman, ...</td>\n",
       "      <td>[film, centres, around, young, woman, named, a...</td>\n",
       "      <td>film centre around young woman named amy tyler...</td>\n",
       "    </tr>\n",
       "    <tr>\n",
       "      <th>41509</th>\n",
       "      <td>2017</td>\n",
       "      <td>İstanbul Kırmızısı</td>\n",
       "      <td>Turkish</td>\n",
       "      <td>Ferzan Özpetek</td>\n",
       "      <td>Halit Ergenç, Tuba Büyüküstün, Mehmet Günsür, ...</td>\n",
       "      <td>romantic</td>\n",
       "      <td>https://en.wikipedia.org/wiki/%C4%B0stanbul_K%...</td>\n",
       "      <td>The writer Orhan Şahin returns to İstanbul aft...</td>\n",
       "      <td>romance</td>\n",
       "      <td>The writer Orhan Şahin returns to İstanbul aft...</td>\n",
       "      <td>the writer orhan şahin returns to i̇stanbul af...</td>\n",
       "      <td>[the, writer, orhan, şahin, returns, to, i̇sta...</td>\n",
       "      <td>[writer, orhan, şahin, returns, i̇stanbul, man...</td>\n",
       "      <td>writer orhan şahin return i̇stanbul many year ...</td>\n",
       "    </tr>\n",
       "  </tbody>\n",
       "</table>\n",
       "<p>41510 rows × 14 columns</p>\n",
       "</div>"
      ],
      "text/plain": [
       "       Release Year                             Title Origin/Ethnicity  \\\n",
       "0              1901            Kansas Saloon Smashers         American   \n",
       "1              1901     Love by the Light of the Moon         American   \n",
       "2              1901           The Martyred Presidents         American   \n",
       "3              1901  Terrible Teddy, the Grizzly King         American   \n",
       "4              1902            Jack and the Beanstalk         American   \n",
       "...             ...                               ...              ...   \n",
       "41505          2014                 The Water Diviner          Turkish   \n",
       "41506          2017                Çalgı Çengi İkimiz          Turkish   \n",
       "41507          2017                      Olanlar Oldu          Turkish   \n",
       "41508          2017                  Non-Transferable          Turkish   \n",
       "41509          2017                İstanbul Kırmızısı          Turkish   \n",
       "\n",
       "                                 Director  \\\n",
       "0                                 Unknown   \n",
       "1                                 Unknown   \n",
       "2                                 Unknown   \n",
       "3                                 Unknown   \n",
       "4      George S. Fleming, Edwin S. Porter   \n",
       "...                                   ...   \n",
       "41505             Director: Russell Crowe   \n",
       "41506                      Selçuk Aydemir   \n",
       "41507                         Hakan Algül   \n",
       "41508                     Brendan Bradley   \n",
       "41509                      Ferzan Özpetek   \n",
       "\n",
       "                                                    Cast            Genre  \\\n",
       "0                                                    NaN              NaN   \n",
       "1                                                    NaN              NaN   \n",
       "2                                                    NaN              NaN   \n",
       "3                                                    NaN              NaN   \n",
       "4                                                    NaN              NaN   \n",
       "...                                                  ...              ...   \n",
       "41505  Director: Russell Crowe\\r\\nCast: Russell Crowe...              NaN   \n",
       "41506                          Ahmet Kural, Murat Cemcir           comedy   \n",
       "41507              Ata Demirer, Tuvana Türkay, Ülkü Duru           comedy   \n",
       "41508  YouTubers Shanna Malcolm, Shira Lazar, Sara Fl...  romantic comedy   \n",
       "41509  Halit Ergenç, Tuba Büyüküstün, Mehmet Günsür, ...         romantic   \n",
       "\n",
       "                                               Wiki Page  \\\n",
       "0      https://en.wikipedia.org/wiki/Kansas_Saloon_Sm...   \n",
       "1      https://en.wikipedia.org/wiki/Love_by_the_Ligh...   \n",
       "2      https://en.wikipedia.org/wiki/The_Martyred_Pre...   \n",
       "3      https://en.wikipedia.org/wiki/Terrible_Teddy,_...   \n",
       "4      https://en.wikipedia.org/wiki/Jack_and_the_Bea...   \n",
       "...                                                  ...   \n",
       "41505    https://en.wikipedia.org/wiki/The_Water_Diviner   \n",
       "41506  https://en.wikipedia.org/wiki/%C3%87alg%C4%B1_...   \n",
       "41507         https://en.wikipedia.org/wiki/Olanlar_Oldu   \n",
       "41508  https://en.wikipedia.org/wiki/Non-Transferable...   \n",
       "41509  https://en.wikipedia.org/wiki/%C4%B0stanbul_K%...   \n",
       "\n",
       "                                                    Plot Genre_updated  \\\n",
       "0      A bartender is working at a saloon, serving dr...           NaN   \n",
       "1      The moon, painted with a smiling face hangs ov...           NaN   \n",
       "2      The film, just over a minute long, is composed...           NaN   \n",
       "3      Lasting just 61 seconds and consisting of two ...           NaN   \n",
       "4      The earliest known adaptation of the classic f...           NaN   \n",
       "...                                                  ...           ...   \n",
       "41505  The film begins in 1919, just after World War ...           NaN   \n",
       "41506  Two musicians, Salih and Gürkan, described the...        comedy   \n",
       "41507  Zafer, a sailor living with his mother Döndü i...        comedy   \n",
       "41508  The film centres around a young woman named Am...        comedy   \n",
       "41509  The writer Orhan Şahin returns to İstanbul aft...       romance   \n",
       "\n",
       "                                                  Plot_1  \\\n",
       "0      A bartender is working at a saloon, serving dr...   \n",
       "1      The moon, painted with a smiling face hangs ov...   \n",
       "2      The film, just over a minute long, is composed...   \n",
       "3      Lasting just 61 seconds and consisting of two ...   \n",
       "4      The earliest known adaptation of the classic f...   \n",
       "...                                                  ...   \n",
       "41505  The film begins in 1919, just after World War ...   \n",
       "41506  Two musicians, Salih and Gürkan, described the...   \n",
       "41507  Zafer, a sailor living with his mother Döndü i...   \n",
       "41508  The film centres around a young woman named Am...   \n",
       "41509  The writer Orhan Şahin returns to İstanbul aft...   \n",
       "\n",
       "                                      plot_without_punct  \\\n",
       "0      a bartender is working at a saloon serving dri...   \n",
       "1      the moon painted with a smiling face hangs ove...   \n",
       "2      the film just over a minute long is composed o...   \n",
       "3      lasting just  seconds and consisting of two sh...   \n",
       "4      the earliest known adaptation of the classic f...   \n",
       "...                                                  ...   \n",
       "41505  the film begins in  just after world war i has...   \n",
       "41506  two musicians salih and gürkan described the a...   \n",
       "41507  zafer a sailor living with his mother döndü in...   \n",
       "41508  the film centres around a young woman named am...   \n",
       "41509  the writer orhan şahin returns to i̇stanbul af...   \n",
       "\n",
       "                                          plot_tokenized  \\\n",
       "0      [a, bartender, is, working, at, a, saloon, ser...   \n",
       "1      [the, moon, painted, with, a, smiling, face, h...   \n",
       "2      [the, film, just, over, a, minute, long, is, c...   \n",
       "3      [lasting, just, seconds, and, consisting, of, ...   \n",
       "4      [the, earliest, known, adaptation, of, the, cl...   \n",
       "...                                                  ...   \n",
       "41505  [the, film, begins, in, just, after, world, wa...   \n",
       "41506  [two, musicians, salih, and, gürkan, described...   \n",
       "41507  [zafer, a, sailor, living, with, his, mother, ...   \n",
       "41508  [the, film, centres, around, a, young, woman, ...   \n",
       "41509  [the, writer, orhan, şahin, returns, to, i̇sta...   \n",
       "\n",
       "                               plot_tokenized_removed_sw  \\\n",
       "0      [bartender, working, saloon, serving, drinks, ...   \n",
       "1      [moon, painted, smiling, face, hangs, park, ni...   \n",
       "2      [film, minute, long, composed, two, shots, fir...   \n",
       "3      [lasting, seconds, consisting, two, shots, fir...   \n",
       "4      [earliest, known, adaptation, classic, fairyta...   \n",
       "...                                                  ...   \n",
       "41505  [film, begins, world, war, ended, centres, aro...   \n",
       "41506  [two, musicians, salih, gürkan, described, adv...   \n",
       "41507  [zafer, sailor, living, mother, döndü, coastal...   \n",
       "41508  [film, centres, around, young, woman, named, a...   \n",
       "41509  [writer, orhan, şahin, returns, i̇stanbul, man...   \n",
       "\n",
       "                                              plot_lemma  \n",
       "0      bartender working saloon serving drink custome...  \n",
       "1      moon painted smiling face hang park night youn...  \n",
       "2      film minute long composed two shot first girl ...  \n",
       "3      lasting second consisting two shot first shot ...  \n",
       "4      earliest known adaptation classic fairytale fi...  \n",
       "...                                                  ...  \n",
       "41505  film begin world war ended centre around joshu...  \n",
       "41506  two musician salih gürkan described adventure ...  \n",
       "41507  zafer sailor living mother döndü coastal villa...  \n",
       "41508  film centre around young woman named amy tyler...  \n",
       "41509  writer orhan şahin return i̇stanbul many year ...  \n",
       "\n",
       "[41510 rows x 14 columns]"
      ]
     },
     "execution_count": 13,
     "metadata": {},
     "output_type": "execute_result"
    }
   ],
   "source": [
    "df"
   ]
  },
  {
   "cell_type": "markdown",
   "id": "52dc27bc",
   "metadata": {},
   "source": [
    "### Selecting the dersired columns"
   ]
  },
  {
   "cell_type": "code",
   "execution_count": 14,
   "id": "5700e2f6",
   "metadata": {},
   "outputs": [
    {
     "data": {
      "text/plain": [
       "Index(['Release Year', 'Title', 'Origin/Ethnicity', 'Director', 'Cast',\n",
       "       'Genre', 'Wiki Page', 'Plot', 'Genre_updated', 'Plot_1',\n",
       "       'plot_without_punct', 'plot_tokenized', 'plot_tokenized_removed_sw',\n",
       "       'plot_lemma'],\n",
       "      dtype='object')"
      ]
     },
     "execution_count": 14,
     "metadata": {},
     "output_type": "execute_result"
    }
   ],
   "source": [
    "df.columns"
   ]
  },
  {
   "cell_type": "code",
   "execution_count": 15,
   "id": "d4568edd",
   "metadata": {},
   "outputs": [],
   "source": [
    "df=df[['Release Year', 'Title', 'Origin/Ethnicity', 'Director', 'Cast',\n",
    "       'Genre','Genre_updated', 'Wiki Page', 'Plot', 'plot_lemma']]"
   ]
  },
  {
   "cell_type": "code",
   "execution_count": 16,
   "id": "de56b140",
   "metadata": {},
   "outputs": [],
   "source": [
    "df.rename(columns={'plot_lemma': 'Plot_cleanned'},inplace=True)"
   ]
  },
  {
   "cell_type": "code",
   "execution_count": 17,
   "id": "e9871a07",
   "metadata": {},
   "outputs": [
    {
     "data": {
      "text/html": [
       "<div>\n",
       "<style scoped>\n",
       "    .dataframe tbody tr th:only-of-type {\n",
       "        vertical-align: middle;\n",
       "    }\n",
       "\n",
       "    .dataframe tbody tr th {\n",
       "        vertical-align: top;\n",
       "    }\n",
       "\n",
       "    .dataframe thead th {\n",
       "        text-align: right;\n",
       "    }\n",
       "</style>\n",
       "<table border=\"1\" class=\"dataframe\">\n",
       "  <thead>\n",
       "    <tr style=\"text-align: right;\">\n",
       "      <th></th>\n",
       "      <th>Release Year</th>\n",
       "      <th>Title</th>\n",
       "      <th>Origin/Ethnicity</th>\n",
       "      <th>Director</th>\n",
       "      <th>Cast</th>\n",
       "      <th>Genre</th>\n",
       "      <th>Genre_updated</th>\n",
       "      <th>Wiki Page</th>\n",
       "      <th>Plot</th>\n",
       "      <th>Plot_cleanned</th>\n",
       "    </tr>\n",
       "  </thead>\n",
       "  <tbody>\n",
       "    <tr>\n",
       "      <th>0</th>\n",
       "      <td>1901</td>\n",
       "      <td>Kansas Saloon Smashers</td>\n",
       "      <td>American</td>\n",
       "      <td>Unknown</td>\n",
       "      <td>NaN</td>\n",
       "      <td>NaN</td>\n",
       "      <td>NaN</td>\n",
       "      <td>https://en.wikipedia.org/wiki/Kansas_Saloon_Sm...</td>\n",
       "      <td>A bartender is working at a saloon, serving dr...</td>\n",
       "      <td>bartender working saloon serving drink custome...</td>\n",
       "    </tr>\n",
       "    <tr>\n",
       "      <th>1</th>\n",
       "      <td>1901</td>\n",
       "      <td>Love by the Light of the Moon</td>\n",
       "      <td>American</td>\n",
       "      <td>Unknown</td>\n",
       "      <td>NaN</td>\n",
       "      <td>NaN</td>\n",
       "      <td>NaN</td>\n",
       "      <td>https://en.wikipedia.org/wiki/Love_by_the_Ligh...</td>\n",
       "      <td>The moon, painted with a smiling face hangs ov...</td>\n",
       "      <td>moon painted smiling face hang park night youn...</td>\n",
       "    </tr>\n",
       "    <tr>\n",
       "      <th>2</th>\n",
       "      <td>1901</td>\n",
       "      <td>The Martyred Presidents</td>\n",
       "      <td>American</td>\n",
       "      <td>Unknown</td>\n",
       "      <td>NaN</td>\n",
       "      <td>NaN</td>\n",
       "      <td>NaN</td>\n",
       "      <td>https://en.wikipedia.org/wiki/The_Martyred_Pre...</td>\n",
       "      <td>The film, just over a minute long, is composed...</td>\n",
       "      <td>film minute long composed two shot first girl ...</td>\n",
       "    </tr>\n",
       "    <tr>\n",
       "      <th>3</th>\n",
       "      <td>1901</td>\n",
       "      <td>Terrible Teddy, the Grizzly King</td>\n",
       "      <td>American</td>\n",
       "      <td>Unknown</td>\n",
       "      <td>NaN</td>\n",
       "      <td>NaN</td>\n",
       "      <td>NaN</td>\n",
       "      <td>https://en.wikipedia.org/wiki/Terrible_Teddy,_...</td>\n",
       "      <td>Lasting just 61 seconds and consisting of two ...</td>\n",
       "      <td>lasting second consisting two shot first shot ...</td>\n",
       "    </tr>\n",
       "    <tr>\n",
       "      <th>4</th>\n",
       "      <td>1902</td>\n",
       "      <td>Jack and the Beanstalk</td>\n",
       "      <td>American</td>\n",
       "      <td>George S. Fleming, Edwin S. Porter</td>\n",
       "      <td>NaN</td>\n",
       "      <td>NaN</td>\n",
       "      <td>NaN</td>\n",
       "      <td>https://en.wikipedia.org/wiki/Jack_and_the_Bea...</td>\n",
       "      <td>The earliest known adaptation of the classic f...</td>\n",
       "      <td>earliest known adaptation classic fairytale fi...</td>\n",
       "    </tr>\n",
       "    <tr>\n",
       "      <th>...</th>\n",
       "      <td>...</td>\n",
       "      <td>...</td>\n",
       "      <td>...</td>\n",
       "      <td>...</td>\n",
       "      <td>...</td>\n",
       "      <td>...</td>\n",
       "      <td>...</td>\n",
       "      <td>...</td>\n",
       "      <td>...</td>\n",
       "      <td>...</td>\n",
       "    </tr>\n",
       "    <tr>\n",
       "      <th>41505</th>\n",
       "      <td>2014</td>\n",
       "      <td>The Water Diviner</td>\n",
       "      <td>Turkish</td>\n",
       "      <td>Director: Russell Crowe</td>\n",
       "      <td>Director: Russell Crowe\\r\\nCast: Russell Crowe...</td>\n",
       "      <td>NaN</td>\n",
       "      <td>NaN</td>\n",
       "      <td>https://en.wikipedia.org/wiki/The_Water_Diviner</td>\n",
       "      <td>The film begins in 1919, just after World War ...</td>\n",
       "      <td>film begin world war ended centre around joshu...</td>\n",
       "    </tr>\n",
       "    <tr>\n",
       "      <th>41506</th>\n",
       "      <td>2017</td>\n",
       "      <td>Çalgı Çengi İkimiz</td>\n",
       "      <td>Turkish</td>\n",
       "      <td>Selçuk Aydemir</td>\n",
       "      <td>Ahmet Kural, Murat Cemcir</td>\n",
       "      <td>comedy</td>\n",
       "      <td>comedy</td>\n",
       "      <td>https://en.wikipedia.org/wiki/%C3%87alg%C4%B1_...</td>\n",
       "      <td>Two musicians, Salih and Gürkan, described the...</td>\n",
       "      <td>two musician salih gürkan described adventure ...</td>\n",
       "    </tr>\n",
       "    <tr>\n",
       "      <th>41507</th>\n",
       "      <td>2017</td>\n",
       "      <td>Olanlar Oldu</td>\n",
       "      <td>Turkish</td>\n",
       "      <td>Hakan Algül</td>\n",
       "      <td>Ata Demirer, Tuvana Türkay, Ülkü Duru</td>\n",
       "      <td>comedy</td>\n",
       "      <td>comedy</td>\n",
       "      <td>https://en.wikipedia.org/wiki/Olanlar_Oldu</td>\n",
       "      <td>Zafer, a sailor living with his mother Döndü i...</td>\n",
       "      <td>zafer sailor living mother döndü coastal villa...</td>\n",
       "    </tr>\n",
       "    <tr>\n",
       "      <th>41508</th>\n",
       "      <td>2017</td>\n",
       "      <td>Non-Transferable</td>\n",
       "      <td>Turkish</td>\n",
       "      <td>Brendan Bradley</td>\n",
       "      <td>YouTubers Shanna Malcolm, Shira Lazar, Sara Fl...</td>\n",
       "      <td>romantic comedy</td>\n",
       "      <td>comedy</td>\n",
       "      <td>https://en.wikipedia.org/wiki/Non-Transferable...</td>\n",
       "      <td>The film centres around a young woman named Am...</td>\n",
       "      <td>film centre around young woman named amy tyler...</td>\n",
       "    </tr>\n",
       "    <tr>\n",
       "      <th>41509</th>\n",
       "      <td>2017</td>\n",
       "      <td>İstanbul Kırmızısı</td>\n",
       "      <td>Turkish</td>\n",
       "      <td>Ferzan Özpetek</td>\n",
       "      <td>Halit Ergenç, Tuba Büyüküstün, Mehmet Günsür, ...</td>\n",
       "      <td>romantic</td>\n",
       "      <td>romance</td>\n",
       "      <td>https://en.wikipedia.org/wiki/%C4%B0stanbul_K%...</td>\n",
       "      <td>The writer Orhan Şahin returns to İstanbul aft...</td>\n",
       "      <td>writer orhan şahin return i̇stanbul many year ...</td>\n",
       "    </tr>\n",
       "  </tbody>\n",
       "</table>\n",
       "<p>41510 rows × 10 columns</p>\n",
       "</div>"
      ],
      "text/plain": [
       "       Release Year                             Title Origin/Ethnicity  \\\n",
       "0              1901            Kansas Saloon Smashers         American   \n",
       "1              1901     Love by the Light of the Moon         American   \n",
       "2              1901           The Martyred Presidents         American   \n",
       "3              1901  Terrible Teddy, the Grizzly King         American   \n",
       "4              1902            Jack and the Beanstalk         American   \n",
       "...             ...                               ...              ...   \n",
       "41505          2014                 The Water Diviner          Turkish   \n",
       "41506          2017                Çalgı Çengi İkimiz          Turkish   \n",
       "41507          2017                      Olanlar Oldu          Turkish   \n",
       "41508          2017                  Non-Transferable          Turkish   \n",
       "41509          2017                İstanbul Kırmızısı          Turkish   \n",
       "\n",
       "                                 Director  \\\n",
       "0                                 Unknown   \n",
       "1                                 Unknown   \n",
       "2                                 Unknown   \n",
       "3                                 Unknown   \n",
       "4      George S. Fleming, Edwin S. Porter   \n",
       "...                                   ...   \n",
       "41505             Director: Russell Crowe   \n",
       "41506                      Selçuk Aydemir   \n",
       "41507                         Hakan Algül   \n",
       "41508                     Brendan Bradley   \n",
       "41509                      Ferzan Özpetek   \n",
       "\n",
       "                                                    Cast            Genre  \\\n",
       "0                                                    NaN              NaN   \n",
       "1                                                    NaN              NaN   \n",
       "2                                                    NaN              NaN   \n",
       "3                                                    NaN              NaN   \n",
       "4                                                    NaN              NaN   \n",
       "...                                                  ...              ...   \n",
       "41505  Director: Russell Crowe\\r\\nCast: Russell Crowe...              NaN   \n",
       "41506                          Ahmet Kural, Murat Cemcir           comedy   \n",
       "41507              Ata Demirer, Tuvana Türkay, Ülkü Duru           comedy   \n",
       "41508  YouTubers Shanna Malcolm, Shira Lazar, Sara Fl...  romantic comedy   \n",
       "41509  Halit Ergenç, Tuba Büyüküstün, Mehmet Günsür, ...         romantic   \n",
       "\n",
       "      Genre_updated                                          Wiki Page  \\\n",
       "0               NaN  https://en.wikipedia.org/wiki/Kansas_Saloon_Sm...   \n",
       "1               NaN  https://en.wikipedia.org/wiki/Love_by_the_Ligh...   \n",
       "2               NaN  https://en.wikipedia.org/wiki/The_Martyred_Pre...   \n",
       "3               NaN  https://en.wikipedia.org/wiki/Terrible_Teddy,_...   \n",
       "4               NaN  https://en.wikipedia.org/wiki/Jack_and_the_Bea...   \n",
       "...             ...                                                ...   \n",
       "41505           NaN    https://en.wikipedia.org/wiki/The_Water_Diviner   \n",
       "41506        comedy  https://en.wikipedia.org/wiki/%C3%87alg%C4%B1_...   \n",
       "41507        comedy         https://en.wikipedia.org/wiki/Olanlar_Oldu   \n",
       "41508        comedy  https://en.wikipedia.org/wiki/Non-Transferable...   \n",
       "41509       romance  https://en.wikipedia.org/wiki/%C4%B0stanbul_K%...   \n",
       "\n",
       "                                                    Plot  \\\n",
       "0      A bartender is working at a saloon, serving dr...   \n",
       "1      The moon, painted with a smiling face hangs ov...   \n",
       "2      The film, just over a minute long, is composed...   \n",
       "3      Lasting just 61 seconds and consisting of two ...   \n",
       "4      The earliest known adaptation of the classic f...   \n",
       "...                                                  ...   \n",
       "41505  The film begins in 1919, just after World War ...   \n",
       "41506  Two musicians, Salih and Gürkan, described the...   \n",
       "41507  Zafer, a sailor living with his mother Döndü i...   \n",
       "41508  The film centres around a young woman named Am...   \n",
       "41509  The writer Orhan Şahin returns to İstanbul aft...   \n",
       "\n",
       "                                           Plot_cleanned  \n",
       "0      bartender working saloon serving drink custome...  \n",
       "1      moon painted smiling face hang park night youn...  \n",
       "2      film minute long composed two shot first girl ...  \n",
       "3      lasting second consisting two shot first shot ...  \n",
       "4      earliest known adaptation classic fairytale fi...  \n",
       "...                                                  ...  \n",
       "41505  film begin world war ended centre around joshu...  \n",
       "41506  two musician salih gürkan described adventure ...  \n",
       "41507  zafer sailor living mother döndü coastal villa...  \n",
       "41508  film centre around young woman named amy tyler...  \n",
       "41509  writer orhan şahin return i̇stanbul many year ...  \n",
       "\n",
       "[41510 rows x 10 columns]"
      ]
     },
     "execution_count": 17,
     "metadata": {},
     "output_type": "execute_result"
    }
   ],
   "source": [
    "df"
   ]
  },
  {
   "cell_type": "code",
   "execution_count": 18,
   "id": "ce1fbf75",
   "metadata": {},
   "outputs": [],
   "source": [
    "df.to_csv('wiki_movie_plots_deduped_cleaned_genre_and_plot.csv',index=False)"
   ]
  },
  {
   "cell_type": "code",
   "execution_count": null,
   "id": "84f8134a",
   "metadata": {},
   "outputs": [],
   "source": []
  },
  {
   "cell_type": "code",
   "execution_count": 19,
   "id": "61a6e9cb",
   "metadata": {},
   "outputs": [],
   "source": [
    "data=df[['Plot','Plot_cleanned','Genre_updated']]"
   ]
  },
  {
   "cell_type": "code",
   "execution_count": 26,
   "id": "621bc802",
   "metadata": {},
   "outputs": [],
   "source": [
    "data['Len_of_Plot']=data['Plot_cleanned'].apply(lambda x: len(x))"
   ]
  },
  {
   "cell_type": "code",
   "execution_count": 30,
   "id": "5d25ba3b",
   "metadata": {},
   "outputs": [
    {
     "data": {
      "text/plain": [
       "23062"
      ]
     },
     "execution_count": 30,
     "metadata": {},
     "output_type": "execute_result"
    }
   ],
   "source": [
    "max(data['Len_of_Plot'])"
   ]
  },
  {
   "cell_type": "code",
   "execution_count": null,
   "id": "9047910d",
   "metadata": {},
   "outputs": [],
   "source": [
    "import matplotlib.pyplot as plt"
   ]
  },
  {
   "cell_type": "code",
   "execution_count": 46,
   "id": "b350908c",
   "metadata": {},
   "outputs": [
    {
     "data": {
      "image/png": "[encoded data removed]",
      "text/plain": [
       "<Figure size 2880x1440 with 1 Axes>"
      ]
     },
     "metadata": {
      "needs_background": "light"
     },
     "output_type": "display_data"
    }
   ],
   "source": [
    "bins= [i for i in range(10,2500,20)]\n",
    "plt.rcParams[\"figure.figsize\"] = (40,20)\n",
    "plt.hist(data['Len_of_Plot'], bins=bins)\n",
    "plt.xticks(bins,size=20,rotation=90)\n",
    "plt.yticks(size=20)\n",
    "plt.show() \n"
   ]
  },
  {
   "cell_type": "code",
   "execution_count": null,
   "id": "e04e40f8",
   "metadata": {},
   "outputs": [],
   "source": []
  },
  {
   "cell_type": "code",
   "execution_count": null,
   "id": "6a8f0492",
   "metadata": {},
   "outputs": [],
   "source": []
  },
  {
   "cell_type": "code",
   "execution_count": null,
   "id": "6557347b",
   "metadata": {},
   "outputs": [],
   "source": []
  },
  {
   "cell_type": "code",
   "execution_count": null,
   "id": "f82be472",
   "metadata": {},
   "outputs": [],
   "source": []
  },
  {
   "cell_type": "code",
   "execution_count": null,
   "id": "b9bc5e53",
   "metadata": {},
   "outputs": [],
   "source": []
  },
  {
   "cell_type": "code",
   "execution_count": null,
   "id": "cb37ee6a",
   "metadata": {},
   "outputs": [],
   "source": []
  },
  {
   "cell_type": "code",
   "execution_count": null,
   "id": "36aa5888",
   "metadata": {},
   "outputs": [],
   "source": []
  },
  {
   "cell_type": "code",
   "execution_count": null,
   "id": "f1841b9f",
   "metadata": {},
   "outputs": [],
   "source": []
  }
 ],
 "metadata": {
  "kernelspec": {
   "display_name": "Python 3",
   "language": "python",
   "name": "python3"
  },
  "language_info": {
   "codemirror_mode": {
    "name": "ipython",
    "version": 3
   },
   "file_extension": ".py",
   "mimetype": "text/x-python",
   "name": "python",
   "nbconvert_exporter": "python",
   "pygments_lexer": "ipython3",
   "version": "3.8.10"
  }
 },
 "nbformat": 4,
 "nbformat_minor": 5
}
