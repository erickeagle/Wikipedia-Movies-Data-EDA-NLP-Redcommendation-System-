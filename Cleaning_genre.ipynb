{
 "cells": [
  {
   "cell_type": "code",
   "execution_count": 1,
   "id": "bd77b77c",
   "metadata": {
    "slideshow": {
     "slide_type": "slide"
    }
   },
   "outputs": [],
   "source": [
    "import pandas as pd\n",
    "import pandas as pd\n",
    "import numpy as np\n",
    "import matplotlib.pyplot as plt\n",
    "import seaborn as sns\n",
    "import re\n",
    "import warnings\n",
    "warnings.filterwarnings(\"ignore\")\n",
    "\n",
    "import nltk\n",
    "from thefuzz import fuzz\n",
    "from thefuzz import process"
   ]
  },
  {
   "cell_type": "code",
   "execution_count": 2,
   "id": "0fac98f8",
   "metadata": {},
   "outputs": [
    {
     "name": "stdout",
     "output_type": "stream",
     "text": [
      "Wall time: 1.14 s\n"
     ]
    },
    {
     "data": {
      "text/plain": [
       "2265"
      ]
     },
     "execution_count": 2,
     "metadata": {},
     "output_type": "execute_result"
    }
   ],
   "source": [
    "%%time\n",
    "df=pd.read_csv('wiki_movie_plots_deduped.csv')\n",
    "df['Genre'].nunique()"
   ]
  },
  {
   "cell_type": "code",
   "execution_count": 3,
   "id": "a914444b",
   "metadata": {},
   "outputs": [],
   "source": [
    "\n",
    "df['Genre']= df['Genre'].str.replace(\"unknown\", \"\")\n"
   ]
  },
  {
   "cell_type": "code",
   "execution_count": 4,
   "id": "48c8f4b4",
   "metadata": {},
   "outputs": [
    {
     "data": {
      "text/html": [
       "<div>\n",
       "<style scoped>\n",
       "    .dataframe tbody tr th:only-of-type {\n",
       "        vertical-align: middle;\n",
       "    }\n",
       "\n",
       "    .dataframe tbody tr th {\n",
       "        vertical-align: top;\n",
       "    }\n",
       "\n",
       "    .dataframe thead th {\n",
       "        text-align: right;\n",
       "    }\n",
       "</style>\n",
       "<table border=\"1\" class=\"dataframe\">\n",
       "  <thead>\n",
       "    <tr style=\"text-align: right;\">\n",
       "      <th></th>\n",
       "      <th>Genres</th>\n",
       "      <th>counts</th>\n",
       "    </tr>\n",
       "  </thead>\n",
       "  <tbody>\n",
       "    <tr>\n",
       "      <th>0</th>\n",
       "      <td></td>\n",
       "      <td>6083</td>\n",
       "    </tr>\n",
       "    <tr>\n",
       "      <th>1</th>\n",
       "      <td>drama</td>\n",
       "      <td>5964</td>\n",
       "    </tr>\n",
       "    <tr>\n",
       "      <th>2</th>\n",
       "      <td>comedy</td>\n",
       "      <td>4379</td>\n",
       "    </tr>\n",
       "    <tr>\n",
       "      <th>3</th>\n",
       "      <td>horror</td>\n",
       "      <td>1167</td>\n",
       "    </tr>\n",
       "    <tr>\n",
       "      <th>4</th>\n",
       "      <td>action</td>\n",
       "      <td>1098</td>\n",
       "    </tr>\n",
       "    <tr>\n",
       "      <th>5</th>\n",
       "      <td>thriller</td>\n",
       "      <td>966</td>\n",
       "    </tr>\n",
       "    <tr>\n",
       "      <th>6</th>\n",
       "      <td>romance</td>\n",
       "      <td>923</td>\n",
       "    </tr>\n",
       "    <tr>\n",
       "      <th>7</th>\n",
       "      <td>western</td>\n",
       "      <td>865</td>\n",
       "    </tr>\n",
       "    <tr>\n",
       "      <th>8</th>\n",
       "      <td>crime</td>\n",
       "      <td>568</td>\n",
       "    </tr>\n",
       "    <tr>\n",
       "      <th>9</th>\n",
       "      <td>adventure</td>\n",
       "      <td>526</td>\n",
       "    </tr>\n",
       "    <tr>\n",
       "      <th>10</th>\n",
       "      <td>musical</td>\n",
       "      <td>467</td>\n",
       "    </tr>\n",
       "    <tr>\n",
       "      <th>11</th>\n",
       "      <td>crime drama</td>\n",
       "      <td>464</td>\n",
       "    </tr>\n",
       "    <tr>\n",
       "      <th>12</th>\n",
       "      <td>romantic comedy</td>\n",
       "      <td>461</td>\n",
       "    </tr>\n",
       "    <tr>\n",
       "      <th>13</th>\n",
       "      <td>science fiction</td>\n",
       "      <td>418</td>\n",
       "    </tr>\n",
       "    <tr>\n",
       "      <th>14</th>\n",
       "      <td>film noir</td>\n",
       "      <td>345</td>\n",
       "    </tr>\n",
       "    <tr>\n",
       "      <th>15</th>\n",
       "      <td>mystery</td>\n",
       "      <td>310</td>\n",
       "    </tr>\n",
       "    <tr>\n",
       "      <th>16</th>\n",
       "      <td>war</td>\n",
       "      <td>273</td>\n",
       "    </tr>\n",
       "    <tr>\n",
       "      <th>17</th>\n",
       "      <td>animation</td>\n",
       "      <td>264</td>\n",
       "    </tr>\n",
       "    <tr>\n",
       "      <th>18</th>\n",
       "      <td>comedy, drama</td>\n",
       "      <td>236</td>\n",
       "    </tr>\n",
       "    <tr>\n",
       "      <th>19</th>\n",
       "      <td>sci-fi</td>\n",
       "      <td>221</td>\n",
       "    </tr>\n",
       "    <tr>\n",
       "      <th>20</th>\n",
       "      <td>family</td>\n",
       "      <td>217</td>\n",
       "    </tr>\n",
       "    <tr>\n",
       "      <th>21</th>\n",
       "      <td>fantasy</td>\n",
       "      <td>204</td>\n",
       "    </tr>\n",
       "    <tr>\n",
       "      <th>22</th>\n",
       "      <td>animated</td>\n",
       "      <td>195</td>\n",
       "    </tr>\n",
       "    <tr>\n",
       "      <th>23</th>\n",
       "      <td>musical comedy</td>\n",
       "      <td>154</td>\n",
       "    </tr>\n",
       "    <tr>\n",
       "      <th>24</th>\n",
       "      <td>comedy-drama</td>\n",
       "      <td>137</td>\n",
       "    </tr>\n",
       "    <tr>\n",
       "      <th>25</th>\n",
       "      <td>biography</td>\n",
       "      <td>136</td>\n",
       "    </tr>\n",
       "    <tr>\n",
       "      <th>26</th>\n",
       "      <td>anime</td>\n",
       "      <td>112</td>\n",
       "    </tr>\n",
       "    <tr>\n",
       "      <th>27</th>\n",
       "      <td>suspense</td>\n",
       "      <td>104</td>\n",
       "    </tr>\n",
       "    <tr>\n",
       "      <th>28</th>\n",
       "      <td>romantic drama</td>\n",
       "      <td>103</td>\n",
       "    </tr>\n",
       "    <tr>\n",
       "      <th>29</th>\n",
       "      <td>comedy drama</td>\n",
       "      <td>103</td>\n",
       "    </tr>\n",
       "  </tbody>\n",
       "</table>\n",
       "</div>"
      ],
      "text/plain": [
       "             Genres  counts\n",
       "0                      6083\n",
       "1             drama    5964\n",
       "2            comedy    4379\n",
       "3            horror    1167\n",
       "4            action    1098\n",
       "5          thriller     966\n",
       "6           romance     923\n",
       "7           western     865\n",
       "8             crime     568\n",
       "9         adventure     526\n",
       "10          musical     467\n",
       "11      crime drama     464\n",
       "12  romantic comedy     461\n",
       "13  science fiction     418\n",
       "14        film noir     345\n",
       "15          mystery     310\n",
       "16              war     273\n",
       "17        animation     264\n",
       "18    comedy, drama     236\n",
       "19           sci-fi     221\n",
       "20           family     217\n",
       "21          fantasy     204\n",
       "22         animated     195\n",
       "23   musical comedy     154\n",
       "24     comedy-drama     137\n",
       "25        biography     136\n",
       "26            anime     112\n",
       "27         suspense     104\n",
       "28   romantic drama     103\n",
       "29     comedy drama     103"
      ]
     },
     "execution_count": 4,
     "metadata": {},
     "output_type": "execute_result"
    }
   ],
   "source": [
    "dax=df['Genre'].value_counts().rename_axis('Genres').reset_index(name='counts')\n",
    "dax[:30]"
   ]
  },
  {
   "cell_type": "code",
   "execution_count": 5,
   "id": "6aa94c7c",
   "metadata": {
    "scrolled": true
   },
   "outputs": [
    {
     "data": {
      "text/plain": [
       "['drama',\n",
       " 'comedy',\n",
       " 'horror',\n",
       " 'action',\n",
       " 'thriller',\n",
       " 'romance',\n",
       " 'western',\n",
       " 'crime',\n",
       " 'adventure',\n",
       " 'musical',\n",
       " 'mystery',\n",
       " 'war',\n",
       " 'animation',\n",
       " 'sci-fi',\n",
       " 'family',\n",
       " 'fantasy',\n",
       " 'animated']"
      ]
     },
     "execution_count": 5,
     "metadata": {},
     "output_type": "execute_result"
    }
   ],
   "source": [
    "[i for i in dax['Genres'].to_list() if len(i.split())<2][1:18]"
   ]
  },
  {
   "cell_type": "code",
   "execution_count": 6,
   "id": "609d2336",
   "metadata": {},
   "outputs": [],
   "source": [
    "choices = [i for i in dax['Genres'].to_list() if len(i.split())<2][1:18]\n"
   ]
  },
  {
   "cell_type": "code",
   "execution_count": 7,
   "id": "4bd3ce28",
   "metadata": {},
   "outputs": [],
   "source": [
    "li=[]\n",
    "def list_prep(data):\n",
    "    for i in data:\n",
    "        if i[1]==[]:\n",
    "            choices.append(i[0])\n",
    "        else:\n",
    "            li.append(i[0])\n",
    "        "
   ]
  },
  {
   "cell_type": "code",
   "execution_count": 8,
   "id": "49a660d9",
   "metadata": {},
   "outputs": [
    {
     "name": "stderr",
     "output_type": "stream",
     "text": [
      "WARNING:root:Applied processor reduces input query to empty string, all comparisons will have score 0. [Query: '']\n",
      "WARNING:root:Applied processor reduces input query to empty string, all comparisons will have score 0. [Query: ' ']\n",
      "WARNING:root:Applied processor reduces input query to empty string, all comparisons will have score 0. [Query: '-']\n"
     ]
    },
    {
     "name": "stdout",
     "output_type": "stream",
     "text": [
      "Wall time: 1min 55s\n"
     ]
    }
   ],
   "source": [
    "%%time\n",
    "for i in range(10,len(dax['Genres'].to_list()),10):\n",
    "    inputt=dax['Genres'].to_list()[:i]\n",
    "    data=[[i,process.extractBests(i, choices,score_cutoff=80,limit=20)] for i in inputt if i not in choices if i not in li]\n",
    "    list_prep(data)\n"
   ]
  },
  {
   "cell_type": "code",
   "execution_count": 9,
   "id": "50d20a66",
   "metadata": {},
   "outputs": [],
   "source": [
    "df['Genre']=df['Genre'].apply(lambda x: x.strip())"
   ]
  },
  {
   "cell_type": "code",
   "execution_count": 10,
   "id": "685be1f7",
   "metadata": {},
   "outputs": [
    {
     "data": {
      "text/plain": [
       "[['', 6083],\n",
       " ['drama', 5964],\n",
       " ['comedy', 4379],\n",
       " ['horror', 1167],\n",
       " ['action', 1098],\n",
       " ['thriller', 966],\n",
       " ['romance', 923],\n",
       " ['western', 865],\n",
       " ['crime', 568],\n",
       " ['adventure', 526],\n",
       " ['musical', 467],\n",
       " ['science fiction', 418],\n",
       " ['film noir', 345],\n",
       " ['mystery', 310],\n",
       " ['war', 273],\n",
       " ['animation', 264],\n",
       " ['sci-fi', 221],\n",
       " ['family', 217],\n",
       " ['fantasy', 204],\n",
       " ['animated', 195],\n",
       " ['biography', 136],\n",
       " ['anime', 112],\n",
       " ['suspense', 104],\n",
       " ['social', 82],\n",
       " ['historical', 77],\n",
       " ['documentary', 73],\n",
       " ['serial', 71],\n",
       " ['biopic', 57],\n",
       " ['superhero', 48],\n",
       " ['martial arts', 46],\n",
       " ['short', 30],\n",
       " [' ', 28],\n",
       " ['tokusatsu', 28],\n",
       " ['spy', 27],\n",
       " ['dramedy', 24],\n",
       " ['sports', 23],\n",
       " ['mythology', 22],\n",
       " ['biographical', 20],\n",
       " ['folklore', 17],\n",
       " ['masala', 16],\n",
       " ['rom com', 14],\n",
       " ['propaganda', 13],\n",
       " ['kaiju', 13],\n",
       " ['devotional', 12],\n",
       " ['slapstick', 12],\n",
       " ['slasher', 12],\n",
       " ['disaster film', 11],\n",
       " ['swashbuckler', 10],\n",
       " ['epic', 10],\n",
       " ['wuxia', 9],\n",
       " ['satire', 8],\n",
       " ['parody', 8],\n",
       " ['detective', 7],\n",
       " ['anthology', 7],\n",
       " ['children', 7],\n",
       " ['religious', 7],\n",
       " ['adult', 7],\n",
       " ['love', 6],\n",
       " ['kung fu', 6],\n",
       " ['shakespearean', 5],\n",
       " ['biker film', 5],\n",
       " ['operetta', 5],\n",
       " ['history', 5],\n",
       " ['political', 5],\n",
       " ['neo-noir', 4],\n",
       " ['espionage', 4],\n",
       " ['yakuza', 4],\n",
       " ['supernatural', 4],\n",
       " ['dance', 4],\n",
       " ['sword', 4],\n",
       " ['biblical', 4],\n",
       " ['christian', 4],\n",
       " ['experimental', 4],\n",
       " ['pink', 4],\n",
       " ['gangster', 4],\n",
       " ['costume', 4],\n",
       " ['samurai film', 4],\n",
       " ['heist', 3],\n",
       " ['-', 3],\n",
       " ['roman porno', 3],\n",
       " ['educational', 3],\n",
       " ['tragedy', 2],\n",
       " ['period', 2],\n",
       " ['blaxploitation', 2],\n",
       " ['mythological', 2],\n",
       " ['charlie chan', 2],\n",
       " ['teen', 2],\n",
       " ['fairy tale', 2],\n",
       " ['avant-garde', 2],\n",
       " ['chambara', 2],\n",
       " ['p.o.w.', 2],\n",
       " ['super hit movie', 2],\n",
       " ['yash raj films', 2],\n",
       " ['gun fu', 2],\n",
       " ['jidaigeki', 2],\n",
       " ['remake', 2],\n",
       " ['imdb', 2],\n",
       " ['romance, comedy, drama, art house & international, action', 1],\n",
       " ['harem, fantasy, action, drama, romantic comedy, magical girl', 1],\n",
       " ['vampire film', 1],\n",
       " ['buddy cop', 1],\n",
       " ['sport film', 1],\n",
       " ['student film', 1],\n",
       " ['stoner film', 1],\n",
       " ['august 25', 1],\n",
       " ['perodic', 1],\n",
       " [\"ravi teja, ileana d'cruz\", 1],\n",
       " ['coming-of-age', 1],\n",
       " ['epic drama set 4,000 years ago in the canadian arctic', 1],\n",
       " ['sumanth, charmme', 1],\n",
       " ['silent hills studio', 1],\n",
       " ['rajendra prasad', 1],\n",
       " ['race', 1],\n",
       " ['drama based on the novel by margaret laurence', 1],\n",
       " ['yeh saali zindagi', 1],\n",
       " ['allari naresh', 1],\n",
       " ['nadeem-shravan', 1],\n",
       " ['pawan kalyan, reema sen, meera chopra, mukesh rishi', 1],\n",
       " ['olga khokhlova, sergey krapiventsev, oleg sukachenko', 1],\n",
       " ['erotic', 1],\n",
       " ['revolutionary patriotic', 1],\n",
       " ['adapted from the play by alexandre goyette', 1],\n",
       " ['triad', 1],\n",
       " ['tapas paul, debashree roy', 1],\n",
       " ['stylish', 1],\n",
       " [\"ken'ichi maysuyama, koyuki\", 1],\n",
       " ['srikanth, venu madhav, ali', 1],\n",
       " ['survival', 1],\n",
       " ['yuen lai-kei', 1],\n",
       " ['tv miniseries', 1],\n",
       " ['critically acclaimed', 1],\n",
       " ['drama, sports (road bicycle racing), comedy-drama', 1],\n",
       " ['reality', 1],\n",
       " ['suhasini, sharwanand, shriya reddy', 1],\n",
       " ['arjun, jagapati babu', 1],\n",
       " ['rajasekhar, brahmanandam, kondavalasa lakshmana rao', 1],\n",
       " ['cowboy', 1],\n",
       " ['colour yellow productions & eros international', 1],\n",
       " ['youth', 1],\n",
       " [' usa, can ', 1],\n",
       " ['post-apocalyptic, zombie', 1],\n",
       " ['patriotism', 1],\n",
       " ['drama adapted from the play by michel-marc bouchard', 1],\n",
       " ['chanchal chowdhury masuma rahman nabila partha barua', 1],\n",
       " ['independent', 1],\n",
       " ['duology', 1],\n",
       " ['travel', 1],\n",
       " ['sunil, arti agarwal', 1],\n",
       " ['panorama studios', 1],\n",
       " ['keiji', 1],\n",
       " ['sivaji, krishna bhagavaan, ali', 1],\n",
       " ['jr. ntr, sameera reddy, sonu sood', 1],\n",
       " ['spoof', 1],\n",
       " ['bholenath movies & cinekorn entertainment', 1],\n",
       " ['imax', 1],\n",
       " ['mohit ahlawat, priyanka kothari', 1],\n",
       " ['american football', 1],\n",
       " ['bharath, arya, pooja, padmapriya', 1],\n",
       " ['rajiv kanakala, raja, saloni aswani, siva balaji', 1],\n",
       " ['british-german co-production', 1],\n",
       " ['viacom 18 motion pictures', 1],\n",
       " ['interactive cinema', 1],\n",
       " ['gore film', 1],\n",
       " ['chiranjeevi, trisha krishnan, khushboo', 1],\n",
       " ['mob', 1],\n",
       " ['biodrama about montreal canadiens star, maurice richard', 1],\n",
       " ['[140]', 1],\n",
       " ['cartoon', 1],\n",
       " [\"auli'i cravalho dwayne johnson\", 1],\n",
       " ['indira amperiani, bhaskara s. narayanan', 1],\n",
       " ['counterculture', 1],\n",
       " ['ravi teja, anushka shetty', 1],\n",
       " ['reese witherspoon scarlett johansson', 1],\n",
       " ['cult film', 1],\n",
       " ['d. ramanaidu, kalyani', 1],\n",
       " ['16\\xa0mm film', 1],\n",
       " ['mocatsu', 1],\n",
       " ['ravi teja, jyothika', 1],\n",
       " ['huangmei opera', 1],\n",
       " ['literary adaptation', 1],\n",
       " [\"yogesh dattatraya gosavi's directorial debut. [9]\", 1],\n",
       " ['dev, nusrat jahan', 1],\n",
       " ['uday kiran, vimala raman', 1],\n",
       " ['splatter', 1],\n",
       " ['found footage', 1],\n",
       " ['nagarjuna, shriya saran, nayantara, poonam bajwa', 1],\n",
       " ['space opera', 1],\n",
       " ['buddy film', 1],\n",
       " ['biju menon, krishnashankar, samskruti shenoy', 1],\n",
       " ['lee sin-je', 1],\n",
       " ['balakrishna nandamuri, sneha, tabu', 1],\n",
       " ['sf', 1],\n",
       " ['drama based on the novel by stephen vizinczey', 1],\n",
       " ['investigative', 1],\n",
       " ['[144]', 1],\n",
       " ['drama based on the novel by rohinton mistry', 1],\n",
       " ['priyadarshini ram, viswendar reddy, radhika joshi', 1],\n",
       " ['drama based on a novel and screenplay by emma donoghue', 1],\n",
       " ['drama based on the novel by russell banks;', 1],\n",
       " ['drama based on into the forest by jean hegland', 1],\n",
       " ['concert', 1]]"
      ]
     },
     "execution_count": 10,
     "metadata": {},
     "output_type": "execute_result"
    }
   ],
   "source": [
    "[[row['Genres'],row['counts']] for i,row in dax.iterrows() if row['Genres'] in choices ]"
   ]
  },
  {
   "cell_type": "code",
   "execution_count": 11,
   "id": "fa6d7801",
   "metadata": {},
   "outputs": [],
   "source": [
    "replace_dict={\n",
    "   \"science_friction\":\"sci-fi\",\n",
    "    \"sci fi\":\"sci-fi\",\n",
    "    \"science friction\":\"sci-fi\",\n",
    "    \"amine\":\"animated\",\n",
    "    \"animation\":\"animated\",\n",
    "    \"cartoon\":\"animated\",\n",
    "    \"tokusatsu\": \"animated\",\n",
    "    \"superhero\": \"animated\",\n",
    "    \"suspense\": \"thriller\",\n",
    "    \"dramedy\": \"drama\",\n",
    "    \"blaxploitation\": \"exploitation\",\n",
    "    \"biopic\": \"biography\",\n",
    "    \"bio-pic\": \"biography\",\n",
    "    \"biographical\": \"biography\",\n",
    "    \"kung fu\": \"martial_arts\",\n",
    "    \"martial arts\": \"martial_arts\",\n",
    "    \"kung fu\": \"martial_arts\",\n",
    "    \"film\": \"\",\n",
    "    \"neo-noir\": \"noir\",\n",
    "    \"devotional\": \"religious\",\n",
    "    \"children\": \"teen\",\n",
    "    \"porno\": \"adult\",\n",
    "    \"history\": \"historical\",\n",
    "    \"rom com\": \"romance-comedy\",\n",
    "    \"rom-com\": \"romance-comedy\",\n",
    "    \"love\": \"romance\",\n",
    "}"
   ]
  },
  {
   "cell_type": "code",
   "execution_count": 12,
   "id": "801d71ae",
   "metadata": {},
   "outputs": [],
   "source": [
    "for key,items in replace_dict.items():\n",
    "    df['Genre']= df['Genre'].str.replace(key,items)"
   ]
  },
  {
   "cell_type": "code",
   "execution_count": 13,
   "id": "4b07ba9c",
   "metadata": {},
   "outputs": [],
   "source": [
    "dax=df['Genre'].value_counts().rename_axis('Genres').reset_index(name='counts')\n",
    "choices = [i for i in dax['Genres'].to_list() if len(i.split())<2][0:18]\n",
    "li=[]\n",
    "def list_prep(data):\n",
    "    for i in data:\n",
    "        if i[1]==[]:\n",
    "            choices.append(i[0])\n",
    "        else:\n",
    "            li.append(i[0])\n",
    "        \n"
   ]
  },
  {
   "cell_type": "code",
   "execution_count": 14,
   "id": "725e3d2f",
   "metadata": {},
   "outputs": [
    {
     "name": "stderr",
     "output_type": "stream",
     "text": [
      "WARNING:root:Applied processor reduces input query to empty string, all comparisons will have score 0. [Query: '-']\n"
     ]
    },
    {
     "name": "stdout",
     "output_type": "stream",
     "text": [
      "Wall time: 1min 30s\n"
     ]
    }
   ],
   "source": [
    "%%time\n",
    "for i in range(10,len(dax['Genres'].to_list()),10):\n",
    "    inputt=dax['Genres'].to_list()[:i]\n",
    "    data=[[i,process.extractBests(i, choices,score_cutoff=80,limit=20)] for i in inputt if i not in choices if i not in li]\n",
    "    list_prep(data)"
   ]
  },
  {
   "cell_type": "code",
   "execution_count": 15,
   "id": "26e4dc14",
   "metadata": {},
   "outputs": [],
   "source": [
    "choices_final=[row['Genres'] for i,row in dax.iterrows() if row['Genres'] in choices if row['counts']>50]"
   ]
  },
  {
   "cell_type": "code",
   "execution_count": 16,
   "id": "660f3aa4",
   "metadata": {},
   "outputs": [
    {
     "data": {
      "text/plain": [
       "['',\n",
       " 'drama',\n",
       " 'comedy',\n",
       " 'horror',\n",
       " 'action',\n",
       " 'thriller',\n",
       " 'romance',\n",
       " 'western',\n",
       " 'crime',\n",
       " 'animated',\n",
       " 'adventure',\n",
       " 'musical',\n",
       " 'science fiction',\n",
       " ' noir',\n",
       " 'mystery',\n",
       " 'war',\n",
       " 'sci-fi',\n",
       " 'biography',\n",
       " 'family',\n",
       " 'fantasy',\n",
       " 'anime',\n",
       " 'social',\n",
       " 'historical',\n",
       " 'documentary',\n",
       " 'serial',\n",
       " 'martial_arts']"
      ]
     },
     "execution_count": 16,
     "metadata": {},
     "output_type": "execute_result"
    }
   ],
   "source": [
    "choices_final"
   ]
  },
  {
   "cell_type": "code",
   "execution_count": 17,
   "id": "41926f3c",
   "metadata": {},
   "outputs": [],
   "source": [
    "\n",
    "def genre_list(x):\n",
    "    \n",
    "    if x in choices_final:\n",
    "        return x\n",
    "    elif process.extractBests(x, choices_final,score_cutoff=80,limit=20) !=[]:\n",
    "        a=process.extractBests(x, choices_final,score_cutoff=80,limit=20)\n",
    "        return ','.join([a[i][0] for i in range(len(a))])\n",
    "    else:\n",
    "        return ''"
   ]
  },
  {
   "cell_type": "code",
   "execution_count": 18,
   "id": "97e6044e",
   "metadata": {},
   "outputs": [
    {
     "data": {
      "text/plain": [
       "'drama,romance'"
      ]
     },
     "execution_count": 18,
     "metadata": {},
     "output_type": "execute_result"
    }
   ],
   "source": [
    "genre_list('drama romance')"
   ]
  },
  {
   "cell_type": "code",
   "execution_count": 19,
   "id": "7dc3c43f",
   "metadata": {},
   "outputs": [],
   "source": [
    "df['Genre_1']=df['Genre']"
   ]
  },
  {
   "cell_type": "code",
   "execution_count": 20,
   "id": "6bdd761c",
   "metadata": {},
   "outputs": [
    {
     "name": "stderr",
     "output_type": "stream",
     "text": [
      "WARNING:root:Applied processor reduces input query to empty string, all comparisons will have score 0. [Query: '-']\n",
      "WARNING:root:Applied processor reduces input query to empty string, all comparisons will have score 0. [Query: '-']\n",
      "WARNING:root:Applied processor reduces input query to empty string, all comparisons will have score 0. [Query: '-']\n"
     ]
    }
   ],
   "source": [
    "df['Genre_1']=df['Genre_1'].apply(lambda x: genre_list(x))"
   ]
  },
  {
   "cell_type": "code",
   "execution_count": 21,
   "id": "5de220b8",
   "metadata": {},
   "outputs": [],
   "source": [
    "def genre(data):\n",
    "    df1 = pd.DataFrame(columns = ['Release Year', 'Title', 'Origin/Ethnicity', 'Director', 'Cast','Genre', 'Wiki Page', 'Plot', 'Genre_1','Genre_updated'])\n",
    "    for i,row in data.iterrows():\n",
    "        if len(row['Genre_1'].split(','))>1:\n",
    "            for i in row['Genre_1'].split(','):\n",
    "               # print(i)\n",
    "                df=pd.DataFrame(row).T\n",
    "                df['Genre_updated']=i\n",
    "                df1=pd.concat([df1,df])\n",
    "        else:\n",
    "            df=pd.DataFrame(row).T\n",
    "            df['Genre_updated']=df['Genre_1']\n",
    "            df1=pd.concat([df1,df])\n",
    "            \n",
    "    return df1.reset_index(drop=True)"
   ]
  },
  {
   "cell_type": "code",
   "execution_count": 22,
   "id": "3ad5e56b",
   "metadata": {},
   "outputs": [
    {
     "name": "stdout",
     "output_type": "stream",
     "text": [
      "Wall time: 2min 34s\n"
     ]
    }
   ],
   "source": [
    "%%time\n",
    "new_df=genre(df)"
   ]
  },
  {
   "cell_type": "code",
   "execution_count": 23,
   "id": "7479286f",
   "metadata": {},
   "outputs": [
    {
     "data": {
      "text/plain": [
       "drama              9432\n",
       "comedy             7266\n",
       "                   6777\n",
       "action             2446\n",
       "romance            1973\n",
       "thriller           1916\n",
       "crime              1597\n",
       "horror             1576\n",
       "western             974\n",
       "musical             950\n",
       "animated            894\n",
       "adventure           868\n",
       "family              634\n",
       "war                 600\n",
       "science fiction     582\n",
       "fantasy             528\n",
       "mystery             481\n",
       "biography           457\n",
       "sci-fi              389\n",
       " noir               356\n",
       "historical          257\n",
       "social              223\n",
       "anime               143\n",
       "documentary         130\n",
       "martial_arts        129\n",
       "serial               83\n",
       "Name: Genre_updated, dtype: int64"
      ]
     },
     "execution_count": 23,
     "metadata": {},
     "output_type": "execute_result"
    }
   ],
   "source": [
    "new_df['Genre_updated'].value_counts()"
   ]
  },
  {
   "cell_type": "code",
   "execution_count": null,
   "id": "11b3c638",
   "metadata": {},
   "outputs": [],
   "source": [
    "new_df.drop(['Genre_1'],axis=1).to_csv('wiki_movie_plots_deduped_cleaned_genre.csv',index=False)"
   ]
  },
  {
   "cell_type": "code",
   "execution_count": null,
   "id": "fdc44e53",
   "metadata": {},
   "outputs": [],
   "source": []
  },
  {
   "cell_type": "code",
   "execution_count": null,
   "id": "1c770a2e",
   "metadata": {},
   "outputs": [],
   "source": []
  },
  {
   "cell_type": "code",
   "execution_count": null,
   "id": "0688751c",
   "metadata": {},
   "outputs": [],
   "source": [
    "new_df[new_df['Genre']!=new_df['Genre_updated']]"
   ]
  },
  {
   "cell_type": "code",
   "execution_count": null,
   "id": "c41f2e5b",
   "metadata": {},
   "outputs": [],
   "source": [
    "new_df[(new_df['Genre_updated']=='') & (new_df['Genre']!=new_df['Genre_updated'])]"
   ]
  },
  {
   "cell_type": "code",
   "execution_count": null,
   "id": "8981c4b9",
   "metadata": {},
   "outputs": [],
   "source": [
    "new_df[(new_df['Genre_updated']=='') & (new_df['Genre']!=new_df['Genre_updated'])]['Genre'].unique()"
   ]
  },
  {
   "cell_type": "code",
   "execution_count": null,
   "id": "f043822b",
   "metadata": {},
   "outputs": [],
   "source": []
  },
  {
   "cell_type": "code",
   "execution_count": null,
   "id": "caa3aaab",
   "metadata": {},
   "outputs": [],
   "source": []
  },
  {
   "cell_type": "code",
   "execution_count": null,
   "id": "9b13015b",
   "metadata": {},
   "outputs": [],
   "source": []
  }
 ],
 "metadata": {
  "kernelspec": {
   "display_name": "Python 3",
   "language": "python",
   "name": "python3"
  },
  "language_info": {
   "codemirror_mode": {
    "name": "ipython",
    "version": 3
   },
   "file_extension": ".py",
   "mimetype": "text/x-python",
   "name": "python",
   "nbconvert_exporter": "python",
   "pygments_lexer": "ipython3",
   "version": "3.8.10"
  }
 },
 "nbformat": 4,
 "nbformat_minor": 5
}
