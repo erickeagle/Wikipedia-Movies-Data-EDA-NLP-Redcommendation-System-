{
 "cells": [
  {
   "cell_type": "markdown",
   "id": "6a740d9a",
   "metadata": {},
   "source": [
    "### Importing libraries"
   ]
  },
  {
   "cell_type": "code",
   "execution_count": 1,
   "id": "f65d7be9",
   "metadata": {},
   "outputs": [],
   "source": [
    "import pandas as pd\n",
    "import pandas as pd\n",
    "import numpy as np\n",
    "import matplotlib.pyplot as plt\n",
    "import seaborn as sns\n",
    "\n",
    "import warnings\n",
    "warnings.filterwarnings(\"ignore\")"
   ]
  },
  {
   "cell_type": "markdown",
   "id": "925add80",
   "metadata": {},
   "source": [
    "### Loading the dataset"
   ]
  },
  {
   "cell_type": "code",
   "execution_count": 2,
   "id": "cde15edc",
   "metadata": {},
   "outputs": [
    {
     "name": "stdout",
     "output_type": "stream",
     "text": [
      "Wall time: 661 ms\n"
     ]
    }
   ],
   "source": [
    "%%time\n",
    "df=pd.read_csv('wiki_movie_plots_deduped.csv')"
   ]
  },
  {
   "cell_type": "code",
   "execution_count": 3,
   "id": "96fe7f40",
   "metadata": {},
   "outputs": [
    {
     "data": {
      "text/html": [
       "<div>\n",
       "<style scoped>\n",
       "    .dataframe tbody tr th:only-of-type {\n",
       "        vertical-align: middle;\n",
       "    }\n",
       "\n",
       "    .dataframe tbody tr th {\n",
       "        vertical-align: top;\n",
       "    }\n",
       "\n",
       "    .dataframe thead th {\n",
       "        text-align: right;\n",
       "    }\n",
       "</style>\n",
       "<table border=\"1\" class=\"dataframe\">\n",
       "  <thead>\n",
       "    <tr style=\"text-align: right;\">\n",
       "      <th></th>\n",
       "      <th>Release Year</th>\n",
       "      <th>Title</th>\n",
       "      <th>Origin/Ethnicity</th>\n",
       "      <th>Director</th>\n",
       "      <th>Cast</th>\n",
       "      <th>Genre</th>\n",
       "      <th>Wiki Page</th>\n",
       "      <th>Plot</th>\n",
       "    </tr>\n",
       "  </thead>\n",
       "  <tbody>\n",
       "    <tr>\n",
       "      <th>0</th>\n",
       "      <td>1901</td>\n",
       "      <td>Kansas Saloon Smashers</td>\n",
       "      <td>American</td>\n",
       "      <td>Unknown</td>\n",
       "      <td>NaN</td>\n",
       "      <td>unknown</td>\n",
       "      <td>https://en.wikipedia.org/wiki/Kansas_Saloon_Sm...</td>\n",
       "      <td>A bartender is working at a saloon, serving dr...</td>\n",
       "    </tr>\n",
       "    <tr>\n",
       "      <th>1</th>\n",
       "      <td>1901</td>\n",
       "      <td>Love by the Light of the Moon</td>\n",
       "      <td>American</td>\n",
       "      <td>Unknown</td>\n",
       "      <td>NaN</td>\n",
       "      <td>unknown</td>\n",
       "      <td>https://en.wikipedia.org/wiki/Love_by_the_Ligh...</td>\n",
       "      <td>The moon, painted with a smiling face hangs ov...</td>\n",
       "    </tr>\n",
       "    <tr>\n",
       "      <th>2</th>\n",
       "      <td>1901</td>\n",
       "      <td>The Martyred Presidents</td>\n",
       "      <td>American</td>\n",
       "      <td>Unknown</td>\n",
       "      <td>NaN</td>\n",
       "      <td>unknown</td>\n",
       "      <td>https://en.wikipedia.org/wiki/The_Martyred_Pre...</td>\n",
       "      <td>The film, just over a minute long, is composed...</td>\n",
       "    </tr>\n",
       "    <tr>\n",
       "      <th>3</th>\n",
       "      <td>1901</td>\n",
       "      <td>Terrible Teddy, the Grizzly King</td>\n",
       "      <td>American</td>\n",
       "      <td>Unknown</td>\n",
       "      <td>NaN</td>\n",
       "      <td>unknown</td>\n",
       "      <td>https://en.wikipedia.org/wiki/Terrible_Teddy,_...</td>\n",
       "      <td>Lasting just 61 seconds and consisting of two ...</td>\n",
       "    </tr>\n",
       "    <tr>\n",
       "      <th>4</th>\n",
       "      <td>1902</td>\n",
       "      <td>Jack and the Beanstalk</td>\n",
       "      <td>American</td>\n",
       "      <td>George S. Fleming, Edwin S. Porter</td>\n",
       "      <td>NaN</td>\n",
       "      <td>unknown</td>\n",
       "      <td>https://en.wikipedia.org/wiki/Jack_and_the_Bea...</td>\n",
       "      <td>The earliest known adaptation of the classic f...</td>\n",
       "    </tr>\n",
       "    <tr>\n",
       "      <th>...</th>\n",
       "      <td>...</td>\n",
       "      <td>...</td>\n",
       "      <td>...</td>\n",
       "      <td>...</td>\n",
       "      <td>...</td>\n",
       "      <td>...</td>\n",
       "      <td>...</td>\n",
       "      <td>...</td>\n",
       "    </tr>\n",
       "    <tr>\n",
       "      <th>34881</th>\n",
       "      <td>2014</td>\n",
       "      <td>The Water Diviner</td>\n",
       "      <td>Turkish</td>\n",
       "      <td>Director: Russell Crowe</td>\n",
       "      <td>Director: Russell Crowe\\r\\nCast: Russell Crowe...</td>\n",
       "      <td>unknown</td>\n",
       "      <td>https://en.wikipedia.org/wiki/The_Water_Diviner</td>\n",
       "      <td>The film begins in 1919, just after World War ...</td>\n",
       "    </tr>\n",
       "    <tr>\n",
       "      <th>34882</th>\n",
       "      <td>2017</td>\n",
       "      <td>Çalgı Çengi İkimiz</td>\n",
       "      <td>Turkish</td>\n",
       "      <td>Selçuk Aydemir</td>\n",
       "      <td>Ahmet Kural, Murat Cemcir</td>\n",
       "      <td>comedy</td>\n",
       "      <td>https://en.wikipedia.org/wiki/%C3%87alg%C4%B1_...</td>\n",
       "      <td>Two musicians, Salih and Gürkan, described the...</td>\n",
       "    </tr>\n",
       "    <tr>\n",
       "      <th>34883</th>\n",
       "      <td>2017</td>\n",
       "      <td>Olanlar Oldu</td>\n",
       "      <td>Turkish</td>\n",
       "      <td>Hakan Algül</td>\n",
       "      <td>Ata Demirer, Tuvana Türkay, Ülkü Duru</td>\n",
       "      <td>comedy</td>\n",
       "      <td>https://en.wikipedia.org/wiki/Olanlar_Oldu</td>\n",
       "      <td>Zafer, a sailor living with his mother Döndü i...</td>\n",
       "    </tr>\n",
       "    <tr>\n",
       "      <th>34884</th>\n",
       "      <td>2017</td>\n",
       "      <td>Non-Transferable</td>\n",
       "      <td>Turkish</td>\n",
       "      <td>Brendan Bradley</td>\n",
       "      <td>YouTubers Shanna Malcolm, Shira Lazar, Sara Fl...</td>\n",
       "      <td>romantic comedy</td>\n",
       "      <td>https://en.wikipedia.org/wiki/Non-Transferable...</td>\n",
       "      <td>The film centres around a young woman named Am...</td>\n",
       "    </tr>\n",
       "    <tr>\n",
       "      <th>34885</th>\n",
       "      <td>2017</td>\n",
       "      <td>İstanbul Kırmızısı</td>\n",
       "      <td>Turkish</td>\n",
       "      <td>Ferzan Özpetek</td>\n",
       "      <td>Halit Ergenç, Tuba Büyüküstün, Mehmet Günsür, ...</td>\n",
       "      <td>romantic</td>\n",
       "      <td>https://en.wikipedia.org/wiki/%C4%B0stanbul_K%...</td>\n",
       "      <td>The writer Orhan Şahin returns to İstanbul aft...</td>\n",
       "    </tr>\n",
       "  </tbody>\n",
       "</table>\n",
       "<p>34886 rows × 8 columns</p>\n",
       "</div>"
      ],
      "text/plain": [
       "       Release Year                             Title Origin/Ethnicity  \\\n",
       "0              1901            Kansas Saloon Smashers         American   \n",
       "1              1901     Love by the Light of the Moon         American   \n",
       "2              1901           The Martyred Presidents         American   \n",
       "3              1901  Terrible Teddy, the Grizzly King         American   \n",
       "4              1902            Jack and the Beanstalk         American   \n",
       "...             ...                               ...              ...   \n",
       "34881          2014                 The Water Diviner          Turkish   \n",
       "34882          2017                Çalgı Çengi İkimiz          Turkish   \n",
       "34883          2017                      Olanlar Oldu          Turkish   \n",
       "34884          2017                  Non-Transferable          Turkish   \n",
       "34885          2017                İstanbul Kırmızısı          Turkish   \n",
       "\n",
       "                                 Director  \\\n",
       "0                                 Unknown   \n",
       "1                                 Unknown   \n",
       "2                                 Unknown   \n",
       "3                                 Unknown   \n",
       "4      George S. Fleming, Edwin S. Porter   \n",
       "...                                   ...   \n",
       "34881             Director: Russell Crowe   \n",
       "34882                      Selçuk Aydemir   \n",
       "34883                         Hakan Algül   \n",
       "34884                     Brendan Bradley   \n",
       "34885                      Ferzan Özpetek   \n",
       "\n",
       "                                                    Cast            Genre  \\\n",
       "0                                                    NaN          unknown   \n",
       "1                                                    NaN          unknown   \n",
       "2                                                    NaN          unknown   \n",
       "3                                                    NaN          unknown   \n",
       "4                                                    NaN          unknown   \n",
       "...                                                  ...              ...   \n",
       "34881  Director: Russell Crowe\\r\\nCast: Russell Crowe...          unknown   \n",
       "34882                          Ahmet Kural, Murat Cemcir           comedy   \n",
       "34883              Ata Demirer, Tuvana Türkay, Ülkü Duru           comedy   \n",
       "34884  YouTubers Shanna Malcolm, Shira Lazar, Sara Fl...  romantic comedy   \n",
       "34885  Halit Ergenç, Tuba Büyüküstün, Mehmet Günsür, ...         romantic   \n",
       "\n",
       "                                               Wiki Page  \\\n",
       "0      https://en.wikipedia.org/wiki/Kansas_Saloon_Sm...   \n",
       "1      https://en.wikipedia.org/wiki/Love_by_the_Ligh...   \n",
       "2      https://en.wikipedia.org/wiki/The_Martyred_Pre...   \n",
       "3      https://en.wikipedia.org/wiki/Terrible_Teddy,_...   \n",
       "4      https://en.wikipedia.org/wiki/Jack_and_the_Bea...   \n",
       "...                                                  ...   \n",
       "34881    https://en.wikipedia.org/wiki/The_Water_Diviner   \n",
       "34882  https://en.wikipedia.org/wiki/%C3%87alg%C4%B1_...   \n",
       "34883         https://en.wikipedia.org/wiki/Olanlar_Oldu   \n",
       "34884  https://en.wikipedia.org/wiki/Non-Transferable...   \n",
       "34885  https://en.wikipedia.org/wiki/%C4%B0stanbul_K%...   \n",
       "\n",
       "                                                    Plot  \n",
       "0      A bartender is working at a saloon, serving dr...  \n",
       "1      The moon, painted with a smiling face hangs ov...  \n",
       "2      The film, just over a minute long, is composed...  \n",
       "3      Lasting just 61 seconds and consisting of two ...  \n",
       "4      The earliest known adaptation of the classic f...  \n",
       "...                                                  ...  \n",
       "34881  The film begins in 1919, just after World War ...  \n",
       "34882  Two musicians, Salih and Gürkan, described the...  \n",
       "34883  Zafer, a sailor living with his mother Döndü i...  \n",
       "34884  The film centres around a young woman named Am...  \n",
       "34885  The writer Orhan Şahin returns to İstanbul aft...  \n",
       "\n",
       "[34886 rows x 8 columns]"
      ]
     },
     "execution_count": 3,
     "metadata": {},
     "output_type": "execute_result"
    }
   ],
   "source": [
    "df"
   ]
  },
  {
   "cell_type": "markdown",
   "id": "b2ed6836",
   "metadata": {},
   "source": [
    "### For making the desired output string in BOLD"
   ]
  },
  {
   "cell_type": "code",
   "execution_count": 4,
   "id": "2df08f09",
   "metadata": {},
   "outputs": [
    {
     "name": "stdout",
     "output_type": "stream",
     "text": [
      "Wall time: 0 ns\n"
     ]
    }
   ],
   "source": [
    "%%time\n",
    "start='\\033[1m'\n",
    "end='\\033[0;0m'"
   ]
  },
  {
   "cell_type": "markdown",
   "id": "c1d2cd85",
   "metadata": {},
   "source": [
    "### Functions Used For Analysis"
   ]
  },
  {
   "cell_type": "code",
   "execution_count": 5,
   "id": "bed29e2c",
   "metadata": {},
   "outputs": [
    {
     "name": "stdout",
     "output_type": "stream",
     "text": [
      "Wall time: 0 ns\n"
     ]
    }
   ],
   "source": [
    "%%time\n",
    "     \n",
    "# function for getting details of the dataframe\n",
    "def details(df):\n",
    "    print(start+'Shape of the Dataframe:'+end,df.shape,'\\n')\n",
    "    print(start+'Summary Of the dataframe:'+end,'\\n')\n",
    "    print(df.info(),'\\n')\n",
    "    print(start+'Statistical Summary of the Dataframe:'+end,'\\n',df.describe(),'\\n')\n",
    "    print(start+'Checking for Null values in the dataframe:'+end,'\\n',df.isnull().sum(),'\\n')\n",
    "    print(start+'Columns in dataframe:'+end,df.columns)\n",
    "    \n",
    "    \n",
    "#function for getting insigt for each column values\n",
    "def values_in_columns(df):\n",
    "    for i in df.columns:\n",
    "        print(start+'Column Name--->'+i+end)\n",
    "        print('Number of Unique Values',df[i].nunique(),'\\n')\n",
    "        print('Count of each unique value \\n',df[i].value_counts(),'\\n')\n",
    "          \n",
    "        \n",
    "# function for dropping duplicates        \n",
    "def duplicate(df):\n",
    "    if df.duplicated().sum()>0:\n",
    "        print(start+'Dataframe contains duplicate values'+end,df.duplicated().sum())\n",
    "        df.drop_duplicates(inplace=True,ignore_index=True)\n",
    "        print('Details of dataframe after droping the Duplicate rows')\n",
    "        details(df)\n",
    "    else:\n",
    "        print(\"Dataframe doesn't contains dublicate Values\")"
   ]
  },
  {
   "cell_type": "code",
   "execution_count": null,
   "id": "d4c1a9ef",
   "metadata": {},
   "outputs": [],
   "source": []
  },
  {
   "cell_type": "markdown",
   "id": "79a3fe3e",
   "metadata": {},
   "source": [
    "### Checking for the duplicates in the dataframe"
   ]
  },
  {
   "cell_type": "code",
   "execution_count": 6,
   "id": "ff6cbf93",
   "metadata": {},
   "outputs": [
    {
     "name": "stdout",
     "output_type": "stream",
     "text": [
      "Dataframe doesn't contains dublicate Values\n"
     ]
    }
   ],
   "source": [
    "duplicate(df)"
   ]
  },
  {
   "cell_type": "code",
   "execution_count": null,
   "id": "66e81961",
   "metadata": {},
   "outputs": [],
   "source": []
  },
  {
   "cell_type": "code",
   "execution_count": 7,
   "id": "5dc7edb8",
   "metadata": {},
   "outputs": [
    {
     "name": "stdout",
     "output_type": "stream",
     "text": [
      "\u001b[1mShape of the Dataframe:\u001b[0;0m (34886, 8) \n",
      "\n",
      "\u001b[1mSummary Of the dataframe:\u001b[0;0m \n",
      "\n",
      "<class 'pandas.core.frame.DataFrame'>\n",
      "RangeIndex: 34886 entries, 0 to 34885\n",
      "Data columns (total 8 columns):\n",
      " #   Column            Non-Null Count  Dtype \n",
      "---  ------            --------------  ----- \n",
      " 0   Release Year      34886 non-null  int64 \n",
      " 1   Title             34886 non-null  object\n",
      " 2   Origin/Ethnicity  34886 non-null  object\n",
      " 3   Director          34886 non-null  object\n",
      " 4   Cast              33464 non-null  object\n",
      " 5   Genre             34886 non-null  object\n",
      " 6   Wiki Page         34886 non-null  object\n",
      " 7   Plot              34886 non-null  object\n",
      "dtypes: int64(1), object(7)\n",
      "memory usage: 2.1+ MB\n",
      "None \n",
      "\n",
      "\u001b[1mStatistical Summary of the Dataframe:\u001b[0;0m \n",
      "        Release Year\n",
      "count  34886.000000\n",
      "mean    1981.314252\n",
      "std       27.815174\n",
      "min     1901.000000\n",
      "25%     1957.000000\n",
      "50%     1988.000000\n",
      "75%     2007.000000\n",
      "max     2017.000000 \n",
      "\n",
      "\u001b[1mChecking for Null values in the dataframe:\u001b[0;0m \n",
      " Release Year           0\n",
      "Title                  0\n",
      "Origin/Ethnicity       0\n",
      "Director               0\n",
      "Cast                1422\n",
      "Genre                  0\n",
      "Wiki Page              0\n",
      "Plot                   0\n",
      "dtype: int64 \n",
      "\n",
      "\u001b[1mColumns in dataframe:\u001b[0;0m Index(['Release Year', 'Title', 'Origin/Ethnicity', 'Director', 'Cast',\n",
      "       'Genre', 'Wiki Page', 'Plot'],\n",
      "      dtype='object')\n",
      "Wall time: 31.9 ms\n"
     ]
    }
   ],
   "source": [
    "%%time\n",
    "details(df)\n"
   ]
  },
  {
   "cell_type": "code",
   "execution_count": null,
   "id": "a562aad2",
   "metadata": {},
   "outputs": [],
   "source": []
  },
  {
   "cell_type": "code",
   "execution_count": 8,
   "id": "6f12eb3a",
   "metadata": {
    "scrolled": true
   },
   "outputs": [
    {
     "name": "stdout",
     "output_type": "stream",
     "text": [
      "\u001b[1mColumn Name--->Release Year\u001b[0;0m\n",
      "Number of Unique Values 117 \n",
      "\n",
      "Count of each unique value \n",
      " 2013    1021\n",
      "2014     929\n",
      "2012     874\n",
      "2011     858\n",
      "2010     825\n",
      "        ... \n",
      "1906       3\n",
      "1905       2\n",
      "1903       2\n",
      "1904       1\n",
      "1902       1\n",
      "Name: Release Year, Length: 117, dtype: int64 \n",
      "\n",
      "\u001b[1mColumn Name--->Title\u001b[0;0m\n",
      "Number of Unique Values 32432 \n",
      "\n",
      "Count of each unique value \n",
      " The Three Musketeers          8\n",
      "Cinderella                    8\n",
      "Treasure Island               7\n",
      "Anna Karenina                 6\n",
      "Alice in Wonderland           6\n",
      "                             ..\n",
      "Fighting Coast Guard          1\n",
      "See Here, Private Hargrove    1\n",
      "High Time                     1\n",
      "The Saint Meets the Tiger     1\n",
      "Isn't Life Wonderful          1\n",
      "Name: Title, Length: 32432, dtype: int64 \n",
      "\n",
      "\u001b[1mColumn Name--->Origin/Ethnicity\u001b[0;0m\n",
      "Number of Unique Values 24 \n",
      "\n",
      "Count of each unique value \n",
      " American        17377\n",
      "British          3670\n",
      "Bollywood        2931\n",
      "Tamil            2599\n",
      "Telugu           1311\n",
      "Japanese         1188\n",
      "Malayalam        1095\n",
      "Hong Kong         791\n",
      "Canadian          723\n",
      "Australian        576\n",
      "South_Korean      522\n",
      "Chinese           463\n",
      "Kannada           444\n",
      "Bengali           306\n",
      "Russian           232\n",
      "Marathi           141\n",
      "Filipino          128\n",
      "Bangladeshi        87\n",
      "Punjabi            84\n",
      "Malaysian          70\n",
      "Turkish            70\n",
      "Egyptian           67\n",
      "Assamese            9\n",
      "Maldivian           2\n",
      "Name: Origin/Ethnicity, dtype: int64 \n",
      "\n",
      "\u001b[1mColumn Name--->Director\u001b[0;0m\n",
      "Number of Unique Values 12593 \n",
      "\n",
      "Count of each unique value \n",
      " Unknown                      1124\n",
      "Michael Curtiz                 79\n",
      "Hanna-Barbera                  77\n",
      "Lloyd Bacon                    66\n",
      "Jules White                    63\n",
      "                             ... \n",
      "Zafor Firoze                    1\n",
      "Peter Atencio                   1\n",
      "Shahnewaz Kakoli                1\n",
      "James Wong Howe, Sam Wood       1\n",
      "Director: Israel Horovitz       1\n",
      "Name: Director, Length: 12593, dtype: int64 \n",
      "\n",
      "\u001b[1mColumn Name--->Cast\u001b[0;0m\n",
      "Number of Unique Values 32182 \n",
      "\n",
      "Count of each unique value \n",
      " Tom and Jerry                                                                                                                     80\n",
      "Three Stooges                                                                                                                     56\n",
      "The Three Stooges                                                                                                                 47\n",
      "Looney Tunes                                                                                                                      37\n",
      "Bugs Bunny                                                                                                                        36\n",
      "                                                                                                                                  ..\n",
      "Nutan, Rajesh Khanna                                                                                                               1\n",
      "Elliott Gould, Shelley Winters, Margaux Hemingway, Burt Young, Carol Kane, Sid Caesar                                              1\n",
      "Mohanlal, Nishan, Keerthi Suresh                                                                                                   1\n",
      "Spencer Tracy, Katharine Hepburn, Sidney Poitier                                                                                   1\n",
      "Director: Sarah Gavron\\r\\nCast: Carey Mulligan, Meryl Streep, Helena Bonham Carter, Ben Whishaw, Brendan Gleeson, Romola Garai     1\n",
      "Name: Cast, Length: 32182, dtype: int64 \n",
      "\n",
      "\u001b[1mColumn Name--->Genre\u001b[0;0m\n",
      "Number of Unique Values 2265 \n",
      "\n",
      "Count of each unique value \n",
      " unknown                                     6083\n",
      "drama                                       5964\n",
      "comedy                                      4379\n",
      "horror                                      1167\n",
      "action                                      1098\n",
      "                                            ... \n",
      "parody, horror                                 1\n",
      "drama, action, supernatural, sci-fi, spy       1\n",
      "drama based on the play by bernard slade       1\n",
      "crime social drama                             1\n",
      "family drama, comedy                           1\n",
      "Name: Genre, Length: 2265, dtype: int64 \n",
      "\n",
      "\u001b[1mColumn Name--->Wiki Page\u001b[0;0m\n",
      "Number of Unique Values 34070 \n",
      "\n",
      "Count of each unique value \n",
      " https://en.wikipedia.org/wiki/Himitsu_Sentai_Gorenger    5\n",
      "https://en.wikipedia.org/wiki/Digimon_Adventure_tri.     5\n",
      "https://en.wikipedia.org/wiki/Mani_Malai                 4\n",
      "https://en.wikipedia.org/wiki/Tamayura                   4\n",
      "https://en.wikipedia.org/wiki/Thru_the_Moebius_Strip     3\n",
      "                                                        ..\n",
      "https://en.wikipedia.org/wiki/The_Bedevilled_(film)      1\n",
      "https://en.wikipedia.org/wiki/Pandem                     1\n",
      "https://en.wikipedia.org/wiki/Revivre                    1\n",
      "https://en.wikipedia.org/wiki/The_Funeral_(1996_film)    1\n",
      "https://en.wikipedia.org/wiki/The_Jack-Knife_Man         1\n",
      "Name: Wiki Page, Length: 34070, dtype: int64 \n",
      "\n",
      "\u001b[1mColumn Name--->Plot\u001b[0;0m\n",
      "Number of Unique Values 33869 \n",
      "\n",
      "Count of each unique value \n",
      " (マッスル人参争奪！超人大戦争, Massuru Ninjin Soudatsu! Choujin Dai Sensou)\\r\\nIn order to save a princess, Mantarou and the gang must find a special ginseng. They are later joined by Kevin Mask.                                                                                                                                                                                                                                                                                                                                                                                                                                                                                                                                                                                                                                                                                                                                                                                                                                                                                                                                                                                                                                                                                                                                                                                                                                                                                                                                                                                                                                                                                                                                                                                                                                                                                                                                                                                                                                                                                                                                                                                                                                                                                                                                                                                                                                                                                                                                                                                                                                                                                                                                                                                                                                                                                                                                                                                                                                                                                                                                                                                                                                                                                                                                                                                                                                                                                                                                                                                                                                                                                                                                                                                                                                                                              6\n",
      "When world peace is threatened by the emergence of a terrorist group called the Black Cross Army, a peacekeeping organization called EAGLE (for Earth Guard League)[citation needed] is formed by the United Nations to combat the threat. The Black Cross Army sends five operatives to destroy each EAGLE branch in Japan, killing everyone except for five agents. These surviving agents are summoned to a secret base located underneath the snack shop \"Gon\", where they are recruited by EAGLE Japan's commander, Gonpachi Edogawa. They become the Secret Squad Gorenger and are given electronic battlesuits that endow them with superhuman strength and speed. The five dedicate themselves to stopping the Black Cross Army and its leader, Black Cross Führer.                                                                                                                                                                                                                                                                                                                                                                                                                                                                                                                                                                                                                                                                                                                                                                                                                                                                                                                                                                                                                                                                                                                                                                                                                                                                                                                                                                                                                                                                                                                                                                                                                                                                                                                                                                                                                                                                                                                                                                                                                                                                                                                                                                                                                                                                                                                                                                                                                                                                                                                                                                                                                                                                                                                                                                                                                                                                                                                                                                                                                                                                                        5\n",
      "The films take place three years after the events of Digimon Adventure 02 and focuses on the first season DigiDestined and their partner Digimon. A mysterious anomaly is causing distortions in the Real World and Digimon are being plagued by a virus that turns them hostile. These circumstances lead to the DigiDestined being reunited with their partner Digimon. Joined by another DigiDestined named Meiko Mochizuki and her partner Meicoomon, the DigiDestined must not only deal with the infected Digimon and the mystery behind them but also with the responsibilities and burdens of growing up.                                                                                                                                                                                                                                                                                                                                                                                                                                                                                                                                                                                                                                                                                                                                                                                                                                                                                                                                                                                                                                                                                                                                                                                                                                                                                                                                                                                                                                                                                                                                                                                                                                                                                                                                                                                                                                                                                                                                                                                                                                                                                                                                                                                                                                                                                                                                                                                                                                                                                                                                                                                                                                                                                                                                                                                                                                                                                                                                                                                                                                                                                                                                                                                                                                                  5\n",
      "Set in a fictional universe in the year 2179 (Universal Century year 0079 according to the Gundam Calendar), the Principality of Zeon has declared independence from the Earth Federation, and subsequently launched a war of independence called the One Year War. The conflict has directly affected every continent on Earth, also nearly every space colony and lunar settlement. Zeon, though smaller, has the tactical upper hand through their use of a new type of humanoid weapons called mobile suits. After half of all humanity perishes in the conflict, the war settled into a bitter stalemate lasting over 8 months.\\r\\nThe story begins with a newly deployed Federation warship, the White Base, arriving at the secret research base located at the Side 7 colony to pick up the Federation's newest weapon. However, they are closely followed by Zeon forces. A Zeon reconnaissance team member disobeys mission orders and attacks the colony, killing most of the Federation crew and civilians in the process. Out of desperation, citizen boy Amuro Ray accidentally finds the Federation's new prototype arsenal—the RX-78 Gundam, and neutralizes the situation. Scrambling everything they can, the White Base sets out with her newly formed crew of civilian recruits and refugees in her journey to survive.\\r\\nOn their journey, the White Base members often encounter the Zeon Lieutenant Commander Char Aznable. Although Char antagonizes Amuro in battle, he takes advantage of their position as Federation members to have them kill members from Zeon's Zabi family as part of his revenge scheme. Amuro also meets ensign Lalah Sune with whom he falls in love, but accidentally kills when facing Char. When the Federation Forces invade the Fortress of A Baoa Qu to defeat the Zeon forces, Amuro engages on a final one-on-one duel against Char due to their shared hatred for Lalah's death. Having realized he forgot his true enemy, Char stops fighting to kill the last surviving Zabi member, Kycilia Zabi. Amuro then reunites with his comrades as the war reaches its end.                                                                                                                                                                                                                                                                                                                                                                                                                                                                                                                                                                                                                                                                                                                                                                                                                                                                                                                                                                                                                                                                                                                                                                                                                                                                                                                                                                                                                                                                                                                                                                                                                                                                                                                                4\n",
      "Tamayura centers around a young girl named Fū Sawatari who moves to Takehara, Hiroshima to begin her first year of high school. Her late father grew up in Takehara and this is her first time back in the town in five years. Fū enjoys photography and is often engrossed with taking pictures with her father's old Rollei 35 S film camera. A shy girl, Fū tries her best to make friends early on, spurred on by her childhood friend Kaoru Hanawa. She quickly becomes friends with two other girls, Maon Sakurada and Norie Okazaki. After a year has passed, Fū forms a photography club and meets fellow photographer Kanae Mitani.                                                                                                                                                                                                                                                                                                                                                                                                                                                                                                                                                                                                                                                                                                                                                                                                                                                                                                                                                                                                                                                                                                                                                                                                                                                                                                                                                                                                                                                                                                                                                                                                                                                                                                                                                                                                                                                                                                                                                                                                                                                                                                                                                                                                                                                                                                                                                                                                                                                                                                                                                                                                                                                                                                                                                                                                                                                                                                                                                                                                                                                                                                                                                                                                                       4\n",
      "                                                                                                                                                                                                                                                                                                                                                                                                                                                                                                                                                                                                                                                                                                                                                                                                                                                                                                                                                                                                                                                                                                                                                                                                                                                                                                                                                                                                                                                                                                                                                                                                                                                                                                                                                                                                                                                                                                                                                                                                                                                                                                                                                                                                                                                                                                                                                                                                                                                                                                                                                                                                                                                                                                                                                                                                                                                                                                                                                                                                                                                                                                                                                                                                                                                                                                                                                                                                                                                                                                                                                                                                                                                                                                                                                                                                                                                                  ..\n",
      "Emi Hosho, a third-rate lawyer without much of a future, is tasked with defending Goro Yabe, a man arrested for the murder of his wife. Without much hope of winning, Yabe proclaims his innocence, saying that he was under sleep paralysis at the time of the murder. Emi heads to the inn where Yabe stayed and encounters the ghost of fallen samurai Rokubei Sarashina, who claims he was the one holding Yabe in sleep paralysis. Rokubei is brought to the court as a witness. However, the prosecution denies the existence of the occult, asserting that Rokubei's testimony is inadmissible in court. So begins the struggle to prove Yabe's innocence.                                                                                                                                                                                                                                                                                                                                                                                                                                                                                                                                                                                                                                                                                                                                                                                                                                                                                                                                                                                                                                                                                                                                                                                                                                                                                                                                                                                                                                                                                                                                                                                                                                                                                                                                                                                                                                                                                                                                                                                                                                                                                                                                                                                                                                                                                                                                                                                                                                                                                                                                                                                                                                                                                                                                                                                                                                                                                                                                                                                                                                                                                                                                                                                                  1\n",
      "At his psychiatric institute, Dr. Charles Conway (John Carradine) is surreptitiously experimenting with artificial glands to try to create longevity; he works with his minion Lobo (Tor Johnson) and his assistant Dr. Sharon Gilchrist (Marilyn Buferd). Conway receives his test subjects through an associate, Dr. Loren Wright (Roy Gordon), who delivers patients seeking treatment for lesser conditions. After this, they are then taken into the operating room for Conway's illicit surgery.\\r\\nWright delivers his newest find, Grace Thomas (Allison Hayes), who is seeking treatment for depression. When Conway balks at Wright for bringing him a patient with living relatives, he confides in Conway that he plans to throw Grace's purse and bags into the bay, to fool family and the authorities into believing she had committed suicide. He then asks Conway for a demonstration of his experimental progress; Conway takes him down into the basement, where he introduces him to Harry Jedrow (Harry Fleer), his latest victim. Jedrow is clearly alive, but severely disfigured and in a vegetative state; this concerns Wright, who reveals that Jedrow's sister is currently seeking him out. Conway is furious, since none of his patients were supposed to have ties of any kind.\\r\\nThat night, Lobo discovers Frank Scott (Myron Healey) roaming around the grounds. Scott attempts to conceal his identity, but Conway quickly deduces that he is an escaped convict from his description in the newspapers, as well as a telltale tattoo on his wrist. Rather than turn Scott into the police, he offers him the chance to take part in his experiments. Knowing the odds are stacked against him, Scott accepts his offer.\\r\\nScott is introduced to Grace the following morning, along with the two other patients: Danny Green (Arthur Batanides), who is being treated for anger issues, and pretty young Natalie Andries (Sally Todd), whose treatment schedule for a nervous breakdown is nearing completion. After demanding Wright to make out a certificate of death for Harry Jedrow, Conway happily informs Natalie that one last treatment for her is all that's necessary. While the other patients sleep, Natalie is sedated, taken to the operating room, and given an artificial gland along with a high dosage of electricity. The procedure backfires, and she ends up a senile old woman. They hide her in a back room.\\r\\nLobo is ordered to bury Jedrow alive, but Frank Scott sneaks out to the burial site and opens the coffin. Jedrow rises out of it and escapes, and Lobo - not having been alerted - buries the casket. Sharon confronts Conway about his apparent affinity for Grace, and requests that she be made the next patient to be experimented upon. Meanwhile, Scott begins attempting to reveal to the other patients that Dr. Conway is carrying out horrific deeds to their friends. After a failed attempt to reveal Natalie's fate, he manages to show Grace and Danny what had happened to her, only to get caught by Dr. Conway and Sharon. They detain Scott and Danny and prepare Grace for surgery.\\r\\nDanny helps Scott escape by distracting Lobo, who fatally shoots him before being knocked unconscious. Scott confronts Dr. Conway with Lobo's gun and reveals that he is not a convicted murderer; he is actually Lt. Mark Houston, an undercover police officer sent to the psychiatrist's business to investigate it. Dr. Conway evades arrest, but is murdered by Jedrow. Lobo comes in and kills Jedrow, but Chambers' police backup arrive soon afterward and arrest Lobo and Sharon, barely saving Grace from the procedure. The police go downstairs and find Danny's body, and then discover a menagerie of beastly men, all failed experiments of Dr. Conway.    1\n",
      "Ali G is the leader of Da West Staines Massiv, a fictional gang composed of wannabe gangsters from Staines. Their chief rivals are Da East Staines Massiv. Da West Staines Massiv are heartbroken to learn that their beloved local leisure centre, where Ali teaches a life support group for young schoolboys, will be demolished by the local council, so they decide to protest. After he goes on a hunger strike and is spotted chained to some railings by the Chancellor of the Exchequer and Deputy Prime Minister David Carlton, he is drawn into a world of political intrigue, as the Deputy Prime Minister tries to use Ali as a tool to destroy the Prime Minister's credibility. Ali is put forward as a candidate to be the next MP for Staines and manages to alienate most who cross his path. During a debate with his rival candidate, Ali tries to insult his rival by claiming that he \"sucked off a horse,\" but the rival unintentionally confesses to Ali's claim and Ali wins.\\r\\nOut of his depth as a Member of Parliament, Ali's bizarre behaviour and solutions seem to work. He visits a customs checkpoint in Dover, as a delegate compiling a report. Through ideas such as making more relatable education and ensuring the immigration of attractive women into the UK, Ali becomes incredibly popular, meeting the Prime Minister's intentions and bringing his percentage lead in the polls up twenty two percent. With this the Prime Minister offers to save Ali's leisure centre. Ali accompanies the Prime Minister to a United Nations peace conference to avert war between the French-speaking African nations of Chad and Burkina Faso. The United States and Russia back opposite countries and both threaten nuclear attacks. Ali sneaks into the catering area and puts a bag of marijuana into the delegates' tea. A side-effect is that the two opposing presidents become allies. The Prime Minister says that Ali has saved the world. Carlton's secretary Kate Hedges figures out what Ali has done and retrieves the empty bag, which she mails to the press. Upon his return to the UK, Ali is forced to leave parliament.\\r\\nBefore the Leisure Centre can be saved, a video emerges of Ali and his girlfriend having sex in the Prime Minister's bedroom at Chequers. As Ali was wearing items of the Prime Minister's hat and coat at the time, the media believe the video details the Prime Minister with a prostitute, forcing his resignation. This results in Carlton being made Prime Minister. Carlton orders the destruction of the leisure centre. He has bought all available real estate in Staines knowing that the town will be destroyed to make way for a new terminal for Heathrow Airport, which will make him wealthy. The West Staines Massiv race to find the master copy of the CCTV tape proving the former Prime Minister's innocence, extending the olive branch to the gangs of Staines and Berkshire to help them break into the vaults and retrieve the tape. They do this successfully and reinstate the original Prime Minister. Staines is saved from destruction, with the Prime Minister declaring that Slough is to be destroyed instead and live happily ever after when Ali is posted as the British ambassador to Jamaica. Carlton is forced to work under Ali in Jamaica and dance in drag during Ali's party.                                                                                                                                                                                                                                                                                                                                                                                                                                                        1\n",
      "The story revolves around two childhood friends, Arjun (played by Ajay Devgn) and Mannu (played by Salman Khan). When Arjun was 17-years old, he was more focused on becoming a singer but his father disagreed therefore he began praying for his death so he can go to London. The only one who consoled him was his 15-year old friend Mannu. After Arjun's father dies, he finally travels to London with his uncle (Om Puri) whom he later runs away from after arriving.\\r\\nArjun, now 35-years old creates a fledgling band with Zoheb and Wasim (Rannvijay Singh and Aditya Roy Kapoor, respectively), two brothers who duped their relatives in Pakistan to travel to London in pursuit of their musical aspirations. He also brings aboard Priya (played by Asin), a music enthusiast from a conservative South Indian family. Back in India, Mannu seduces married women and finds himself in debt with the locals.\\r\\nAfter paying his debt, Mannu goes to London to join Arjun's band, but becomes more popular with the crowds. Mannu also flirts with Priya.\\r\\nThe band embarks on a three-city tour spanning Paris, Rome, and Amsterdam where Arjun deceives a naive Mannu into a rollercoaster ride of promiscuous sex and illicit drugs. He tricks him, gets him addicted to drugs, and then gets him arrested in a car full of them. While pretending to help Mannu, Arjun leaks the drug story to the press. As the three-city tour concludes, the band heads to London to perform at Wembley Stadium in front of an audience estimated at 90,000 (which is of significance since, earlier in the movie, the viewer is told that Arjun's grandfather had failed before a similarly huge audience). Knowing how important this is for Arjun, Mannu tries to give up drugs. But Arjun decides that his success and Mannu's total failure are related. He pays a girl to pretend to have oral sex with Mannu, which makes Priya break up with Mannu. In this fragile state, Zoheb pushes Mannu toward drugs again and his mental state is now so fragile that he can't face appearing on stage.\\r\\nIn the moments leading up to the stage entrance, Mannu comes to senses and chooses the righteous path and runs to support his mate. But Arjun, who has become incensed with the crowd chanting Mannu's name, confesses his envy of Mannu's talent and what he did to finish Mannu off. The audience boos Arjun, the show ends in chaos, the band breaks up and a sad Mannu eventually returns to his village.\\r\\nArjun's uncle advises him to apologize to Mannu. Then it is revealed that after knowing the truth Priya and Mannu reconcile. Also, she marries Mannu and lives with him in his village. In the village, however, Mannu tells him not to apologize saying that it was his fault that he didn't see Arjun's sorrow and Priya also pardons Arjun for his wrong deeds. They get back together and London Dreams becomes a successful band again.                                                                                                                                                                                                                                                                                                                                                                                                                                                                                                                                                                                                                                                                                                                                                                                                                                                                                 1\n",
      "Shortly after his 50th birthday, LAPD Homicide Sergeant Roger Murtaugh is partnered with Sergeant Martin Riggs, a transfer from narcotics. Riggs is a former Special Forces soldier who lost his wife in a car accident three years prior, has turned suicidal, and has been taking his aggression out on suspects, leading to his superiors requesting his transfer. Murtaugh and Riggs quickly find themselves feuding with each other.\\r\\nMurtaugh is contacted by Michael Hunsaker, a Vietnam War buddy and banker, but before they can meet, Murtaugh learns that Hunsaker's daughter, Amanda, apparently committed suicide by jumping from her apartment balcony. Autopsy reports show Amanda to have been poisoned with drain cleaner, making the case a possible homicide. Hunsaker tells Murtaugh that he was concerned about his daughter's involvement in drugs, prostitution, and pornography, and was trying to get Murtaugh to help her escape that life.\\r\\nMurtaugh and Riggs attempt to question Amanda's pimp, but find a drug lab on the premises, leading to a shootout. Riggs kills the pimp and saves the life of Murtaugh, who starts to tolerate his new partner. Though the case seems closed, Riggs is aware that the only witness to Amanda's apparent suicide was Dixie, another prostitute who was working away from her normal streets. They attempt to question Dixie at her home, but it explodes as they approach it. Riggs finds parts of a mercury switch from bomb debris, indicating a professional had set the bomb; children who had been nearby witnessed a man approach the house with a tattoo similar to Riggs', and Murtaugh suspects Hunsaker knows more than he has told him.\\r\\nThe two approach Hunsaker before Amanda's funeral, where he reveals that he had previously been part of \"Shadow Company,\" a heroin-smuggling operation run by former special forces operators from the Vietnam War, masterminded by retired General Peter McAllister and his right-hand man, Mr. Joshua. Hunsaker had been laundering the money, but wanted to get out, and when McAllister found out he'd contacted Murtaugh, the general had Amanda killed. As they talk, Joshua arrives in a helicopter and kills Hunsaker. Shadow Company attempts to kill Riggs in a drive-by shooting, but he is saved by a bullet-proof vest. Murtaugh and Riggs fake his death to gain the upper hand.\\r\\nShadow Company later kidnaps Murtaugh's daughter Rianne and demand Murtaugh turn himself over to them for her return. Murtaugh and Riggs plan an ambush at the exchange at El Mirage Lake with Riggs providing sniper support, but Riggs is caught by McAllister and all three are taken to an unknown location. Murtaugh and Riggs are tortured for information, but Riggs manages to overpower his captors, frees Murtaugh and Rianne, and they escape to find themselves at a busy nightclub used as a front for Shadow Company. Their cover blown, McAllister and Joshua attempt to escape separately. Joshua manages to get away, but McAllister ends up crashing his car on Hollywood Boulevard and is killed when hand grenades in the car detonate. Murtaugh and Riggs race to Murtaugh's home, knowing Joshua will be after his family. They arrive in time to stop him, and Riggs beats him in a violent fist fight on the front lawn. As officers arrive to take Joshua away, he breaks free and grabs a gun, but both Murtaugh and Riggs pull their guns and shoot him dead.\\r\\nAfter visiting his wife's grave, Riggs spends Christmas with the Murtaughs, having become best friends with Murtaugh and bonding with the rest of the family. Riggs also gives Murtaugh a symbolic gift: an unfired hollow-point bullet which he had been saving to commit suicide, as he does not need it anymore.                   1\n",
      "Name: Plot, Length: 33869, dtype: int64 \n",
      "\n",
      "Wall time: 300 ms\n"
     ]
    }
   ],
   "source": [
    "%%time\n",
    "values_in_columns(df)\n"
   ]
  },
  {
   "cell_type": "code",
   "execution_count": null,
   "id": "50839b13",
   "metadata": {},
   "outputs": [],
   "source": []
  },
  {
   "cell_type": "code",
   "execution_count": 11,
   "id": "fb96ac65",
   "metadata": {},
   "outputs": [
    {
     "data": {
      "text/plain": [
       "Text(0.5, 1.0, 'Origin/Ethnicity')"
      ]
     },
     "execution_count": 11,
     "metadata": {},
     "output_type": "execute_result"
    },
    {
     "data": {
      "image/png": "[encoded data removed]",
      "text/plain": [
       "<Figure size 2160x720 with 1 Axes>"
      ]
     },
     "metadata": {
      "needs_background": "light"
     },
     "output_type": "display_data"
    }
   ],
   "source": [
    "data = df['Origin/Ethnicity'].value_counts()\n",
    "plt.figure(figsize=(30,10))\n",
    "sns.barplot(x=data.index, y=data)\n",
    "plt.xticks(rotation=90,fontsize = 20)\n",
    "plt.yticks(fontsize = 20)\n",
    "plt.title('Origin/Ethnicity',fontsize = 20)"
   ]
  },
  {
   "cell_type": "code",
   "execution_count": 21,
   "id": "9beaef4c",
   "metadata": {},
   "outputs": [
    {
     "data": {
      "text/plain": [
       "Text(0.5, 1.0, 'Release Year')"
      ]
     },
     "execution_count": 21,
     "metadata": {},
     "output_type": "execute_result"
    },
    {
     "data": {
      "image/png": "[encoded data removed]",
      "text/plain": [
       "<Figure size 2160x720 with 1 Axes>"
      ]
     },
     "metadata": {
      "needs_background": "light"
     },
     "output_type": "display_data"
    }
   ],
   "source": [
    "data = df['Release Year'].value_counts()[:60]\n",
    "plt.figure(figsize=(30,10))\n",
    "sns.barplot(x=data.index, y=data)\n",
    "plt.xticks(rotation=90,fontsize = 20)\n",
    "plt.yticks(fontsize = 20)\n",
    "plt.title('Release Year',fontsize = 20)"
   ]
  },
  {
   "cell_type": "code",
   "execution_count": null,
   "id": "1a533270",
   "metadata": {},
   "outputs": [],
   "source": []
  },
  {
   "cell_type": "markdown",
   "id": "f35831aa",
   "metadata": {},
   "source": [
    "### The count of the unknown in the Genre"
   ]
  },
  {
   "cell_type": "code",
   "execution_count": 29,
   "id": "3e607b28",
   "metadata": {},
   "outputs": [
    {
     "data": {
      "text/plain": [
       "6083"
      ]
     },
     "execution_count": 29,
     "metadata": {},
     "output_type": "execute_result"
    }
   ],
   "source": [
    "df['Genre'].value_counts()['unknown']"
   ]
  },
  {
   "cell_type": "code",
   "execution_count": null,
   "id": "82127753",
   "metadata": {},
   "outputs": [],
   "source": []
  },
  {
   "cell_type": "code",
   "execution_count": 33,
   "id": "96a926e3",
   "metadata": {},
   "outputs": [
    {
     "data": {
      "text/plain": [
       "1017"
      ]
     },
     "execution_count": 33,
     "metadata": {},
     "output_type": "execute_result"
    }
   ],
   "source": [
    "df['Plot'].duplicated().sum()"
   ]
  },
  {
   "cell_type": "markdown",
   "id": "0006d243",
   "metadata": {},
   "source": [
    "### Number of duplicate plots in the Plot column"
   ]
  },
  {
   "cell_type": "code",
   "execution_count": null,
   "id": "c5ee131c",
   "metadata": {},
   "outputs": [],
   "source": []
  }
 ],
 "metadata": {
  "kernelspec": {
   "display_name": "Python 3",
   "language": "python",
   "name": "python3"
  },
  "language_info": {
   "codemirror_mode": {
    "name": "ipython",
    "version": 3
   },
   "file_extension": ".py",
   "mimetype": "text/x-python",
   "name": "python",
   "nbconvert_exporter": "python",
   "pygments_lexer": "ipython3",
   "version": "3.8.10"
  }
 },
 "nbformat": 4,
 "nbformat_minor": 5
}
