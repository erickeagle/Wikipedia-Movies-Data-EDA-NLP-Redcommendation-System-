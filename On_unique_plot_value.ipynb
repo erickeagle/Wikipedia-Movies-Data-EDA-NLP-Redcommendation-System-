{
 "cells": [
  {
   "cell_type": "code",
   "execution_count": 1,
   "id": "ce8dfaed",
   "metadata": {},
   "outputs": [],
   "source": [
    "import pandas as pd\n",
    "import numpy as np\n",
    "#for model-building\n",
    "from sklearn.model_selection import train_test_split\n",
    "from sklearn.ensemble import RandomForestClassifier\n",
    "from sklearn.metrics import classification_report, f1_score, accuracy_score, confusion_matrix\n",
    "from sklearn.metrics import roc_curve, auc, roc_auc_score\n",
    "# bag of words\n",
    "from sklearn.feature_extraction.text import TfidfVectorizer, TfidfTransformer\n",
    "from sklearn.feature_extraction.text import CountVectorizer\n",
    "from sklearn.pipeline import Pipeline\n",
    "from sklearn.decomposition import PCA\n",
    "from sklearn.preprocessing import normalize\n",
    "from sklearn.metrics import pairwise_distances\n",
    "\n"
   ]
  },
  {
   "cell_type": "code",
   "execution_count": 2,
   "id": "56cc7e33",
   "metadata": {},
   "outputs": [
    {
     "name": "stdout",
     "output_type": "stream",
     "text": [
      "Wall time: 2min 8s\n"
     ]
    },
    {
     "name": "stderr",
     "output_type": "stream",
     "text": [
      "<timed exec>:15: SettingWithCopyWarning: \n",
      "A value is trying to be set on a copy of a slice from a DataFrame.\n",
      "Try using .loc[row_indexer,col_indexer] = value instead\n",
      "\n",
      "See the caveats in the documentation: https://pandas.pydata.org/pandas-docs/stable/user_guide/indexing.html#returning-a-view-versus-a-copy\n",
      "<timed exec>:16: SettingWithCopyWarning: \n",
      "A value is trying to be set on a copy of a slice from a DataFrame\n",
      "\n",
      "See the caveats in the documentation: https://pandas.pydata.org/pandas-docs/stable/user_guide/indexing.html#returning-a-view-versus-a-copy\n"
     ]
    }
   ],
   "source": [
    "%%time\n",
    "\n",
    "'''\n",
    "importing the data of genre and plot and most frequent words in the plot column\n",
    "making a dict for each genre of most common words\n",
    "then splitting the data into Train and test \n",
    "and making a function that trims the plot column using the most common word on the training data\n",
    "'''\n",
    "\n",
    "df=pd.read_csv('wiki_movie_plots_deduped_cleaned_genre_and_plot.csv')\n",
    "data=pd.read_csv(\"most_frequent_words_30.csv\")\n",
    "dict_words={i:(data[data['Genre']==i]['Words']).to_list() for i in data['Genre'].unique()}\n",
    "def reduce_words(x):\n",
    "    return ' '.join([i for i in x['Plot_cleanned'].split() if i in  dict_words[x['Genre_updated']]])\n",
    "    \n",
    "Train=df[~pd.isnull(df['Genre_updated'])]\n",
    "Test=df[pd.isnull(df['Genre_updated'])]\n",
    "Train['Plot_trimmed']=Train[['Genre_updated','Plot_cleanned']].apply(lambda x: reduce_words(x),axis=1)\n",
    "Train.drop_duplicates(subset='Plot_trimmed',inplace=True) #removing the duplicate columns\n"
   ]
  },
  {
   "cell_type": "code",
   "execution_count": 3,
   "id": "48a32b1b",
   "metadata": {},
   "outputs": [
    {
     "name": "stdout",
     "output_type": "stream",
     "text": [
      "Wall time: 43.8 ms\n"
     ]
    }
   ],
   "source": [
    "%%time\n",
    "\n",
    "X_train=Train['Plot_trimmed']\n",
    "y_train=Train['Genre_updated']\n",
    "\n",
    "\n",
    "X_train, X_val, y_train, y_val = train_test_split(X_train,y_train,test_size=0.3,random_state=123,stratify=y_train)\n",
    "\n",
    "\n",
    "X_test=Test['Plot_cleanned']\n",
    "y_test=Test['Genre_updated']"
   ]
  },
  {
   "cell_type": "markdown",
   "id": "4380c28f",
   "metadata": {},
   "source": [
    "### Model Building using tf-idf and rf"
   ]
  },
  {
   "cell_type": "code",
   "execution_count": 4,
   "id": "ff6eb89e",
   "metadata": {},
   "outputs": [
    {
     "name": "stdout",
     "output_type": "stream",
     "text": [
      "Wall time: 0 ns\n"
     ]
    }
   ],
   "source": [
    "%%time\n",
    "#converting the text data using tf-idf\n",
    "\n",
    "tfidf_vectorizer = TfidfVectorizer(use_idf=True,ngram_range=(1,2))\n"
   ]
  },
  {
   "cell_type": "code",
   "execution_count": 5,
   "id": "37628d74",
   "metadata": {},
   "outputs": [
    {
     "data": {
      "text/plain": [
       "((22633, 8540), (9701, 8540), (6843, 8540))"
      ]
     },
     "execution_count": 5,
     "metadata": {},
     "output_type": "execute_result"
    }
   ],
   "source": [
    "X_train_vectors_tfidf = tfidf_vectorizer.fit_transform(X_train) \n",
    "X_val_vectors_tfidf = tfidf_vectorizer.transform(X_val) \n",
    "X_test_vectors_tfidf = tfidf_vectorizer.transform(X_test)\n",
    "X_train_vectors_tfidf.shape,X_val_vectors_tfidf.shape,X_test_vectors_tfidf.shape,"
   ]
  },
  {
   "cell_type": "code",
   "execution_count": 6,
   "id": "8907b0bb",
   "metadata": {},
   "outputs": [
    {
     "name": "stdout",
     "output_type": "stream",
     "text": [
      "              precision    recall  f1-score   support\n",
      "\n",
      "      action       0.84      0.90      0.87       671\n",
      "   adventure       0.82      0.80      0.81       230\n",
      "    animated       0.93      0.88      0.90       251\n",
      "       anime       0.96      0.54      0.69        41\n",
      "   biography       0.91      0.85      0.88       129\n",
      "      comedy       0.80      0.82      0.81      1963\n",
      "       crime       0.83      0.79      0.81       422\n",
      " documentary       0.88      0.41      0.56        37\n",
      "       drama       0.79      0.92      0.85      2555\n",
      "      family       0.92      0.75      0.83       178\n",
      "     fantasy       0.94      0.72      0.82       152\n",
      "  historical       0.93      0.62      0.74        81\n",
      "      horror       0.93      0.89      0.91       440\n",
      "martial_arts       1.00      0.74      0.85        38\n",
      "     musical       0.92      0.75      0.83       255\n",
      "     mystery       0.86      0.62      0.72       129\n",
      "        noir       0.93      0.54      0.68        98\n",
      "     romance       0.95      0.85      0.89       552\n",
      "      sci_fi       0.95      0.94      0.95       267\n",
      "      serial       0.80      0.50      0.62        24\n",
      "       short       0.71      0.71      0.71        63\n",
      "      social       1.00      0.34      0.51        61\n",
      "      sports       1.00      0.86      0.93        37\n",
      "         spy       0.97      0.75      0.85        40\n",
      "        teen       0.92      0.46      0.62        26\n",
      "    thriller       0.83      0.79      0.81       517\n",
      "         war       0.95      0.98      0.97       178\n",
      "     western       0.96      0.90      0.93       266\n",
      "\n",
      "    accuracy                           0.84      9701\n",
      "   macro avg       0.90      0.74      0.80      9701\n",
      "weighted avg       0.85      0.84      0.84      9701\n",
      "\n",
      "Confusion Matrix: [[ 602    4    1    0    0   22    8    0   23    0    0    0    2    0\n",
      "     0    1    0    0    1    0    0    0    0    0    0    5    0    2]\n",
      " [  17  183    1    0    0    6    3    0   13    0    0    0    2    0\n",
      "     0    0    0    0    2    1    0    0    0    0    0    1    0    1]\n",
      " [   0    1  220    0    0   13    0    0    6    2    1    0    0    0\n",
      "     1    0    0    0    0    0    7    0    0    0    0    0    0    0]\n",
      " [   4    1    0   22    0    1    0    0    1    0    2    0    0    0\n",
      "     3    0    0    2    5    0    0    0    0    0    0    0    0    0]\n",
      " [   0    0    0    0  110    1    0    2   12    0    0    2    0    0\n",
      "     1    0    0    0    0    0    0    0    0    0    0    0    1    0]\n",
      " [   0    0    0    0    0 1602    0    0  357    1    1    0    0    0\n",
      "     1    0    0    1    0    0    0    0    0    0    0    0    0    0]\n",
      " [  15    1    0    0    0   15  333    0   16    0    0    0    5    0\n",
      "     0    2    1    0    0    0    0    0    0    0    0   30    0    4]\n",
      " [   0    0    0    0    7    5    0   15    5    0    0    1    0    0\n",
      "     2    0    0    0    0    0    1    0    0    0    0    0    1    0]\n",
      " [   2    3    0    0    0  187    2    0 2347    0    0    0    3    0\n",
      "     1    0    0    5    0    0    0    0    0    0    0    3    0    2]\n",
      " [   1    4    0    0    0   14    0    0   20  134    1    0    0    0\n",
      "     2    0    0    2    0    0    0    0    0    0    0    0    0    0]\n",
      " [  11    7    1    1    0    2    0    0   11    1  110    0    0    0\n",
      "     0    1    0    0    1    0    0    0    0    0    1    5    0    0]\n",
      " [   2    1    0    0    2    4    1    0   15    0    0   50    0    0\n",
      "     0    0    0    0    0    0    1    0    0    0    0    1    4    0]\n",
      " [   6    4    1    0    0   10    6    0    7    0    0    0  391    0\n",
      "     0    2    2    0    0    0    0    0    0    0    0   11    0    0]\n",
      " [   8    1    0    0    0    0    0    0    0    0    0    0    0   28\n",
      "     0    0    0    0    0    0    1    0    0    0    0    0    0    0]\n",
      " [   0    1    2    0    0   31    0    0   23    1    0    0    1    0\n",
      "   191    0    0    5    0    0    0    0    0    0    0    0    0    0]\n",
      " [   5    1    0    0    0    5    8    0    6    0    0    0    5    0\n",
      "     0   80    1    0    0    0    5    0    0    0    0   12    0    1]\n",
      " [   5    1    0    0    0    5   11    0    4    0    1    0    2    0\n",
      "     0    6   53    0    0    0    0    0    0    0    0   10    0    0]\n",
      " [   0    0    0    0    0   37    0    0   44    0    0    0    0    0\n",
      "     4    0    0  467    0    0    0    0    0    0    0    0    0    0]\n",
      " [   3    3    0    0    0    0    0    0    4    0    1    0    4    0\n",
      "     0    0    0    1  251    0    0    0    0    0    0    0    0    0]\n",
      " [   0    2    1    0    0    1    0    0    0    0    0    0    1    0\n",
      "     0    0    0    0    2   12    2    0    0    0    0    0    2    1]\n",
      " [   0    0    7    0    0    9    0    0    1    0    0    0    0    0\n",
      "     0    0    0    1    0    0   45    0    0    0    0    0    0    0]\n",
      " [   7    0    0    0    0    2    1    0   20    3    0    0    0    0\n",
      "     0    0    0    4    0    0    0   21    0    0    0    3    0    0]\n",
      " [   0    0    0    0    2    2    0    0    0    0    0    0    0    0\n",
      "     0    0    0    0    0    0    1    0   32    0    0    0    0    0]\n",
      " [   1    0    1    0    0    2    0    0    0    0    0    1    0    0\n",
      "     1    0    0    0    1    1    0    0    0   30    0    1    1    0]\n",
      " [   0    0    1    0    0    5    0    0    1    3    0    0    0    0\n",
      "     0    0    0    4    0    0    0    0    0    0   12    0    0    0]\n",
      " [  16    1    0    0    0   24   24    0   38    0    0    0    4    0\n",
      "     1    1    0    1    0    0    0    0    0    0    0  407    0    0]\n",
      " [   0    1    0    0    0    0    0    0    0    0    0    0    0    0\n",
      "     0    0    0    0    0    1    0    0    0    1    0    0  175    0]\n",
      " [   9    4    1    0    0    4    2    0    6    0    0    0    0    0\n",
      "     0    0    0    0    0    0    0    0    0    0    0    1    0  239]]\n"
     ]
    }
   ],
   "source": [
    "#pipeline for convertingthe \n",
    "\n",
    "text_clf = Pipeline([('tfidf', TfidfVectorizer(use_idf=True)),\n",
    "                     ('clf', RandomForestClassifier(n_estimators = 100,random_state=123,n_jobs=-1))])\n",
    "text_clf.fit(X_train,y_train)\n",
    "#Predict y value for test dataset \n",
    "y_pred=text_clf.predict(X_val)\n",
    "print(classification_report(y_val,y_pred))\n",
    "print('Confusion Matrix:',confusion_matrix(y_val, y_pred))"
   ]
  },
  {
   "cell_type": "code",
   "execution_count": null,
   "id": "3b4f3a22",
   "metadata": {},
   "outputs": [],
   "source": []
  },
  {
   "cell_type": "code",
   "execution_count": null,
   "id": "6b973ac3",
   "metadata": {},
   "outputs": [],
   "source": []
  },
  {
   "cell_type": "code",
   "execution_count": 7,
   "id": "db428d0c",
   "metadata": {},
   "outputs": [
    {
     "data": {
      "text/html": [
       "<div>\n",
       "<style scoped>\n",
       "    .dataframe tbody tr th:only-of-type {\n",
       "        vertical-align: middle;\n",
       "    }\n",
       "\n",
       "    .dataframe tbody tr th {\n",
       "        vertical-align: top;\n",
       "    }\n",
       "\n",
       "    .dataframe thead th {\n",
       "        text-align: right;\n",
       "    }\n",
       "</style>\n",
       "<table border=\"1\" class=\"dataframe\">\n",
       "  <thead>\n",
       "    <tr style=\"text-align: right;\">\n",
       "      <th></th>\n",
       "      <th>Genre_updated</th>\n",
       "      <th>Plot_trimmed</th>\n",
       "    </tr>\n",
       "  </thead>\n",
       "  <tbody>\n",
       "    <tr>\n",
       "      <th>6</th>\n",
       "      <td>western</td>\n",
       "      <td>two two kill kill one try horse back tell men ...</td>\n",
       "    </tr>\n",
       "    <tr>\n",
       "      <th>7</th>\n",
       "      <td>comedy</td>\n",
       "      <td>film family life go get</td>\n",
       "    </tr>\n",
       "    <tr>\n",
       "      <th>10</th>\n",
       "      <td>short</td>\n",
       "      <td>get try get fall head back get fall</td>\n",
       "    </tr>\n",
       "    <tr>\n",
       "      <th>11</th>\n",
       "      <td>action</td>\n",
       "      <td>two later</td>\n",
       "    </tr>\n",
       "    <tr>\n",
       "      <th>12</th>\n",
       "      <td>western</td>\n",
       "      <td>two horse</td>\n",
       "    </tr>\n",
       "    <tr>\n",
       "      <th>...</th>\n",
       "      <td>...</td>\n",
       "      <td>...</td>\n",
       "    </tr>\n",
       "    <tr>\n",
       "      <th>42525</th>\n",
       "      <td>drama</td>\n",
       "      <td>film two take family go find tell wife family ...</td>\n",
       "    </tr>\n",
       "    <tr>\n",
       "      <th>42526</th>\n",
       "      <td>drama</td>\n",
       "      <td>family mother find new</td>\n",
       "    </tr>\n",
       "    <tr>\n",
       "      <th>42532</th>\n",
       "      <td>comedy</td>\n",
       "      <td>father also friend try family find</td>\n",
       "    </tr>\n",
       "    <tr>\n",
       "      <th>42533</th>\n",
       "      <td>comedy</td>\n",
       "      <td>film however two go man go man new life get life</td>\n",
       "    </tr>\n",
       "    <tr>\n",
       "      <th>42534</th>\n",
       "      <td>romance</td>\n",
       "      <td>find friend family love</td>\n",
       "    </tr>\n",
       "  </tbody>\n",
       "</table>\n",
       "<p>32334 rows × 2 columns</p>\n",
       "</div>"
      ],
      "text/plain": [
       "      Genre_updated                                       Plot_trimmed\n",
       "6           western  two two kill kill one try horse back tell men ...\n",
       "7            comedy                            film family life go get\n",
       "10            short                get try get fall head back get fall\n",
       "11           action                                          two later\n",
       "12          western                                          two horse\n",
       "...             ...                                                ...\n",
       "42525         drama  film two take family go find tell wife family ...\n",
       "42526         drama                             family mother find new\n",
       "42532        comedy                 father also friend try family find\n",
       "42533        comedy   film however two go man go man new life get life\n",
       "42534       romance                            find friend family love\n",
       "\n",
       "[32334 rows x 2 columns]"
      ]
     },
     "execution_count": 7,
     "metadata": {},
     "output_type": "execute_result"
    }
   ],
   "source": [
    "data=Train[['Genre_updated','Plot_trimmed']]\n",
    "data"
   ]
  },
  {
   "cell_type": "code",
   "execution_count": 8,
   "id": "a77093e8",
   "metadata": {},
   "outputs": [
    {
     "data": {
      "text/plain": [
       "drama           8515\n",
       "comedy          6543\n",
       "action          2235\n",
       "romance         1841\n",
       "thriller        1724\n",
       "horror          1466\n",
       "crime           1406\n",
       "sci_fi           890\n",
       "western          887\n",
       "musical          850\n",
       "animated         838\n",
       "adventure        767\n",
       "family           593\n",
       "war              593\n",
       "fantasy          507\n",
       "biography        431\n",
       "mystery          429\n",
       "noir             325\n",
       "historical       269\n",
       "short            211\n",
       "social           203\n",
       "anime            138\n",
       "spy              133\n",
       "martial_arts     128\n",
       "documentary      124\n",
       "sports           122\n",
       "teen              85\n",
       "serial            81\n",
       "Name: Genre_updated, dtype: int64"
      ]
     },
     "execution_count": 8,
     "metadata": {},
     "output_type": "execute_result"
    }
   ],
   "source": [
    "data['Genre_updated'].value_counts()"
   ]
  },
  {
   "cell_type": "code",
   "execution_count": 9,
   "id": "8f4522b6",
   "metadata": {},
   "outputs": [],
   "source": [
    "dax=df['Genre_updated'].value_counts().rename_axis('Genres_updated').reset_index(name='counts')\n",
    "choices = [i for i in dax['Genres_updated'].to_list() if len(i.split())<2][0:18]"
   ]
  },
  {
   "cell_type": "code",
   "execution_count": 10,
   "id": "fe3f930c",
   "metadata": {},
   "outputs": [],
   "source": [
    "choices_final=[row['Genres_updated'] for i,row in dax.iterrows() if row['Genres_updated'] in choices if row['counts']>1000]"
   ]
  },
  {
   "cell_type": "code",
   "execution_count": 11,
   "id": "031ac8b3",
   "metadata": {},
   "outputs": [
    {
     "data": {
      "text/plain": [
       "['drama', 'comedy', 'action', 'romance', 'thriller', 'crime', 'horror']"
      ]
     },
     "execution_count": 11,
     "metadata": {},
     "output_type": "execute_result"
    }
   ],
   "source": [
    "choices_final"
   ]
  },
  {
   "cell_type": "code",
   "execution_count": null,
   "id": "c8772ba7",
   "metadata": {},
   "outputs": [],
   "source": []
  },
  {
   "cell_type": "code",
   "execution_count": 12,
   "id": "f5e741db",
   "metadata": {},
   "outputs": [],
   "source": [
    "data1=pd.DataFrame(columns = ['Genre_updated','Plot_trimmed'])\n",
    "for i in choices_final:\n",
    "    data1=pd.concat([data1,data[data['Genre_updated']==i]])\n"
   ]
  },
  {
   "cell_type": "code",
   "execution_count": 13,
   "id": "0c0623c6",
   "metadata": {},
   "outputs": [],
   "source": [
    "#data1"
   ]
  },
  {
   "cell_type": "markdown",
   "id": "9215c873",
   "metadata": {},
   "source": [
    "### spacy + text clustering"
   ]
  },
  {
   "cell_type": "code",
   "execution_count": 42,
   "id": "01ebdd2d",
   "metadata": {},
   "outputs": [],
   "source": [
    "import spacy\n",
    "nlp = spacy.load(\"en_core_web_lg\")"
   ]
  },
  {
   "cell_type": "code",
   "execution_count": 43,
   "id": "5927469b",
   "metadata": {},
   "outputs": [
    {
     "name": "stdout",
     "output_type": "stream",
     "text": [
      "Wall time: 0 ns\n"
     ]
    }
   ],
   "source": [
    "%time\n",
    "data1['plot_tokenized']=data1['Plot_trimmed'].apply(nlp)"
   ]
  },
  {
   "cell_type": "code",
   "execution_count": 44,
   "id": "a2bf64d5",
   "metadata": {},
   "outputs": [
    {
     "name": "stdout",
     "output_type": "stream",
     "text": [
      "Wall time: 0 ns\n"
     ]
    }
   ],
   "source": [
    "%time\n",
    "data1['plot_sent_vectors'] = data1['plot_tokenized'].apply(lambda sent: sent.vector)"
   ]
  },
  {
   "cell_type": "code",
   "execution_count": 45,
   "id": "a01b3053",
   "metadata": {},
   "outputs": [
    {
     "data": {
      "text/html": [
       "<div>\n",
       "<style scoped>\n",
       "    .dataframe tbody tr th:only-of-type {\n",
       "        vertical-align: middle;\n",
       "    }\n",
       "\n",
       "    .dataframe tbody tr th {\n",
       "        vertical-align: top;\n",
       "    }\n",
       "\n",
       "    .dataframe thead th {\n",
       "        text-align: right;\n",
       "    }\n",
       "</style>\n",
       "<table border=\"1\" class=\"dataframe\">\n",
       "  <thead>\n",
       "    <tr style=\"text-align: right;\">\n",
       "      <th></th>\n",
       "      <th>Genre_updated</th>\n",
       "      <th>Plot_trimmed</th>\n",
       "      <th>plot_tokenized</th>\n",
       "      <th>plot_sent_vectors</th>\n",
       "    </tr>\n",
       "  </thead>\n",
       "  <tbody>\n",
       "    <tr>\n",
       "      <th>19</th>\n",
       "      <td>drama</td>\n",
       "      <td>day father mother take mother mother father re...</td>\n",
       "      <td>(day, father, mother, take, mother, mother, fa...</td>\n",
       "      <td>[0.1032419204711914, 0.247483491897583, -0.221...</td>\n",
       "    </tr>\n",
       "    <tr>\n",
       "      <th>20</th>\n",
       "      <td>drama</td>\n",
       "      <td>man two friend time home get house</td>\n",
       "      <td>(man, two, friend, time, home, get, house)</td>\n",
       "      <td>[0.04797285422682762, 0.16002286970615387, -0....</td>\n",
       "    </tr>\n",
       "    <tr>\n",
       "      <th>23</th>\n",
       "      <td>drama</td>\n",
       "      <td>film film go come meet life</td>\n",
       "      <td>(film, film, go, come, meet, life)</td>\n",
       "      <td>[0.16780917346477509, 0.010754327289760113, 0....</td>\n",
       "    </tr>\n",
       "    <tr>\n",
       "      <th>25</th>\n",
       "      <td>drama</td>\n",
       "      <td>time man</td>\n",
       "      <td>(time, man)</td>\n",
       "      <td>[-0.0003350004553794861, 0.24082499742507935, ...</td>\n",
       "    </tr>\n",
       "    <tr>\n",
       "      <th>26</th>\n",
       "      <td>drama</td>\n",
       "      <td>wife father time home one family later two tak...</td>\n",
       "      <td>(wife, father, time, home, one, family, later,...</td>\n",
       "      <td>[0.13027994334697723, 0.12841781973838806, -0....</td>\n",
       "    </tr>\n",
       "    <tr>\n",
       "      <th>...</th>\n",
       "      <td>...</td>\n",
       "      <td>...</td>\n",
       "      <td>...</td>\n",
       "      <td>...</td>\n",
       "    </tr>\n",
       "    <tr>\n",
       "      <th>41983</th>\n",
       "      <td>horror</td>\n",
       "      <td>try father family father</td>\n",
       "      <td>(try, father, family, father)</td>\n",
       "      <td>[0.03560420125722885, 0.22435325384140015, -0....</td>\n",
       "    </tr>\n",
       "    <tr>\n",
       "      <th>42154</th>\n",
       "      <td>horror</td>\n",
       "      <td>police death see friend one police home later ...</td>\n",
       "      <td>(police, death, see, friend, one, police, home...</td>\n",
       "      <td>[0.008886030875146389, 0.1903814971446991, -0....</td>\n",
       "    </tr>\n",
       "    <tr>\n",
       "      <th>42175</th>\n",
       "      <td>horror</td>\n",
       "      <td>one later later night two see see friend famil...</td>\n",
       "      <td>(one, later, later, night, two, see, see, frie...</td>\n",
       "      <td>[0.16172008216381073, 0.1151498556137085, -0.2...</td>\n",
       "    </tr>\n",
       "    <tr>\n",
       "      <th>42486</th>\n",
       "      <td>horror</td>\n",
       "      <td>friend attack one friend</td>\n",
       "      <td>(friend, attack, one, friend)</td>\n",
       "      <td>[-0.1163172572851181, 0.20903000235557556, -0....</td>\n",
       "    </tr>\n",
       "    <tr>\n",
       "      <th>42491</th>\n",
       "      <td>horror</td>\n",
       "      <td>mother one begin tell get</td>\n",
       "      <td>(mother, one, begin, tell, get)</td>\n",
       "      <td>[-0.033179402351379395, 0.1787894070148468, -0...</td>\n",
       "    </tr>\n",
       "  </tbody>\n",
       "</table>\n",
       "<p>23730 rows × 4 columns</p>\n",
       "</div>"
      ],
      "text/plain": [
       "      Genre_updated                                       Plot_trimmed  \\\n",
       "19            drama  day father mother take mother mother father re...   \n",
       "20            drama                 man two friend time home get house   \n",
       "23            drama                        film film go come meet life   \n",
       "25            drama                                           time man   \n",
       "26            drama  wife father time home one family later two tak...   \n",
       "...             ...                                                ...   \n",
       "41983        horror                           try father family father   \n",
       "42154        horror  police death see friend one police home later ...   \n",
       "42175        horror  one later later night two see see friend famil...   \n",
       "42486        horror                           friend attack one friend   \n",
       "42491        horror                          mother one begin tell get   \n",
       "\n",
       "                                          plot_tokenized  \\\n",
       "19     (day, father, mother, take, mother, mother, fa...   \n",
       "20            (man, two, friend, time, home, get, house)   \n",
       "23                    (film, film, go, come, meet, life)   \n",
       "25                                           (time, man)   \n",
       "26     (wife, father, time, home, one, family, later,...   \n",
       "...                                                  ...   \n",
       "41983                      (try, father, family, father)   \n",
       "42154  (police, death, see, friend, one, police, home...   \n",
       "42175  (one, later, later, night, two, see, see, frie...   \n",
       "42486                      (friend, attack, one, friend)   \n",
       "42491                    (mother, one, begin, tell, get)   \n",
       "\n",
       "                                       plot_sent_vectors  \n",
       "19     [0.1032419204711914, 0.247483491897583, -0.221...  \n",
       "20     [0.04797285422682762, 0.16002286970615387, -0....  \n",
       "23     [0.16780917346477509, 0.010754327289760113, 0....  \n",
       "25     [-0.0003350004553794861, 0.24082499742507935, ...  \n",
       "26     [0.13027994334697723, 0.12841781973838806, -0....  \n",
       "...                                                  ...  \n",
       "41983  [0.03560420125722885, 0.22435325384140015, -0....  \n",
       "42154  [0.008886030875146389, 0.1903814971446991, -0....  \n",
       "42175  [0.16172008216381073, 0.1151498556137085, -0.2...  \n",
       "42486  [-0.1163172572851181, 0.20903000235557556, -0....  \n",
       "42491  [-0.033179402351379395, 0.1787894070148468, -0...  \n",
       "\n",
       "[23730 rows x 4 columns]"
      ]
     },
     "execution_count": 45,
     "metadata": {},
     "output_type": "execute_result"
    }
   ],
   "source": [
    "data1['plot_sent_vectors'] = data1['plot_sent_vectors'].apply(lambda x:x.tolist())\n",
    "data1"
   ]
  },
  {
   "cell_type": "code",
   "execution_count": 46,
   "id": "763d50eb",
   "metadata": {},
   "outputs": [
    {
     "data": {
      "text/plain": [
       "300"
      ]
     },
     "execution_count": 46,
     "metadata": {},
     "output_type": "execute_result"
    }
   ],
   "source": [
    "len(data1['plot_sent_vectors'][26])"
   ]
  },
  {
   "cell_type": "code",
   "execution_count": 47,
   "id": "3c083fce",
   "metadata": {},
   "outputs": [],
   "source": [
    "from sklearn.cluster import KMeans\n",
    "sklearn_pca = PCA(n_components =2)\n",
    "Y_sklearn = sklearn_pca.fit_transform(data1['plot_sent_vectors'].tolist())\n",
    "kmeans = KMeans(n_clusters=7, max_iter=600, algorithm = 'auto')\n",
    "fitted = kmeans.fit(Y_sklearn)\n",
    "prediction = kmeans.predict(Y_sklearn)"
   ]
  },
  {
   "cell_type": "code",
   "execution_count": 48,
   "id": "3209e409",
   "metadata": {},
   "outputs": [
    {
     "data": {
      "image/png": "[encoded data removed]",
      "text/plain": [
       "<Figure size 432x288 with 1 Axes>"
      ]
     },
     "metadata": {
      "needs_background": "light"
     },
     "output_type": "display_data"
    }
   ],
   "source": [
    "import matplotlib.pyplot as plt\n",
    "plt.scatter(Y_sklearn[:, 0], Y_sklearn[:, 1], c=prediction, s=50, cmap='viridis')\n",
    "\n",
    "centers = fitted.cluster_centers_\n",
    "plt.scatter(centers[:, 0], centers[:, 1],c='black', s=300, alpha=1);"
   ]
  },
  {
   "cell_type": "code",
   "execution_count": 49,
   "id": "06922dbb",
   "metadata": {},
   "outputs": [],
   "source": [
    "X_train=data1['plot_sent_vectors']\n",
    "y_train=data1['Genre_updated']\n",
    "\n",
    "\n",
    "X_train, X_val, y_train, y_val = train_test_split(X_train,y_train,test_size=0.3,random_state=123,stratify=y_train)"
   ]
  },
  {
   "cell_type": "code",
   "execution_count": 50,
   "id": "a8a4e29d",
   "metadata": {},
   "outputs": [
    {
     "name": "stdout",
     "output_type": "stream",
     "text": [
      "Wall time: 4.24 s\n"
     ]
    },
    {
     "data": {
      "text/plain": [
       "RandomForestClassifier(n_jobs=-1, random_state=123)"
      ]
     },
     "execution_count": 50,
     "metadata": {},
     "output_type": "execute_result"
    }
   ],
   "source": [
    "%%time\n",
    "# random forest\n",
    "rf = RandomForestClassifier(n_estimators=100,random_state=123,n_jobs=-1)\n",
    "rf.fit(pd.DataFrame(X_train.tolist()), y_train) "
   ]
  },
  {
   "cell_type": "code",
   "execution_count": 51,
   "id": "574f9293",
   "metadata": {},
   "outputs": [
    {
     "name": "stdout",
     "output_type": "stream",
     "text": [
      "              precision    recall  f1-score   support\n",
      "\n",
      "      action       0.87      0.78      0.82       671\n",
      "      comedy       0.69      0.77      0.73      1963\n",
      "       crime       0.79      0.60      0.68       422\n",
      "       drama       0.73      0.83      0.78      2554\n",
      "      horror       0.93      0.78      0.85       440\n",
      "     romance       0.96      0.53      0.69       552\n",
      "    thriller       0.77      0.60      0.67       517\n",
      "\n",
      "    accuracy                           0.75      7119\n",
      "   macro avg       0.82      0.70      0.75      7119\n",
      "weighted avg       0.77      0.75      0.75      7119\n",
      "\n",
      "Confusion Matrix: [[ 525   43   12   76    4    0   11]\n",
      " [   2 1517    0  441    0    3    0]\n",
      " [  38   36  254   22   13    0   59]\n",
      " [   1  412    1 2129    0    9    2]\n",
      " [  13   24   12   31  341    0   19]\n",
      " [   0   99    0  158    0  295    0]\n",
      " [  27   63   42   69    7    1  308]]\n"
     ]
    }
   ],
   "source": [
    "y_pred=rf.predict(pd.DataFrame(X_val.tolist()))\n",
    "print(classification_report(y_val,y_pred))\n",
    "print('Confusion Matrix:',confusion_matrix(y_val, y_pred))"
   ]
  },
  {
   "cell_type": "code",
   "execution_count": null,
   "id": "917ceae0",
   "metadata": {},
   "outputs": [],
   "source": []
  },
  {
   "cell_type": "code",
   "execution_count": null,
   "id": "77409e6a",
   "metadata": {},
   "outputs": [],
   "source": []
  },
  {
   "cell_type": "code",
   "execution_count": null,
   "id": "2d134d06",
   "metadata": {
    "scrolled": true
   },
   "outputs": [],
   "source": []
  },
  {
   "cell_type": "markdown",
   "id": "810eb4e8",
   "metadata": {},
   "source": [
    "### text clustering using tfidf + kmeans/\n"
   ]
  },
  {
   "cell_type": "code",
   "execution_count": 52,
   "id": "5acce4ca",
   "metadata": {},
   "outputs": [
    {
     "data": {
      "text/html": [
       "<div>\n",
       "<style scoped>\n",
       "    .dataframe tbody tr th:only-of-type {\n",
       "        vertical-align: middle;\n",
       "    }\n",
       "\n",
       "    .dataframe tbody tr th {\n",
       "        vertical-align: top;\n",
       "    }\n",
       "\n",
       "    .dataframe thead th {\n",
       "        text-align: right;\n",
       "    }\n",
       "</style>\n",
       "<table border=\"1\" class=\"dataframe\">\n",
       "  <thead>\n",
       "    <tr style=\"text-align: right;\">\n",
       "      <th></th>\n",
       "      <th>Genre_updated</th>\n",
       "      <th>Plot_trimmed</th>\n",
       "      <th>plot_tokenized</th>\n",
       "      <th>plot_sent_vectors</th>\n",
       "    </tr>\n",
       "  </thead>\n",
       "  <tbody>\n",
       "    <tr>\n",
       "      <th>19</th>\n",
       "      <td>drama</td>\n",
       "      <td>day father mother take mother mother father re...</td>\n",
       "      <td>(day, father, mother, take, mother, mother, fa...</td>\n",
       "      <td>[0.1032419204711914, 0.247483491897583, -0.221...</td>\n",
       "    </tr>\n",
       "    <tr>\n",
       "      <th>20</th>\n",
       "      <td>drama</td>\n",
       "      <td>man two friend time home get house</td>\n",
       "      <td>(man, two, friend, time, home, get, house)</td>\n",
       "      <td>[0.04797285422682762, 0.16002286970615387, -0....</td>\n",
       "    </tr>\n",
       "    <tr>\n",
       "      <th>23</th>\n",
       "      <td>drama</td>\n",
       "      <td>film film go come meet life</td>\n",
       "      <td>(film, film, go, come, meet, life)</td>\n",
       "      <td>[0.16780917346477509, 0.010754327289760113, 0....</td>\n",
       "    </tr>\n",
       "    <tr>\n",
       "      <th>25</th>\n",
       "      <td>drama</td>\n",
       "      <td>time man</td>\n",
       "      <td>(time, man)</td>\n",
       "      <td>[-0.0003350004553794861, 0.24082499742507935, ...</td>\n",
       "    </tr>\n",
       "    <tr>\n",
       "      <th>26</th>\n",
       "      <td>drama</td>\n",
       "      <td>wife father time home one family later two tak...</td>\n",
       "      <td>(wife, father, time, home, one, family, later,...</td>\n",
       "      <td>[0.13027994334697723, 0.12841781973838806, -0....</td>\n",
       "    </tr>\n",
       "    <tr>\n",
       "      <th>...</th>\n",
       "      <td>...</td>\n",
       "      <td>...</td>\n",
       "      <td>...</td>\n",
       "      <td>...</td>\n",
       "    </tr>\n",
       "    <tr>\n",
       "      <th>41983</th>\n",
       "      <td>horror</td>\n",
       "      <td>try father family father</td>\n",
       "      <td>(try, father, family, father)</td>\n",
       "      <td>[0.03560420125722885, 0.22435325384140015, -0....</td>\n",
       "    </tr>\n",
       "    <tr>\n",
       "      <th>42154</th>\n",
       "      <td>horror</td>\n",
       "      <td>police death see friend one police home later ...</td>\n",
       "      <td>(police, death, see, friend, one, police, home...</td>\n",
       "      <td>[0.008886030875146389, 0.1903814971446991, -0....</td>\n",
       "    </tr>\n",
       "    <tr>\n",
       "      <th>42175</th>\n",
       "      <td>horror</td>\n",
       "      <td>one later later night two see see friend famil...</td>\n",
       "      <td>(one, later, later, night, two, see, see, frie...</td>\n",
       "      <td>[0.16172008216381073, 0.1151498556137085, -0.2...</td>\n",
       "    </tr>\n",
       "    <tr>\n",
       "      <th>42486</th>\n",
       "      <td>horror</td>\n",
       "      <td>friend attack one friend</td>\n",
       "      <td>(friend, attack, one, friend)</td>\n",
       "      <td>[-0.1163172572851181, 0.20903000235557556, -0....</td>\n",
       "    </tr>\n",
       "    <tr>\n",
       "      <th>42491</th>\n",
       "      <td>horror</td>\n",
       "      <td>mother one begin tell get</td>\n",
       "      <td>(mother, one, begin, tell, get)</td>\n",
       "      <td>[-0.033179402351379395, 0.1787894070148468, -0...</td>\n",
       "    </tr>\n",
       "  </tbody>\n",
       "</table>\n",
       "<p>23730 rows × 4 columns</p>\n",
       "</div>"
      ],
      "text/plain": [
       "      Genre_updated                                       Plot_trimmed  \\\n",
       "19            drama  day father mother take mother mother father re...   \n",
       "20            drama                 man two friend time home get house   \n",
       "23            drama                        film film go come meet life   \n",
       "25            drama                                           time man   \n",
       "26            drama  wife father time home one family later two tak...   \n",
       "...             ...                                                ...   \n",
       "41983        horror                           try father family father   \n",
       "42154        horror  police death see friend one police home later ...   \n",
       "42175        horror  one later later night two see see friend famil...   \n",
       "42486        horror                           friend attack one friend   \n",
       "42491        horror                          mother one begin tell get   \n",
       "\n",
       "                                          plot_tokenized  \\\n",
       "19     (day, father, mother, take, mother, mother, fa...   \n",
       "20            (man, two, friend, time, home, get, house)   \n",
       "23                    (film, film, go, come, meet, life)   \n",
       "25                                           (time, man)   \n",
       "26     (wife, father, time, home, one, family, later,...   \n",
       "...                                                  ...   \n",
       "41983                      (try, father, family, father)   \n",
       "42154  (police, death, see, friend, one, police, home...   \n",
       "42175  (one, later, later, night, two, see, see, frie...   \n",
       "42486                      (friend, attack, one, friend)   \n",
       "42491                    (mother, one, begin, tell, get)   \n",
       "\n",
       "                                       plot_sent_vectors  \n",
       "19     [0.1032419204711914, 0.247483491897583, -0.221...  \n",
       "20     [0.04797285422682762, 0.16002286970615387, -0....  \n",
       "23     [0.16780917346477509, 0.010754327289760113, 0....  \n",
       "25     [-0.0003350004553794861, 0.24082499742507935, ...  \n",
       "26     [0.13027994334697723, 0.12841781973838806, -0....  \n",
       "...                                                  ...  \n",
       "41983  [0.03560420125722885, 0.22435325384140015, -0....  \n",
       "42154  [0.008886030875146389, 0.1903814971446991, -0....  \n",
       "42175  [0.16172008216381073, 0.1151498556137085, -0.2...  \n",
       "42486  [-0.1163172572851181, 0.20903000235557556, -0....  \n",
       "42491  [-0.033179402351379395, 0.1787894070148468, -0...  \n",
       "\n",
       "[23730 rows x 4 columns]"
      ]
     },
     "execution_count": 52,
     "metadata": {},
     "output_type": "execute_result"
    }
   ],
   "source": [
    "data1"
   ]
  },
  {
   "cell_type": "code",
   "execution_count": 53,
   "id": "fe877146",
   "metadata": {},
   "outputs": [
    {
     "name": "stdout",
     "output_type": "stream",
     "text": [
      "Wall time: 683 ms\n"
     ]
    }
   ],
   "source": [
    "%%time\n",
    "tfidf_vectorizer = TfidfVectorizer(use_idf=True,ngram_range=(1,2))\n",
    "\n",
    "X_train_vectors_tfidf = tfidf_vectorizer.fit_transform(data1['Plot_trimmed']) \n"
   ]
  },
  {
   "cell_type": "code",
   "execution_count": 54,
   "id": "ae160d38",
   "metadata": {},
   "outputs": [
    {
     "data": {
      "text/plain": [
       "((23730, 2530), (9701, 8540), (6843, 8540))"
      ]
     },
     "execution_count": 54,
     "metadata": {},
     "output_type": "execute_result"
    }
   ],
   "source": [
    "X_train_vectors_tfidf.shape,X_val_vectors_tfidf.shape,X_test_vectors_tfidf.shape,"
   ]
  },
  {
   "cell_type": "code",
   "execution_count": 55,
   "id": "73a6bd2b",
   "metadata": {},
   "outputs": [],
   "source": [
    "tf_idf_norm=normalize(X_train_vectors_tfidf)"
   ]
  },
  {
   "cell_type": "code",
   "execution_count": 56,
   "id": "ff3c2989",
   "metadata": {},
   "outputs": [],
   "source": [
    "tf_idf_array = tf_idf_norm.toarray()\n"
   ]
  },
  {
   "cell_type": "code",
   "execution_count": 57,
   "id": "97d3be30",
   "metadata": {},
   "outputs": [],
   "source": [
    "from sklearn.cluster import KMeans\n",
    "sklearn_pca = PCA(n_components = 2)\n",
    "Y_sklearn = sklearn_pca.fit_transform(tf_idf_array)\n",
    "kmeans = KMeans(n_clusters=7, max_iter=600, algorithm = 'auto')\n",
    "fitted = kmeans.fit(Y_sklearn)\n",
    "prediction = kmeans.predict(Y_sklearn)"
   ]
  },
  {
   "cell_type": "code",
   "execution_count": 58,
   "id": "f078c181",
   "metadata": {},
   "outputs": [
    {
     "data": {
      "image/png": "[encoded data removed]",
      "text/plain": [
       "<Figure size 432x288 with 1 Axes>"
      ]
     },
     "metadata": {
      "needs_background": "light"
     },
     "output_type": "display_data"
    }
   ],
   "source": [
    "import matplotlib.pyplot as plt\n",
    "plt.scatter(Y_sklearn[:, 0], Y_sklearn[:, 1], c=prediction, s=50, cmap='viridis')\n",
    "\n",
    "centers = fitted.cluster_centers_\n",
    "plt.scatter(centers[:, 0], centers[:, 1],c='black', s=300, alpha=1);"
   ]
  },
  {
   "cell_type": "code",
   "execution_count": null,
   "id": "1352a61e",
   "metadata": {},
   "outputs": [],
   "source": []
  }
 ],
 "metadata": {
  "kernelspec": {
   "display_name": "Python 3",
   "language": "python",
   "name": "python3"
  },
  "language_info": {
   "codemirror_mode": {
    "name": "ipython",
    "version": 3
   },
   "file_extension": ".py",
   "mimetype": "text/x-python",
   "name": "python",
   "nbconvert_exporter": "python",
   "pygments_lexer": "ipython3",
   "version": "3.8.10"
  }
 },
 "nbformat": 4,
 "nbformat_minor": 5
}
