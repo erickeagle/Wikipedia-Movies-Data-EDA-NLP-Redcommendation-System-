{
 "cells": [
  {
   "cell_type": "code",
   "execution_count": 1,
   "id": "bd77b77c",
   "metadata": {
    "slideshow": {
     "slide_type": "slide"
    }
   },
   "outputs": [],
   "source": [
    "#importing the libraries\n",
    "import pandas as pd\n",
    "import pandas as pd\n",
    "import numpy as np\n",
    "import matplotlib.pyplot as plt\n",
    "import seaborn as sns\n",
    "import re\n",
    "import warnings\n",
    "warnings.filterwarnings(\"ignore\")\n",
    "import nltk\n",
    "from thefuzz import fuzz\n",
    "from thefuzz import process"
   ]
  },
  {
   "cell_type": "code",
   "execution_count": 5,
   "id": "0fac98f8",
   "metadata": {},
   "outputs": [
    {
     "name": "stdout",
     "output_type": "stream",
     "text": [
      "Wall time: 1.05 s\n"
     ]
    },
    {
     "data": {
      "text/plain": [
       "2265"
      ]
     },
     "execution_count": 5,
     "metadata": {},
     "output_type": "execute_result"
    }
   ],
   "source": [
    "%%time\n",
    "#loading the data\n",
    "\n",
    "df=pd.read_csv('wiki_movie_plots_deduped.csv')\n",
    "df['Genre'].nunique()"
   ]
  },
  {
   "cell_type": "code",
   "execution_count": 6,
   "id": "5de220b8",
   "metadata": {},
   "outputs": [],
   "source": [
    "# for splitting the multiple genre on the basics of ' ,' and making the new rows\n",
    "def genre(data):\n",
    "    df1 = pd.DataFrame(columns = ['Release Year', 'Title', 'Origin/Ethnicity', 'Director', 'Cast','Genre', 'Wiki Page', 'Plot', 'Genre_1','Genre_updated'])\n",
    "    for i,row in data.iterrows():\n",
    "        if len(row['Genre_1'].split(','))>1:\n",
    "            for i in row['Genre_1'].split(','):\n",
    "               # print(i)\n",
    "                df=pd.DataFrame(row).T\n",
    "                df['Genre_updated']=i\n",
    "                df1=pd.concat([df1,df])\n",
    "        else:\n",
    "            df=pd.DataFrame(row).T\n",
    "            df['Genre_updated']=df['Genre_1']\n",
    "            df1=pd.concat([df1,df])\n",
    "    df['Genre_updated']=df['Genre_updated'].apply(lambda x: x.strip())\n",
    "    return df1.reset_index(drop=True)"
   ]
  },
  {
   "cell_type": "code",
   "execution_count": 7,
   "id": "a914444b",
   "metadata": {},
   "outputs": [],
   "source": [
    "#Replacing the unknown with the null string\n",
    "df['Genre_1']= df['Genre'].str.replace(\"unknown\", \"\")\n"
   ]
  },
  {
   "cell_type": "code",
   "execution_count": 25,
   "id": "48c8f4b4",
   "metadata": {},
   "outputs": [],
   "source": [
    "#for checking the counts of each genre\n",
    "dax=df['Genre_1'].value_counts().rename_axis('Genres_1').reset_index(name='counts')\n",
    "#dax[:40]"
   ]
  },
  {
   "cell_type": "code",
   "execution_count": 24,
   "id": "6aa94c7c",
   "metadata": {
    "scrolled": true
   },
   "outputs": [],
   "source": [
    "#selecting the top 17 genre's\n",
    "#[i for i in dax['Genres_1'].to_list() if len(i.split())<2][1:18]"
   ]
  },
  {
   "cell_type": "code",
   "execution_count": 10,
   "id": "609d2336",
   "metadata": {},
   "outputs": [],
   "source": [
    "#storing the selected top 17 genre's and saving them into a variable choices\n",
    "choices = [i for i in dax['Genres_1'].to_list() if len(i.split())<2][1:18]\n"
   ]
  },
  {
   "cell_type": "code",
   "execution_count": 11,
   "id": "4bd3ce28",
   "metadata": {},
   "outputs": [],
   "source": [
    "#making the list of unique qenure's and the list containing the list of approximately same genre name \n",
    "\n",
    "li=[]\n",
    "def list_prep(data):\n",
    "    for i in data:\n",
    "        if i[1]==[]:\n",
    "            choices.append(i[0])\n",
    "        else:\n",
    "            li.append(i[0])\n",
    "        "
   ]
  },
  {
   "cell_type": "code",
   "execution_count": null,
   "id": "e4bd7521",
   "metadata": {},
   "outputs": [],
   "source": []
  },
  {
   "cell_type": "code",
   "execution_count": 16,
   "id": "49a660d9",
   "metadata": {},
   "outputs": [
    {
     "name": "stdout",
     "output_type": "stream",
     "text": [
      "Wall time: 1min 35s\n"
     ]
    }
   ],
   "source": [
    "%%time\n",
    "\n",
    "#looping over the list of quenres and making the list  of unique qenure's and the list containing the list of approximately same genre name  \n",
    "for i in range(10,len(dax['Genres_1'].to_list()),10):\n",
    "    inputt=dax['Genres_1'].to_list()[:i]\n",
    "    data=[[i,process.extractBests(i, choices,score_cutoff=80,limit=20)] for i in inputt if i not in choices if i not in li]\n",
    "    list_prep(data)\n"
   ]
  },
  {
   "cell_type": "code",
   "execution_count": 17,
   "id": "50d20a66",
   "metadata": {},
   "outputs": [],
   "source": [
    "# removing the extra spaces from the starting and ending\n",
    "df['Genre_1']=df['Genre_1'].apply(lambda x: x.strip())"
   ]
  },
  {
   "cell_type": "code",
   "execution_count": 23,
   "id": "685be1f7",
   "metadata": {
    "scrolled": true
   },
   "outputs": [],
   "source": [
    "#looking into the unique genre and checking the smiliar genre \n",
    "#[[row['Genres_1'],row['counts']] for i,row in dax.iterrows() if row['Genres_1'] in choices ]"
   ]
  },
  {
   "cell_type": "code",
   "execution_count": 19,
   "id": "fa6d7801",
   "metadata": {},
   "outputs": [],
   "source": [
    "# making the dict for mapping the names of same genres\n",
    "replace_dict={\n",
    "   \"science_friction\":\"sci_fi\",\n",
    "    \"sci fi\":\"sci_fi\",\n",
    "    \"science friction\":\"sci_fi\",\n",
    "    \"science fiction\":\"sci_fi\",\n",
    "    \"sci-fi\":\"sci_fi\",\n",
    "    \"amine\":\"animated\",\n",
    "    \"animation\":\"animated\",\n",
    "    \"cartoon\":\"animated\",\n",
    "    \"tokusatsu\": \"animated\",\n",
    "    \"superhero\": \"animated\",\n",
    "    \"suspense\": \"thriller\",\n",
    "    \"dramedy\": \"drama\",\n",
    "    \"blaxploitation\": \"exploitation\",\n",
    "    \"biopic\": \"biography\",\n",
    "    \"bio-pic\": \"biography\",\n",
    "    \"biographical\": \"biography\",\n",
    "    \"kung fu\": \"martial_arts\",\n",
    "    \"martial arts\": \"martial_arts\",\n",
    "    \"kung fu\": \"martial_arts\",\n",
    "    \"kung-fu\": \"martial_arts\",\n",
    "    \"film\": \"\",\n",
    "    \"neo-noir\": \"noir\",\n",
    "    \"devotional\": \"religious\",\n",
    "    \"children\": \"teen\",\n",
    "    \"porno\": \"adult\",\n",
    "    \"history\": \"historical\",\n",
    "    \"rom com\": \"romance-comedy\",\n",
    "    \"rom-com\": \"romance-comedy\",\n",
    "    \"love\": \"romance\",\n",
    "    \"periodic\":\"historical\",\n",
    "    \"period\":\"historical\",\n",
    "    \"football\":\"sports\",\n",
    "    \"youth\":'teen',\n",
    "    \"sexual\":\"adult\",\n",
    "    \"/\":\" \",\n",
    "    '-':' ',\n",
    "    \"slice of life\":'slice_of_life',\n",
    "    \"love\":\"romance\",\n",
    "}"
   ]
  },
  {
   "cell_type": "code",
   "execution_count": 20,
   "id": "801d71ae",
   "metadata": {},
   "outputs": [
    {
     "name": "stdout",
     "output_type": "stream",
     "text": [
      "Wall time: 553 ms\n"
     ]
    }
   ],
   "source": [
    "%%time\n",
    "#replacing the the genre names\n",
    "for key,items in replace_dict.items():\n",
    "    df['Genre_1']= df['Genre_1'].str.replace(key,items)\n",
    "df['Genre_1']=df['Genre_1'].apply(lambda x: x.strip())"
   ]
  },
  {
   "cell_type": "code",
   "execution_count": 21,
   "id": "2f76db48",
   "metadata": {},
   "outputs": [
    {
     "name": "stdout",
     "output_type": "stream",
     "text": [
      "Wall time: 2min 9s\n"
     ]
    }
   ],
   "source": [
    "%%time\n",
    "#splitting the multiple genre on the basics of ' ,' and making the new rows\n",
    "df=genre(df)"
   ]
  },
  {
   "cell_type": "code",
   "execution_count": null,
   "id": "dd4c4f0f",
   "metadata": {
    "scrolled": true
   },
   "outputs": [],
   "source": []
  },
  {
   "cell_type": "code",
   "execution_count": 28,
   "id": "6dda786d",
   "metadata": {},
   "outputs": [],
   "source": [
    "# removing the extra space after spliting the multiple genres\n",
    "df['Genre_updated']=df['Genre_updated'].apply(lambda x: x.strip())"
   ]
  },
  {
   "cell_type": "code",
   "execution_count": 29,
   "id": "4b07ba9c",
   "metadata": {},
   "outputs": [],
   "source": [
    "#repeating the same process from taking the top 17 genres and making the list of unique genres once again and list of common genres\n",
    "\n",
    "dax=df['Genre_updated'].value_counts().rename_axis('Genres_updated').reset_index(name='counts')\n",
    "choices = [i for i in dax['Genres_updated'].to_list() if len(i.split())<2][1:18]\n",
    "li=[]\n",
    "def list_prep(data):\n",
    "    for i in data:\n",
    "        if i[1]==[]:\n",
    "            choices.append(i[0])\n",
    "        else:\n",
    "            li.append(i[0])"
   ]
  },
  {
   "cell_type": "code",
   "execution_count": 30,
   "id": "725e3d2f",
   "metadata": {},
   "outputs": [
    {
     "name": "stdout",
     "output_type": "stream",
     "text": [
      "Wall time: 50.7 s\n"
     ]
    }
   ],
   "source": [
    "%%time\n",
    "# for slecting the single genres\n",
    "for i in range(10,len(dax['Genres_updated'].to_list()),10):\n",
    "    inputt=dax['Genres_updated'].to_list()[:i]\n",
    "    data=[[i,process.extractBests(i, choices,score_cutoff=80,limit=20)] for i in inputt if i not in choices if i not in li]\n",
    "    list_prep(data)"
   ]
  },
  {
   "cell_type": "code",
   "execution_count": 31,
   "id": "26e4dc14",
   "metadata": {},
   "outputs": [],
   "source": [
    "#making the final list of genres\n",
    "choices_final=[row['Genres_updated'] for i,row in dax.iterrows() if row['Genres_updated'] in choices if row['counts']>30]"
   ]
  },
  {
   "cell_type": "code",
   "execution_count": 32,
   "id": "660f3aa4",
   "metadata": {
    "scrolled": true
   },
   "outputs": [],
   "source": [
    "#choices_final"
   ]
  },
  {
   "cell_type": "code",
   "execution_count": 33,
   "id": "3a109188",
   "metadata": {
    "scrolled": true
   },
   "outputs": [],
   "source": [
    "#[[row['Genres_updated'],row['counts']] for i,row in dax.iterrows() if row['Genres_updated'] in choices_final ]\n",
    "#[row['Genres_updated'] for i,row in dax.iterrows() if row['Genres_updated'] in choices if row['counts']>30]"
   ]
  },
  {
   "cell_type": "code",
   "execution_count": 34,
   "id": "41926f3c",
   "metadata": {},
   "outputs": [],
   "source": [
    "# for changing the genre according to final list if the genre is single then it will be the same, if it contains the approximatelly same in the choices final list then returning the list of those genres else null string\n",
    "\n",
    "def genre_list(x):\n",
    "    if x in choices_final:\n",
    "        return x\n",
    "    elif process.extractBests(x, choices_final,score_cutoff=80,limit=20) !=[]:\n",
    "        #print(choices_final)\n",
    "        a=process.extractBests(x, choices_final,score_cutoff=80,limit=20)\n",
    "        #print(a)\n",
    "        return ','.join([a[i][0] for i in range(len(a))])\n",
    "    else:\n",
    "        return ''"
   ]
  },
  {
   "cell_type": "code",
   "execution_count": 23,
   "id": "97e6044e",
   "metadata": {},
   "outputs": [
    {
     "data": {
      "text/plain": [
       "'drama,romance'"
      ]
     },
     "execution_count": 23,
     "metadata": {},
     "output_type": "execute_result"
    }
   ],
   "source": [
    "#genre_list('drama romance')"
   ]
  },
  {
   "cell_type": "code",
   "execution_count": null,
   "id": "7dc3c43f",
   "metadata": {},
   "outputs": [],
   "source": []
  },
  {
   "cell_type": "code",
   "execution_count": 35,
   "id": "6bdd761c",
   "metadata": {},
   "outputs": [
    {
     "name": "stdout",
     "output_type": "stream",
     "text": [
      "Wall time: 1min 10s\n"
     ]
    }
   ],
   "source": [
    "%%time\n",
    "# changing the genre according to final list if the genre is single then it will be the same, if it contains the approximatelly same in the choices final list then returning the list of those genres else null string\n",
    "\n",
    "df['Genre_updated']=df['Genre_updated'].apply(lambda x: genre_list(x))"
   ]
  },
  {
   "cell_type": "code",
   "execution_count": null,
   "id": "004d0902",
   "metadata": {},
   "outputs": [],
   "source": []
  },
  {
   "cell_type": "code",
   "execution_count": 37,
   "id": "547ce21f",
   "metadata": {},
   "outputs": [],
   "source": [
    "# for again splitting on the basics of the ','\n",
    "def genre_updated(data):\n",
    "    df1 = pd.DataFrame(columns = ['Release Year', 'Title', 'Origin/Ethnicity', 'Director', 'Cast','Genre', 'Wiki Page', 'Plot','Genre_1','Genre_updated','Genre_updated1'])\n",
    "    for i,row in data.iterrows():\n",
    "        if len(row['Genre_updated'].split(','))>1:\n",
    "            for i in row['Genre_updated'].split(','):\n",
    "               # print(i)\n",
    "                df=pd.DataFrame(row).T\n",
    "                df['Genre_updated1']=i\n",
    "                df1=pd.concat([df1,df])\n",
    "        else:\n",
    "            df=pd.DataFrame(row).T\n",
    "            df['Genre_updated1']=df['Genre_updated']\n",
    "            df1=pd.concat([df1,df])\n",
    "    df['Genre_updated1']=df['Genre_updated1'].apply(lambda x: x.strip())       \n",
    "    return df1.reset_index(drop=True)"
   ]
  },
  {
   "cell_type": "code",
   "execution_count": 38,
   "id": "3ad5e56b",
   "metadata": {},
   "outputs": [
    {
     "name": "stdout",
     "output_type": "stream",
     "text": [
      "Wall time: 2min 33s\n"
     ]
    }
   ],
   "source": [
    "%%time\n",
    "#splitting multiple genres on the basics of ' , '\n",
    "new_df=genre_updated(df)"
   ]
  },
  {
   "cell_type": "code",
   "execution_count": 39,
   "id": "7479286f",
   "metadata": {},
   "outputs": [
    {
     "data": {
      "text/plain": [
       "drama           9513\n",
       "comedy          7295\n",
       "                6950\n",
       "action          2473\n",
       "romance         1986\n",
       "thriller        1924\n",
       "crime           1604\n",
       "horror          1593\n",
       "western          974\n",
       "musical          960\n",
       "sci_fi           932\n",
       "animated         905\n",
       "adventure        868\n",
       "family           635\n",
       "war              604\n",
       "fantasy          561\n",
       "mystery          481\n",
       "biography        457\n",
       "noir             358\n",
       "historical       285\n",
       "short            242\n",
       "social           223\n",
       "anime            143\n",
       "spy              142\n",
       "martial_arts     133\n",
       "documentary      130\n",
       "sports           126\n",
       "teen             100\n",
       "serial            83\n",
       "Name: Genre_updated1, dtype: int64"
      ]
     },
     "execution_count": 39,
     "metadata": {},
     "output_type": "execute_result"
    }
   ],
   "source": [
    "# checking the value count of each genre\n",
    "new_df['Genre_updated1'].value_counts()"
   ]
  },
  {
   "cell_type": "code",
   "execution_count": 40,
   "id": "11b3c638",
   "metadata": {},
   "outputs": [],
   "source": [
    "#saving the updated dataframe into csv\n",
    "new_df.drop_duplicates().drop(['Genre_1','Genre_updated'],axis=1).rename(columns={'Genre_updated1': 'Genre_updated'}).to_csv('wiki_movie_plots_deduped_cleaned_genre.csv',index=False)"
   ]
  },
  {
   "cell_type": "code",
   "execution_count": null,
   "id": "fdc44e53",
   "metadata": {},
   "outputs": [],
   "source": []
  },
  {
   "cell_type": "code",
   "execution_count": null,
   "id": "1c770a2e",
   "metadata": {},
   "outputs": [],
   "source": []
  },
  {
   "cell_type": "code",
   "execution_count": null,
   "id": "ab84536e",
   "metadata": {},
   "outputs": [],
   "source": []
  },
  {
   "cell_type": "code",
   "execution_count": null,
   "id": "e31f754e",
   "metadata": {},
   "outputs": [],
   "source": []
  },
  {
   "cell_type": "code",
   "execution_count": null,
   "id": "50949fdb",
   "metadata": {},
   "outputs": [],
   "source": []
  },
  {
   "cell_type": "code",
   "execution_count": null,
   "id": "3b95a740",
   "metadata": {},
   "outputs": [],
   "source": []
  },
  {
   "cell_type": "code",
   "execution_count": null,
   "id": "223c065a",
   "metadata": {},
   "outputs": [],
   "source": []
  }
 ],
 "metadata": {
  "kernelspec": {
   "display_name": "Python 3",
   "language": "python",
   "name": "python3"
  },
  "language_info": {
   "codemirror_mode": {
    "name": "ipython",
    "version": 3
   },
   "file_extension": ".py",
   "mimetype": "text/x-python",
   "name": "python",
   "nbconvert_exporter": "python",
   "pygments_lexer": "ipython3",
   "version": "3.8.10"
  }
 },
 "nbformat": 4,
 "nbformat_minor": 5
}
