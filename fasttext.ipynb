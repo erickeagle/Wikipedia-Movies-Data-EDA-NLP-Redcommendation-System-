{
 "cells": [
  {
   "cell_type": "code",
   "execution_count": 1,
   "metadata": {
    "colab": {
     "base_uri": "https://localhost:8080/"
    },
    "id": "-XpLur8NioTw",
    "outputId": "1cb426fb-d1a8-43ca-e61b-0be38f303186"
   },
   "outputs": [
    {
     "name": "stdout",
     "output_type": "stream",
     "text": [
      "Collecting fastText\n",
      "  Downloading fasttext-0.9.2.tar.gz (68 kB)\n",
      "\u001b[K     |████████████████████████████████| 68 kB 1.1 MB/s \n",
      "\u001b[?25hCollecting pybind11>=2.2\n",
      "  Using cached pybind11-2.8.1-py2.py3-none-any.whl (208 kB)\n",
      "Requirement already satisfied: setuptools>=0.7.0 in /usr/local/lib/python3.7/dist-packages (from fastText) (57.4.0)\n",
      "Requirement already satisfied: numpy in /usr/local/lib/python3.7/dist-packages (from fastText) (1.19.5)\n",
      "Building wheels for collected packages: fastText\n",
      "  Building wheel for fastText (setup.py) ... \u001b[?25l\u001b[?25hdone\n",
      "  Created wheel for fastText: filename=fasttext-0.9.2-cp37-cp37m-linux_x86_64.whl size=3123584 sha256=2a2377a13c55615933cea18067f1c143cbf87ef0534c5f9ba92d52b61b394610\n",
      "  Stored in directory: /root/.cache/pip/wheels/4e/ca/bf/b020d2be95f7641801a6597a29c8f4f19e38f9c02a345bab9b\n",
      "Successfully built fastText\n",
      "Installing collected packages: pybind11, fastText\n",
      "Successfully installed fastText-0.9.2 pybind11-2.8.1\n"
     ]
    }
   ],
   "source": [
    "#instaaling the fastText\n",
    "#!pip install fastText"
   ]
  },
  {
   "cell_type": "markdown",
   "metadata": {
    "id": "ofaPH0rwiv8B"
   },
   "source": [
    "### importing the libraries"
   ]
  },
  {
   "cell_type": "code",
   "execution_count": 3,
   "metadata": {
    "id": "TpNJlEe_kSb-"
   },
   "outputs": [],
   "source": [
    "import pandas as pd\n",
    "import numpy as np\n",
    "from sklearn.model_selection import train_test_split\n",
    "from sklearn.feature_extraction.text import TfidfVectorizer, TfidfTransformer\n",
    "from sklearn.feature_extraction.text import CountVectorizer\n",
    "from sklearn.pipeline import Pipeline\n",
    "from sklearn.decomposition import PCA\n",
    "from sklearn.preprocessing import normalize\n",
    "from sklearn.metrics import pairwise_distances\n",
    "from gensim.utils import simple_preprocess\n",
    "import csv\n",
    "import fasttext\n",
    "from fasttext import train_supervised "
   ]
  },
  {
   "cell_type": "code",
   "execution_count": 6,
   "metadata": {
    "colab": {
     "base_uri": "https://localhost:8080/"
    },
    "id": "cF93MS2XkSY7",
    "outputId": "d802b6f9-c29d-47ff-9ebd-247261c32f8c"
   },
   "outputs": [
    {
     "name": "stdout",
     "output_type": "stream",
     "text": [
      "CPU times: user 36.8 s, sys: 290 ms, total: 37.1 s\n",
      "Wall time: 37.2 s\n"
     ]
    },
    {
     "name": "stderr",
     "output_type": "stream",
     "text": [
      "/usr/local/lib/python3.7/dist-packages/ipykernel_launcher.py:9: SettingWithCopyWarning: \n",
      "A value is trying to be set on a copy of a slice from a DataFrame.\n",
      "Try using .loc[row_indexer,col_indexer] = value instead\n",
      "\n",
      "See the caveats in the documentation: https://pandas.pydata.org/pandas-docs/stable/user_guide/indexing.html#returning-a-view-versus-a-copy\n",
      "  if __name__ == '__main__':\n",
      "/usr/local/lib/python3.7/dist-packages/ipykernel_launcher.py:10: SettingWithCopyWarning: \n",
      "A value is trying to be set on a copy of a slice from a DataFrame\n",
      "\n",
      "See the caveats in the documentation: https://pandas.pydata.org/pandas-docs/stable/user_guide/indexing.html#returning-a-view-versus-a-copy\n",
      "  # Remove the CWD from sys.path while we load stuff.\n"
     ]
    }
   ],
   "source": [
    "%%time\n",
    "\n",
    "'''\n",
    "importing the data of genre and plot and most frequent words in the plot column\n",
    "making a dict for each genre of most common words\n",
    "then splitting the data into Train and test \n",
    "and making a function that trims the plot column using the most common word on the training data\n",
    "'''\n",
    "df=pd.read_csv('wiki_movie_plots_deduped_cleaned_genre_and_plot.csv')\n",
    "data=pd.read_csv(\"most_frequent_words_30.csv\")\n",
    "dict_words={i:(data[data['Genre']==i]['Words']).to_list() for i in data['Genre'].unique()}\n",
    "def reduce_words(x):\n",
    "    return ' '.join([i for i in x['Plot_cleanned'].split() if i in  dict_words[x['Genre_updated']]])\n",
    "    \n",
    "Train=df[~pd.isnull(df['Genre_updated'])]\n",
    "Test=df[pd.isnull(df['Genre_updated'])]\n",
    "Train['Plot_trimmed']=Train[['Genre_updated','Plot_cleanned']].apply(lambda x: reduce_words(x),axis=1)\n",
    "Train.drop_duplicates(subset='Plot_trimmed',inplace=True) #removing the duplicate columns\n"
   ]
  },
  {
   "cell_type": "code",
   "execution_count": 7,
   "metadata": {
    "colab": {
     "base_uri": "https://localhost:8080/"
    },
    "id": "suc-WeoSkSWw",
    "outputId": "dfcc9a37-bdc1-4000-f6dd-02adc277b21b"
   },
   "outputs": [
    {
     "name": "stdout",
     "output_type": "stream",
     "text": [
      "CPU times: user 41.1 ms, sys: 1.98 ms, total: 43.1 ms\n",
      "Wall time: 43.6 ms\n"
     ]
    }
   ],
   "source": [
    "%%time\n",
    "# splitting the data into train, val and test \n",
    "\n",
    "X_train=Train['Plot_trimmed']\n",
    "y_train=Train['Genre_updated']\n",
    "\n",
    "\n",
    "X_train, X_val, y_train, y_val = train_test_split(X_train,y_train,test_size=0.3,random_state=123,stratify=y_train)\n",
    "\n",
    "\n",
    "X_test=Test['Plot_cleanned']\n",
    "y_test=Test['Genre_updated']"
   ]
  },
  {
   "cell_type": "code",
   "execution_count": 32,
   "metadata": {
    "colab": {
     "base_uri": "https://localhost:8080/"
    },
    "id": "Qru5GpDwuUTM",
    "outputId": "32ba5804-1c4b-4963-b817-4d84a6450b0c"
   },
   "outputs": [
    {
     "name": "stderr",
     "output_type": "stream",
     "text": [
      "/usr/local/lib/python3.7/dist-packages/ipykernel_launcher.py:1: SettingWithCopyWarning: \n",
      "A value is trying to be set on a copy of a slice from a DataFrame.\n",
      "Try using .loc[row_indexer,col_indexer] = value instead\n",
      "\n",
      "See the caveats in the documentation: https://pandas.pydata.org/pandas-docs/stable/user_guide/indexing.html#returning-a-view-versus-a-copy\n",
      "  \"\"\"Entry point for launching an IPython kernel.\n"
     ]
    }
   ],
   "source": [
    "# fastText is auto text classification model so for identifying the label we have to make all the classes/labels start with  '__label__'\n",
    "\n",
    "Train['Genre_updated']=Train['Genre_updated'].apply(lambda x: '__label__' + x)"
   ]
  },
  {
   "cell_type": "code",
   "execution_count": 49,
   "metadata": {
    "id": "lXlWNEhIkSUV"
   },
   "outputs": [],
   "source": [
    "#making the txt file for training and testing the fasttext model\n",
    "\n",
    "train_file =  '/train.txt'\n",
    "Train[:20000].to_csv(train_file, index = False, \n",
    "                                          sep = ' ',\n",
    "                                          header = None, \n",
    "                                          quoting = csv.QUOTE_NONE, \n",
    "                                          quotechar = \"\", \n",
    "                                          escapechar = \" \", columns=['Plot_trimmed','Genre_updated'] )\n",
    "\n",
    "test_file = '/test.txt'\n",
    "Train[20000:].to_csv(test_file,  index = False, \n",
    "                                          sep = ' ',\n",
    "                                          header = None, \n",
    "                                          quoting = csv.QUOTE_NONE, \n",
    "                                          quotechar = \"\", \n",
    "                                          escapechar = \" \", columns=['Plot_trimmed','Genre_updated'] )"
   ]
  },
  {
   "cell_type": "code",
   "execution_count": 52,
   "metadata": {
    "colab": {
     "base_uri": "https://localhost:8080/"
    },
    "id": "8wOv1OhYkSNa",
    "outputId": "bfe4286a-ee49-4a72-bc03-6f6aa1b0c275"
   },
   "outputs": [
    {
     "data": {
      "text/plain": [
       "(12334, 0.7086914220852927, 0.7086914220852927)"
      ]
     },
     "execution_count": 52,
     "metadata": {},
     "output_type": "execute_result"
    }
   ],
   "source": [
    "# Evaluating performance on the entire test file \n",
    "model = train_supervised('/train.txt', wordNgrams = 2)\n",
    "model.test('/test.txt')     "
   ]
  },
  {
   "cell_type": "code",
   "execution_count": 55,
   "metadata": {
    "colab": {
     "base_uri": "https://localhost:8080/"
    },
    "id": "Xrv4wxW3kSSB",
    "outputId": "7869c40b-5855-4850-ba75-fb6553b261d8"
   },
   "outputs": [
    {
     "data": {
      "text/plain": [
       "(12334, 0.7101508026593157, 0.7101508026593157)"
      ]
     },
     "execution_count": 55,
     "metadata": {},
     "output_type": "execute_result"
    }
   ],
   "source": [
    "# Evaluating performance on the entire test file with added parameters\n",
    "model = train_supervised(input=train_file, label=\"__label__\", lr=1.0, epoch=75, loss='ova', wordNgrams=2, dim=200, thread=2, verbose=100)\n",
    "model.test(test_file)"
   ]
  },
  {
   "cell_type": "code",
   "execution_count": 63,
   "metadata": {
    "colab": {
     "base_uri": "https://localhost:8080/"
    },
    "id": "XOOeF8rIw59I",
    "outputId": "cd6c36fe-caa5-4e8c-ae1c-ba09d041937f"
   },
   "outputs": [
    {
     "data": {
      "text/plain": [
       "{'__label__action': {'f1score': 1.7295873573309921,\n",
       "  'precision': 0.8647936786654961,\n",
       "  'recall': nan},\n",
       " '__label__adventure': {'f1score': 0.9897959183673469,\n",
       "  'precision': 0.49489795918367346,\n",
       "  'recall': nan},\n",
       " '__label__animated': {'f1score': 1.5666666666666667,\n",
       "  'precision': 0.7833333333333333,\n",
       "  'recall': nan},\n",
       " '__label__anime': {'f1score': 0.0, 'precision': 0.0, 'recall': nan},\n",
       " '__label__biography': {'f1score': 1.0666666666666667,\n",
       "  'precision': 0.5333333333333333,\n",
       "  'recall': nan},\n",
       " '__label__comedy': {'f1score': 1.2424489795918368,\n",
       "  'precision': 0.6212244897959184,\n",
       "  'recall': nan},\n",
       " '__label__crime': {'f1score': 1.3858267716535433,\n",
       "  'precision': 0.6929133858267716,\n",
       "  'recall': nan},\n",
       " '__label__documentary': {'f1score': 0.7547169811320755,\n",
       "  'precision': 0.37735849056603776,\n",
       "  'recall': nan},\n",
       " '__label__drama': {'f1score': 1.5018418815528478,\n",
       "  'precision': 0.7509209407764239,\n",
       "  'recall': nan},\n",
       " '__label__family': {'f1score': 1.2095238095238094,\n",
       "  'precision': 0.6047619047619047,\n",
       "  'recall': nan},\n",
       " '__label__fantasy': {'f1score': 1.2830188679245282,\n",
       "  'precision': 0.6415094339622641,\n",
       "  'recall': nan},\n",
       " '__label__historical': {'f1score': 1.5280898876404494,\n",
       "  'precision': 0.7640449438202247,\n",
       "  'recall': nan},\n",
       " '__label__horror': {'f1score': 1.780885780885781,\n",
       "  'precision': 0.8904428904428905,\n",
       "  'recall': nan},\n",
       " '__label__martial_arts': {'f1score': 1.8571428571428572,\n",
       "  'precision': 0.9285714285714286,\n",
       "  'recall': nan},\n",
       " '__label__musical': {'f1score': 1.1744186046511629,\n",
       "  'precision': 0.5872093023255814,\n",
       "  'recall': nan},\n",
       " '__label__mystery': {'f1score': 0.9733333333333334,\n",
       "  'precision': 0.4866666666666667,\n",
       "  'recall': nan},\n",
       " '__label__noir': {'f1score': 0.0, 'precision': 0.0, 'recall': nan},\n",
       " '__label__romance': {'f1score': 1.7646188008882309,\n",
       "  'precision': 0.8823094004441154,\n",
       "  'recall': nan},\n",
       " '__label__sci_fi': {'f1score': 1.3539823008849559,\n",
       "  'precision': 0.6769911504424779,\n",
       "  'recall': nan},\n",
       " '__label__serial': {'f1score': 0.0, 'precision': 0.0, 'recall': nan},\n",
       " '__label__short': {'f1score': 0.5128205128205128,\n",
       "  'precision': 0.2564102564102564,\n",
       "  'recall': nan},\n",
       " '__label__social': {'f1score': 0.11557788944723618,\n",
       "  'precision': 0.05778894472361809,\n",
       "  'recall': nan},\n",
       " '__label__sports': {'f1score': 1.7307692307692308,\n",
       "  'precision': 0.8653846153846154,\n",
       "  'recall': nan},\n",
       " '__label__spy': {'f1score': 1.813953488372093,\n",
       "  'precision': 0.9069767441860465,\n",
       "  'recall': nan},\n",
       " '__label__teen': {'f1score': 1.1428571428571428,\n",
       "  'precision': 0.5714285714285714,\n",
       "  'recall': nan},\n",
       " '__label__thriller': {'f1score': 1.5925349922239502,\n",
       "  'precision': 0.7962674961119751,\n",
       "  'recall': nan},\n",
       " '__label__war': {'f1score': 1.7941176470588236,\n",
       "  'precision': 0.8970588235294118,\n",
       "  'recall': nan},\n",
       " '__label__western': {'f1score': 0.4074074074074074,\n",
       "  'precision': 0.2037037037037037,\n",
       "  'recall': nan}}"
      ]
     },
     "execution_count": 63,
     "metadata": {},
     "output_type": "execute_result"
    }
   ],
   "source": [
    "model.test_label(test_file)"
   ]
  },
  {
   "cell_type": "code",
   "execution_count": 70,
   "metadata": {
    "colab": {
     "base_uri": "https://localhost:8080/"
    },
    "id": "JybbtAQwkSIq",
    "outputId": "f5882925-04e8-493c-da53-83458741338d"
   },
   "outputs": [
    {
     "data": {
      "text/plain": [
       "(('__label__social',), array([1.00000034e-05]))"
      ]
     },
     "execution_count": 70,
     "metadata": {},
     "output_type": "execute_result"
    }
   ],
   "source": [
    "#predicting on the single test data\n",
    "model.predict(X_test[0])"
   ]
  },
  {
   "cell_type": "code",
   "execution_count": null,
   "metadata": {
    "id": "QAtLoeYOkSGQ"
   },
   "outputs": [],
   "source": []
  },
  {
   "cell_type": "code",
   "execution_count": null,
   "metadata": {
    "id": "We1VCO1hxWPo"
   },
   "outputs": [],
   "source": []
  }
 ],
 "metadata": {
  "colab": {
   "collapsed_sections": [],
   "name": "fasttext.ipynb",
   "provenance": []
  },
  "kernelspec": {
   "display_name": "Python 3",
   "language": "python",
   "name": "python3"
  },
  "language_info": {
   "codemirror_mode": {
    "name": "ipython",
    "version": 3
   },
   "file_extension": ".py",
   "mimetype": "text/x-python",
   "name": "python",
   "nbconvert_exporter": "python",
   "pygments_lexer": "ipython3",
   "version": "3.8.10"
  }
 },
 "nbformat": 4,
 "nbformat_minor": 1
}
