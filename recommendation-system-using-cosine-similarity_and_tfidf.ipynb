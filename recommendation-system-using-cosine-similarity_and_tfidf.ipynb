{
 "cells": [
  {
   "cell_type": "code",
   "execution_count": 44,
   "id": "e38a79c0",
   "metadata": {},
   "outputs": [],
   "source": [
    "#importing the libraries\n",
    "\n",
    "import pandas as pd\n",
    "import numpy as np\n",
    "from sklearn.model_selection import train_test_split\n",
    "from sklearn.feature_extraction.text import TfidfVectorizer, TfidfTransformer\n",
    "from sklearn.feature_extraction.text import CountVectorizer\n",
    "from sklearn.metrics.pairwise import cosine_similarity \n",
    "import ml_metrics as metrics"
   ]
  },
  {
   "cell_type": "code",
   "execution_count": 2,
   "id": "4565cc46",
   "metadata": {},
   "outputs": [
    {
     "data": {
      "text/html": [
       "<div>\n",
       "<style scoped>\n",
       "    .dataframe tbody tr th:only-of-type {\n",
       "        vertical-align: middle;\n",
       "    }\n",
       "\n",
       "    .dataframe tbody tr th {\n",
       "        vertical-align: top;\n",
       "    }\n",
       "\n",
       "    .dataframe thead th {\n",
       "        text-align: right;\n",
       "    }\n",
       "</style>\n",
       "<table border=\"1\" class=\"dataframe\">\n",
       "  <thead>\n",
       "    <tr style=\"text-align: right;\">\n",
       "      <th></th>\n",
       "      <th>Release Year</th>\n",
       "      <th>Title</th>\n",
       "      <th>Origin/Ethnicity</th>\n",
       "      <th>Director</th>\n",
       "      <th>Cast</th>\n",
       "      <th>Genre</th>\n",
       "      <th>Genre_updated</th>\n",
       "      <th>Wiki Page</th>\n",
       "      <th>Plot</th>\n",
       "      <th>Plot_cleanned</th>\n",
       "    </tr>\n",
       "  </thead>\n",
       "  <tbody>\n",
       "    <tr>\n",
       "      <th>0</th>\n",
       "      <td>1901</td>\n",
       "      <td>Kansas Saloon Smashers</td>\n",
       "      <td>American</td>\n",
       "      <td>Unknown</td>\n",
       "      <td>NaN</td>\n",
       "      <td>unknown</td>\n",
       "      <td>NaN</td>\n",
       "      <td>https://en.wikipedia.org/wiki/Kansas_Saloon_Sm...</td>\n",
       "      <td>A bartender is working at a saloon, serving dr...</td>\n",
       "      <td>bartender working saloon serving drink custome...</td>\n",
       "    </tr>\n",
       "    <tr>\n",
       "      <th>1</th>\n",
       "      <td>1901</td>\n",
       "      <td>Love by the Light of the Moon</td>\n",
       "      <td>American</td>\n",
       "      <td>Unknown</td>\n",
       "      <td>NaN</td>\n",
       "      <td>unknown</td>\n",
       "      <td>NaN</td>\n",
       "      <td>https://en.wikipedia.org/wiki/Love_by_the_Ligh...</td>\n",
       "      <td>The moon, painted with a smiling face hangs ov...</td>\n",
       "      <td>moon painted smiling face hang park night youn...</td>\n",
       "    </tr>\n",
       "    <tr>\n",
       "      <th>2</th>\n",
       "      <td>1901</td>\n",
       "      <td>The Martyred Presidents</td>\n",
       "      <td>American</td>\n",
       "      <td>Unknown</td>\n",
       "      <td>NaN</td>\n",
       "      <td>unknown</td>\n",
       "      <td>NaN</td>\n",
       "      <td>https://en.wikipedia.org/wiki/The_Martyred_Pre...</td>\n",
       "      <td>The film, just over a minute long, is composed...</td>\n",
       "      <td>film minute long composed two shot first girl ...</td>\n",
       "    </tr>\n",
       "    <tr>\n",
       "      <th>3</th>\n",
       "      <td>1901</td>\n",
       "      <td>Terrible Teddy, the Grizzly King</td>\n",
       "      <td>American</td>\n",
       "      <td>Unknown</td>\n",
       "      <td>NaN</td>\n",
       "      <td>unknown</td>\n",
       "      <td>NaN</td>\n",
       "      <td>https://en.wikipedia.org/wiki/Terrible_Teddy,_...</td>\n",
       "      <td>Lasting just 61 seconds and consisting of two ...</td>\n",
       "      <td>lasting second consisting two shot first shot ...</td>\n",
       "    </tr>\n",
       "    <tr>\n",
       "      <th>4</th>\n",
       "      <td>1902</td>\n",
       "      <td>Jack and the Beanstalk</td>\n",
       "      <td>American</td>\n",
       "      <td>George S. Fleming, Edwin S. Porter</td>\n",
       "      <td>NaN</td>\n",
       "      <td>unknown</td>\n",
       "      <td>NaN</td>\n",
       "      <td>https://en.wikipedia.org/wiki/Jack_and_the_Bea...</td>\n",
       "      <td>The earliest known adaptation of the classic f...</td>\n",
       "      <td>earliest known adaptation classic fairytale fi...</td>\n",
       "    </tr>\n",
       "    <tr>\n",
       "      <th>...</th>\n",
       "      <td>...</td>\n",
       "      <td>...</td>\n",
       "      <td>...</td>\n",
       "      <td>...</td>\n",
       "      <td>...</td>\n",
       "      <td>...</td>\n",
       "      <td>...</td>\n",
       "      <td>...</td>\n",
       "      <td>...</td>\n",
       "      <td>...</td>\n",
       "    </tr>\n",
       "    <tr>\n",
       "      <th>42530</th>\n",
       "      <td>2014</td>\n",
       "      <td>The Water Diviner</td>\n",
       "      <td>Turkish</td>\n",
       "      <td>Director: Russell Crowe</td>\n",
       "      <td>Director: Russell Crowe\\r\\nCast: Russell Crowe...</td>\n",
       "      <td>unknown</td>\n",
       "      <td>NaN</td>\n",
       "      <td>https://en.wikipedia.org/wiki/The_Water_Diviner</td>\n",
       "      <td>The film begins in 1919, just after World War ...</td>\n",
       "      <td>film begin wxyz world war ended centre around ...</td>\n",
       "    </tr>\n",
       "    <tr>\n",
       "      <th>42531</th>\n",
       "      <td>2017</td>\n",
       "      <td>Çalgı Çengi İkimiz</td>\n",
       "      <td>Turkish</td>\n",
       "      <td>Selçuk Aydemir</td>\n",
       "      <td>Ahmet Kural, Murat Cemcir</td>\n",
       "      <td>comedy</td>\n",
       "      <td>comedy</td>\n",
       "      <td>https://en.wikipedia.org/wiki/%C3%87alg%C4%B1_...</td>\n",
       "      <td>Two musicians, Salih and Gürkan, described the...</td>\n",
       "      <td>two musician salih gürkan described adventure ...</td>\n",
       "    </tr>\n",
       "    <tr>\n",
       "      <th>42532</th>\n",
       "      <td>2017</td>\n",
       "      <td>Olanlar Oldu</td>\n",
       "      <td>Turkish</td>\n",
       "      <td>Hakan Algül</td>\n",
       "      <td>Ata Demirer, Tuvana Türkay, Ülkü Duru</td>\n",
       "      <td>comedy</td>\n",
       "      <td>comedy</td>\n",
       "      <td>https://en.wikipedia.org/wiki/Olanlar_Oldu</td>\n",
       "      <td>Zafer, a sailor living with his mother Döndü i...</td>\n",
       "      <td>zafer sailor living mother döndü coastal villa...</td>\n",
       "    </tr>\n",
       "    <tr>\n",
       "      <th>42533</th>\n",
       "      <td>2017</td>\n",
       "      <td>Non-Transferable</td>\n",
       "      <td>Turkish</td>\n",
       "      <td>Brendan Bradley</td>\n",
       "      <td>YouTubers Shanna Malcolm, Shira Lazar, Sara Fl...</td>\n",
       "      <td>romantic comedy</td>\n",
       "      <td>comedy</td>\n",
       "      <td>https://en.wikipedia.org/wiki/Non-Transferable...</td>\n",
       "      <td>The film centres around a young woman named Am...</td>\n",
       "      <td>film centre around young woman named amy tyler...</td>\n",
       "    </tr>\n",
       "    <tr>\n",
       "      <th>42534</th>\n",
       "      <td>2017</td>\n",
       "      <td>İstanbul Kırmızısı</td>\n",
       "      <td>Turkish</td>\n",
       "      <td>Ferzan Özpetek</td>\n",
       "      <td>Halit Ergenç, Tuba Büyüküstün, Mehmet Günsür, ...</td>\n",
       "      <td>romantic</td>\n",
       "      <td>romance</td>\n",
       "      <td>https://en.wikipedia.org/wiki/%C4%B0stanbul_K%...</td>\n",
       "      <td>The writer Orhan Şahin returns to İstanbul aft...</td>\n",
       "      <td>writer orhan şahin return i̇stanbul many year ...</td>\n",
       "    </tr>\n",
       "  </tbody>\n",
       "</table>\n",
       "<p>42535 rows × 10 columns</p>\n",
       "</div>"
      ],
      "text/plain": [
       "       Release Year                             Title Origin/Ethnicity  \\\n",
       "0              1901            Kansas Saloon Smashers         American   \n",
       "1              1901     Love by the Light of the Moon         American   \n",
       "2              1901           The Martyred Presidents         American   \n",
       "3              1901  Terrible Teddy, the Grizzly King         American   \n",
       "4              1902            Jack and the Beanstalk         American   \n",
       "...             ...                               ...              ...   \n",
       "42530          2014                 The Water Diviner          Turkish   \n",
       "42531          2017                Çalgı Çengi İkimiz          Turkish   \n",
       "42532          2017                      Olanlar Oldu          Turkish   \n",
       "42533          2017                  Non-Transferable          Turkish   \n",
       "42534          2017                İstanbul Kırmızısı          Turkish   \n",
       "\n",
       "                                 Director  \\\n",
       "0                                 Unknown   \n",
       "1                                 Unknown   \n",
       "2                                 Unknown   \n",
       "3                                 Unknown   \n",
       "4      George S. Fleming, Edwin S. Porter   \n",
       "...                                   ...   \n",
       "42530             Director: Russell Crowe   \n",
       "42531                      Selçuk Aydemir   \n",
       "42532                         Hakan Algül   \n",
       "42533                     Brendan Bradley   \n",
       "42534                      Ferzan Özpetek   \n",
       "\n",
       "                                                    Cast            Genre  \\\n",
       "0                                                    NaN          unknown   \n",
       "1                                                    NaN          unknown   \n",
       "2                                                    NaN          unknown   \n",
       "3                                                    NaN          unknown   \n",
       "4                                                    NaN          unknown   \n",
       "...                                                  ...              ...   \n",
       "42530  Director: Russell Crowe\\r\\nCast: Russell Crowe...          unknown   \n",
       "42531                          Ahmet Kural, Murat Cemcir           comedy   \n",
       "42532              Ata Demirer, Tuvana Türkay, Ülkü Duru           comedy   \n",
       "42533  YouTubers Shanna Malcolm, Shira Lazar, Sara Fl...  romantic comedy   \n",
       "42534  Halit Ergenç, Tuba Büyüküstün, Mehmet Günsür, ...         romantic   \n",
       "\n",
       "      Genre_updated                                          Wiki Page  \\\n",
       "0               NaN  https://en.wikipedia.org/wiki/Kansas_Saloon_Sm...   \n",
       "1               NaN  https://en.wikipedia.org/wiki/Love_by_the_Ligh...   \n",
       "2               NaN  https://en.wikipedia.org/wiki/The_Martyred_Pre...   \n",
       "3               NaN  https://en.wikipedia.org/wiki/Terrible_Teddy,_...   \n",
       "4               NaN  https://en.wikipedia.org/wiki/Jack_and_the_Bea...   \n",
       "...             ...                                                ...   \n",
       "42530           NaN    https://en.wikipedia.org/wiki/The_Water_Diviner   \n",
       "42531        comedy  https://en.wikipedia.org/wiki/%C3%87alg%C4%B1_...   \n",
       "42532        comedy         https://en.wikipedia.org/wiki/Olanlar_Oldu   \n",
       "42533        comedy  https://en.wikipedia.org/wiki/Non-Transferable...   \n",
       "42534       romance  https://en.wikipedia.org/wiki/%C4%B0stanbul_K%...   \n",
       "\n",
       "                                                    Plot  \\\n",
       "0      A bartender is working at a saloon, serving dr...   \n",
       "1      The moon, painted with a smiling face hangs ov...   \n",
       "2      The film, just over a minute long, is composed...   \n",
       "3      Lasting just 61 seconds and consisting of two ...   \n",
       "4      The earliest known adaptation of the classic f...   \n",
       "...                                                  ...   \n",
       "42530  The film begins in 1919, just after World War ...   \n",
       "42531  Two musicians, Salih and Gürkan, described the...   \n",
       "42532  Zafer, a sailor living with his mother Döndü i...   \n",
       "42533  The film centres around a young woman named Am...   \n",
       "42534  The writer Orhan Şahin returns to İstanbul aft...   \n",
       "\n",
       "                                           Plot_cleanned  \n",
       "0      bartender working saloon serving drink custome...  \n",
       "1      moon painted smiling face hang park night youn...  \n",
       "2      film minute long composed two shot first girl ...  \n",
       "3      lasting second consisting two shot first shot ...  \n",
       "4      earliest known adaptation classic fairytale fi...  \n",
       "...                                                  ...  \n",
       "42530  film begin wxyz world war ended centre around ...  \n",
       "42531  two musician salih gürkan described adventure ...  \n",
       "42532  zafer sailor living mother döndü coastal villa...  \n",
       "42533  film centre around young woman named amy tyler...  \n",
       "42534  writer orhan şahin return i̇stanbul many year ...  \n",
       "\n",
       "[42535 rows x 10 columns]"
      ]
     },
     "execution_count": 2,
     "metadata": {},
     "output_type": "execute_result"
    }
   ],
   "source": [
    "#importing the data of the cleanned genre and plot\n",
    "df=pd.read_csv('wiki_movie_plots_deduped_cleaned_genre_and_plot.csv')\n",
    "df"
   ]
  },
  {
   "cell_type": "code",
   "execution_count": 3,
   "id": "7e97f822",
   "metadata": {},
   "outputs": [
    {
     "data": {
      "text/html": [
       "<div>\n",
       "<style scoped>\n",
       "    .dataframe tbody tr th:only-of-type {\n",
       "        vertical-align: middle;\n",
       "    }\n",
       "\n",
       "    .dataframe tbody tr th {\n",
       "        vertical-align: top;\n",
       "    }\n",
       "\n",
       "    .dataframe thead th {\n",
       "        text-align: right;\n",
       "    }\n",
       "</style>\n",
       "<table border=\"1\" class=\"dataframe\">\n",
       "  <thead>\n",
       "    <tr style=\"text-align: right;\">\n",
       "      <th></th>\n",
       "      <th>Genre</th>\n",
       "      <th>Words</th>\n",
       "      <th>Counts</th>\n",
       "    </tr>\n",
       "  </thead>\n",
       "  <tbody>\n",
       "    <tr>\n",
       "      <th>0</th>\n",
       "      <td>western</td>\n",
       "      <td>town</td>\n",
       "      <td>1144</td>\n",
       "    </tr>\n",
       "    <tr>\n",
       "      <th>1</th>\n",
       "      <td>western</td>\n",
       "      <td>men</td>\n",
       "      <td>940</td>\n",
       "    </tr>\n",
       "    <tr>\n",
       "      <th>2</th>\n",
       "      <td>western</td>\n",
       "      <td>take</td>\n",
       "      <td>683</td>\n",
       "    </tr>\n",
       "    <tr>\n",
       "      <th>3</th>\n",
       "      <td>western</td>\n",
       "      <td>back</td>\n",
       "      <td>672</td>\n",
       "    </tr>\n",
       "    <tr>\n",
       "      <th>4</th>\n",
       "      <td>western</td>\n",
       "      <td>one</td>\n",
       "      <td>671</td>\n",
       "    </tr>\n",
       "    <tr>\n",
       "      <th>...</th>\n",
       "      <td>...</td>\n",
       "      <td>...</td>\n",
       "      <td>...</td>\n",
       "    </tr>\n",
       "    <tr>\n",
       "      <th>835</th>\n",
       "      <td>anime</td>\n",
       "      <td>help</td>\n",
       "      <td>95</td>\n",
       "    </tr>\n",
       "    <tr>\n",
       "      <th>836</th>\n",
       "      <td>anime</td>\n",
       "      <td>begin</td>\n",
       "      <td>94</td>\n",
       "    </tr>\n",
       "    <tr>\n",
       "      <th>837</th>\n",
       "      <td>anime</td>\n",
       "      <td>father</td>\n",
       "      <td>93</td>\n",
       "    </tr>\n",
       "    <tr>\n",
       "      <th>838</th>\n",
       "      <td>anime</td>\n",
       "      <td>attack</td>\n",
       "      <td>91</td>\n",
       "    </tr>\n",
       "    <tr>\n",
       "      <th>839</th>\n",
       "      <td>anime</td>\n",
       "      <td>nobita</td>\n",
       "      <td>90</td>\n",
       "    </tr>\n",
       "  </tbody>\n",
       "</table>\n",
       "<p>840 rows × 3 columns</p>\n",
       "</div>"
      ],
      "text/plain": [
       "       Genre   Words  Counts\n",
       "0    western    town    1144\n",
       "1    western     men     940\n",
       "2    western    take     683\n",
       "3    western    back     672\n",
       "4    western     one     671\n",
       "..       ...     ...     ...\n",
       "835    anime    help      95\n",
       "836    anime   begin      94\n",
       "837    anime  father      93\n",
       "838    anime  attack      91\n",
       "839    anime  nobita      90\n",
       "\n",
       "[840 rows x 3 columns]"
      ]
     },
     "execution_count": 3,
     "metadata": {},
     "output_type": "execute_result"
    }
   ],
   "source": [
    "#importing the data of most frequent words/common words in the plot column for each genre\n",
    "data=pd.read_csv(\"most_frequent_words_30.csv\")\n",
    "data"
   ]
  },
  {
   "cell_type": "code",
   "execution_count": 4,
   "id": "a23337d5",
   "metadata": {},
   "outputs": [],
   "source": [
    "#making a dict for the \n",
    "dict_words={i:(data[data['Genre']==i]['Words']).to_list() for i in data['Genre'].unique()}\n",
    "#dict_words"
   ]
  },
  {
   "cell_type": "code",
   "execution_count": 5,
   "id": "f6716da0",
   "metadata": {},
   "outputs": [],
   "source": [
    "def reduce_words(x):\n",
    "    return ' '.join([i for i in x['Plot_cleanned'].split() if i in  dict_words[x['Genre_updated']]])\n",
    "     "
   ]
  },
  {
   "cell_type": "code",
   "execution_count": 6,
   "id": "8eb25088",
   "metadata": {},
   "outputs": [
    {
     "name": "stdout",
     "output_type": "stream",
     "text": [
      "Wall time: 1min 11s\n"
     ]
    },
    {
     "name": "stderr",
     "output_type": "stream",
     "text": [
      "<timed exec>:5: SettingWithCopyWarning: \n",
      "A value is trying to be set on a copy of a slice from a DataFrame.\n",
      "Try using .loc[row_indexer,col_indexer] = value instead\n",
      "\n",
      "See the caveats in the documentation: https://pandas.pydata.org/pandas-docs/stable/user_guide/indexing.html#returning-a-view-versus-a-copy\n"
     ]
    }
   ],
   "source": [
    "%%time\n",
    "Train=df[~pd.isnull(df['Genre_updated'])]\n",
    "Test=df[pd.isnull(df['Genre_updated'])]\n",
    "\n",
    "\n",
    "Train['Plot_trimmed']=Train[['Genre_updated','Plot_cleanned']].apply(lambda x: reduce_words(x),axis=1)\n"
   ]
  },
  {
   "cell_type": "code",
   "execution_count": 7,
   "id": "8910e0c0",
   "metadata": {},
   "outputs": [
    {
     "name": "stdout",
     "output_type": "stream",
     "text": [
      "Wall time: 323 ms\n"
     ]
    }
   ],
   "source": [
    "%%time\n",
    "\n",
    "X_train=Train['Plot_trimmed']\n",
    "y_train=Train['Genre_updated']\n",
    "\n",
    "\n",
    "X_train, X_val, y_train, y_val = train_test_split(X_train,y_train,test_size=0.3,random_state=123,stratify=y_train)\n",
    "\n",
    "\n",
    "X_test=Test['Plot_cleanned']\n",
    "y_test=Test['Genre_updated']"
   ]
  },
  {
   "cell_type": "code",
   "execution_count": 8,
   "id": "72277317",
   "metadata": {},
   "outputs": [
    {
     "name": "stdout",
     "output_type": "stream",
     "text": [
      "Wall time: 2.4 s\n"
     ]
    }
   ],
   "source": [
    "%%time\n",
    "tfidf_vectorizer = TfidfVectorizer(use_idf=True,ngram_range=(1,2))\n",
    "\n",
    "X_train_vectors_tfidf = tfidf_vectorizer.fit_transform(X_train) \n",
    "\n",
    "X_val_vectors_tfidf = tfidf_vectorizer.transform(X_val) \n",
    "\n",
    "\n",
    "X_test_vectors_tfidf = tfidf_vectorizer.transform(X_test)"
   ]
  },
  {
   "cell_type": "code",
   "execution_count": 9,
   "id": "ee5dea67",
   "metadata": {},
   "outputs": [],
   "source": [
    "cosine_sim= cosine_similarity(X_train_vectors_tfidf , X_train_vectors_tfidf )"
   ]
  },
  {
   "cell_type": "code",
   "execution_count": 10,
   "id": "3e98746e",
   "metadata": {},
   "outputs": [
    {
     "name": "stdout",
     "output_type": "stream",
     "text": [
      "[[1.         0.1365039  0.05496735 ... 0.06114691 0.05109519 0.        ]\n",
      " [0.1365039  1.         0.03812398 ... 0.1286287  0.1747382  0.01574389]\n",
      " [0.05496735 0.03812398 1.         ... 0.10606514 0.08400621 0.1060241 ]\n",
      " ...\n",
      " [0.06114691 0.1286287  0.10606514 ... 1.         0.07129796 0.07263758]\n",
      " [0.05109519 0.1747382  0.08400621 ... 0.07129796 1.         0.03934499]\n",
      " [0.         0.01574389 0.1060241  ... 0.07263758 0.03934499 1.        ]]\n"
     ]
    }
   ],
   "source": [
    "print(cosine_sim)"
   ]
  },
  {
   "cell_type": "code",
   "execution_count": 11,
   "id": "ebf489f1",
   "metadata": {},
   "outputs": [
    {
     "data": {
      "text/plain": [
       "Title\n",
       "The Great Train Robbery                                  6\n",
       "The Suburbanite                                          7\n",
       "Dream of a Rarebit Fiend                                10\n",
       "From Leadville to Aspen: A Hold-Up in the Rockies       11\n",
       "From Leadville to Aspen: A Hold-Up in the Rockies       12\n",
       "                                                     ...  \n",
       "Particle (film)                                      42526\n",
       "Çalgı Çengi İkimiz                                   42531\n",
       "Olanlar Oldu                                         42532\n",
       "Non-Transferable                                     42533\n",
       "İstanbul Kırmızısı                                   42534\n",
       "Length: 35692, dtype: int64"
      ]
     },
     "execution_count": 11,
     "metadata": {},
     "output_type": "execute_result"
    }
   ],
   "source": [
    "indices = pd.Series(Train.index, index=Train['Title']).drop_duplicates()\n",
    "indices"
   ]
  },
  {
   "cell_type": "code",
   "execution_count": 47,
   "id": "20dfa068",
   "metadata": {},
   "outputs": [],
   "source": [
    "def get_recommendations(title, cosine_sim, indices):\n",
    "    idx = indices[title]\n",
    "    sim_scores = list(enumerate(cosine_sim[idx]))\n",
    "    sim_scores = sorted(sim_scores, key=lambda x: x[1], reverse=True)\n",
    "    sim_scores = sim_scores[1:20]\n",
    "    movie_indices = [i[0] for i in sim_scores]\n",
    "    return set(Train['Title'].iloc[movie_indices])"
   ]
  },
  {
   "cell_type": "code",
   "execution_count": 48,
   "id": "c0b828cb",
   "metadata": {},
   "outputs": [
    {
     "data": {
      "text/plain": [
       "['The Last Blitzkrieg',\n",
       " 'Daleks – Invasion Earth: 2150 A.D.',\n",
       " 'The First Great Train Robbery',\n",
       " 'Horsemen',\n",
       " \"Mother's Meat and Freud's Flesh\",\n",
       " 'The Eve of St. Mark',\n",
       " 'Edge of Darkness',\n",
       " 'Atlas Shrugged: Part I',\n",
       " 'Ivy',\n",
       " 'Perfect Stranger',\n",
       " 'Cheap Thrills (film)',\n",
       " 'The Dark Tower',\n",
       " 'Violet & Daisy',\n",
       " 'The Unfaithful',\n",
       " 'Young Billy Young',\n",
       " 'The Wizard of Gore',\n",
       " \"The Wildcats of St Trinian's\",\n",
       " 'Good-bye, My Lady',\n",
       " 'Blind Dating']"
      ]
     },
     "execution_count": 48,
     "metadata": {},
     "output_type": "execute_result"
    }
   ],
   "source": [
    "recom=list(get_recommendations('The Suburbanite', cosine_sim, indices))\n",
    "recom"
   ]
  },
  {
   "cell_type": "code",
   "execution_count": null,
   "id": "83b77049",
   "metadata": {},
   "outputs": [],
   "source": []
  },
  {
   "cell_type": "code",
   "execution_count": 49,
   "id": "871cb1fa",
   "metadata": {},
   "outputs": [
    {
     "data": {
      "text/plain": [
       "1.0"
      ]
     },
     "execution_count": 49,
     "metadata": {},
     "output_type": "execute_result"
    }
   ],
   "source": [
    "metrics.average_precision.apk(list(indices.keys()),recom,10)"
   ]
  },
  {
   "cell_type": "code",
   "execution_count": 50,
   "id": "ab5bce68",
   "metadata": {},
   "outputs": [
    {
     "data": {
      "text/plain": [
       "0.34234753550543023"
      ]
     },
     "execution_count": 50,
     "metadata": {},
     "output_type": "execute_result"
    }
   ],
   "source": [
    "metrics.average_precision.mapk(list(indices.keys()),recom,10)"
   ]
  },
  {
   "cell_type": "code",
   "execution_count": null,
   "id": "4f74f6ef",
   "metadata": {},
   "outputs": [],
   "source": []
  }
 ],
 "metadata": {
  "kernelspec": {
   "display_name": "Python 3",
   "language": "python",
   "name": "python3"
  },
  "language_info": {
   "codemirror_mode": {
    "name": "ipython",
    "version": 3
   },
   "file_extension": ".py",
   "mimetype": "text/x-python",
   "name": "python",
   "nbconvert_exporter": "python",
   "pygments_lexer": "ipython3",
   "version": "3.8.10"
  }
 },
 "nbformat": 4,
 "nbformat_minor": 5
}
